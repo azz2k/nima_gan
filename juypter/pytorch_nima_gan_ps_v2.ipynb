{
 "cells": [
  {
   "cell_type": "markdown",
   "metadata": {},
   "source": [
    "https://github.com/masterTW/Tensorflow_NIMA_Food_Photo_Aesthetic_Evaluation\n",
    "\n",
    "https://pytorch.org/tutorials/beginner/dcgan_faces_tutorial.html"
   ]
  },
  {
   "cell_type": "code",
   "execution_count": 1,
   "metadata": {},
   "outputs": [
    {
     "name": "stdout",
     "output_type": "stream",
     "text": [
      "Requirement already up-to-date: pip in /usr/local/lib/python3.6/dist-packages (20.0.2)\n",
      "Requirement already satisfied: tqdm in /usr/local/lib/python3.6/dist-packages (4.43.0)\n",
      "Requirement already satisfied: seaborn in /usr/local/lib/python3.6/dist-packages (0.10.0)\n",
      "Requirement already satisfied: torchsummary in /usr/local/lib/python3.6/dist-packages (1.5.1)\n",
      "Requirement already satisfied: scipy>=1.0.1 in /usr/local/lib/python3.6/dist-packages (from seaborn) (1.3.0)\n",
      "Requirement already satisfied: pandas>=0.22.0 in /usr/local/lib/python3.6/dist-packages (from seaborn) (0.25.0)\n",
      "Requirement already satisfied: numpy>=1.13.3 in /usr/local/lib/python3.6/dist-packages (from seaborn) (1.17.0)\n",
      "Requirement already satisfied: matplotlib>=2.1.2 in /usr/local/lib/python3.6/dist-packages (from seaborn) (3.1.1)\n",
      "Requirement already satisfied: pytz>=2017.2 in /usr/local/lib/python3.6/dist-packages (from pandas>=0.22.0->seaborn) (2019.2)\n",
      "Requirement already satisfied: python-dateutil>=2.6.1 in /usr/local/lib/python3.6/dist-packages (from pandas>=0.22.0->seaborn) (2.8.0)\n",
      "Requirement already satisfied: kiwisolver>=1.0.1 in /usr/local/lib/python3.6/dist-packages (from matplotlib>=2.1.2->seaborn) (1.1.0)\n",
      "Requirement already satisfied: pyparsing!=2.0.4,!=2.1.2,!=2.1.6,>=2.0.1 in /usr/local/lib/python3.6/dist-packages (from matplotlib>=2.1.2->seaborn) (2.4.2)\n",
      "Requirement already satisfied: cycler>=0.10 in /usr/local/lib/python3.6/dist-packages (from matplotlib>=2.1.2->seaborn) (0.10.0)\n",
      "Requirement already satisfied: six>=1.5 in /usr/local/lib/python3.6/dist-packages (from python-dateutil>=2.6.1->pandas>=0.22.0->seaborn) (1.12.0)\n",
      "Requirement already satisfied: setuptools in /usr/local/lib/python3.6/dist-packages (from kiwisolver>=1.0.1->matplotlib>=2.1.2->seaborn) (41.0.1)\n"
     ]
    }
   ],
   "source": [
    "!pip3 install --upgrade pip\n",
    "!pip3 install tqdm seaborn torchsummary"
   ]
  },
  {
   "cell_type": "code",
   "execution_count": 2,
   "metadata": {},
   "outputs": [
    {
     "name": "stdout",
     "output_type": "stream",
     "text": [
      "data  smaller  smaller.tar\r\n"
     ]
    }
   ],
   "source": [
    "!cp /storage/smaller.tar /dev/shm/\n",
    "!mkdir /dev/shm/data/\n",
    "!mkdir /dev/shm/data/small_good\n",
    "!tar -xf /dev/shm/smaller.tar -C /dev/shm/\n",
    "!ls /dev/shm/"
   ]
  },
  {
   "cell_type": "code",
   "execution_count": 3,
   "metadata": {},
   "outputs": [],
   "source": [
    "import os\n",
    "import io\n",
    "import tarfile\n",
    "import numpy as np\n",
    "import pandas as pd\n",
    "from tqdm.auto import tqdm\n",
    "import sys\n",
    "import argparse\n",
    "import os\n",
    "import random\n",
    "import shutil\n",
    "import time\n",
    "\n",
    "import matplotlib.pyplot as plt\n",
    "import matplotlib.animation as animation\n",
    "from IPython.display import HTML\n",
    "import seaborn as sns\n",
    "\n",
    "import torch\n",
    "import torch.nn as nn\n",
    "import torch.nn.parallel\n",
    "import torch.backends.cudnn as cudnn\n",
    "import torch.optim as optim\n",
    "import torch.utils.data\n",
    "import torchvision.datasets as dset\n",
    "import torchvision.transforms as transforms\n",
    "import torchvision.utils as vutils\n",
    "import torchsummary"
   ]
  },
  {
   "cell_type": "code",
   "execution_count": 4,
   "metadata": {},
   "outputs": [
    {
     "name": "stdout",
     "output_type": "stream",
     "text": [
      "Random Seed:  999\n"
     ]
    },
    {
     "data": {
      "text/plain": [
       "<torch._C.Generator at 0x7ff728759070>"
      ]
     },
     "execution_count": 4,
     "metadata": {},
     "output_type": "execute_result"
    }
   ],
   "source": [
    "#%matplotlib inline\n",
    "\n",
    "# Set random seed for reproducibility\n",
    "manualSeed = 999\n",
    "#manualSeed = random.randint(1, 10000) # use if you want new results\n",
    "\n",
    "print(\"Random Seed: \", manualSeed)\n",
    "random.seed(manualSeed)\n",
    "torch.manual_seed(manualSeed)"
   ]
  },
  {
   "cell_type": "code",
   "execution_count": 5,
   "metadata": {},
   "outputs": [
    {
     "name": "stdout",
     "output_type": "stream",
     "text": [
      "True 1 Quadro P5000\n"
     ]
    }
   ],
   "source": [
    "print(torch.cuda.is_available(), torch.cuda.device_count(), torch.cuda.get_device_name(0))"
   ]
  },
  {
   "cell_type": "code",
   "execution_count": 6,
   "metadata": {},
   "outputs": [
    {
     "name": "stdout",
     "output_type": "stream",
     "text": [
      "953349.jpg does not exist\n",
      "953645.jpg does not exist\n",
      "953897.jpg does not exist\n",
      "567829.jpg does not exist\n",
      "638163.jpg does not exist\n",
      "104855.jpg does not exist\n",
      "430454.jpg does not exist\n"
     ]
    }
   ],
   "source": [
    "# Here we filter the well scored images from out dataset for use in our GAN\n",
    "if len(os.listdir(\"/dev/shm/data/small_good/\")) < 100:\n",
    "  # load labels\n",
    "  all_labels = pd.read_csv(\"/storage/AVA.txt\",\n",
    "                            sep = \" \",\n",
    "                            names=[\"id\", \n",
    "                                  \"img_id\",\n",
    "                                  \"r_01\", \n",
    "                                  \"r_02\", \n",
    "                                  \"r_03\", \n",
    "                                  \"r_04\", \n",
    "                                  \"r_05\", \n",
    "                                  \"r_06\", \n",
    "                                  \"r_07\", \n",
    "                                  \"r_08\", \n",
    "                                  \"r_09\", \n",
    "                                  \"r_10\",\n",
    "                                  \"im_tag_1\",\n",
    "                                  \"im_tag_2\",\n",
    "                                  \"challenge_id\"])\n",
    "\n",
    "  # normalize ratings\n",
    "  all_labels[\"r_sum\"] = all_labels.iloc[:,2:12].sum(axis=1)\n",
    "  for i in range(1, 11):\n",
    "    col_name = \"r_\" + str(i).rjust(2, \"0\")\n",
    "    all_labels[col_name] = all_labels[col_name].astype(\"float\") / all_labels[\"r_sum\"]\n",
    "\n",
    "  # reduce labels to the stuff we need\n",
    "  reduced_labels = all_labels.drop([\"id\", \"im_tag_1\", \"im_tag_2\", \"challenge_id\", \"r_sum\"], axis = 1)\n",
    "\n",
    "  for index, row in reduced_labels.iterrows():\n",
    "    img_id = int(row[\"img_id\"])\n",
    "    img_name = str(img_id) + \".jpg\"\n",
    "    score = row[1:].to_numpy().dot(np.array([1,2,3,4,5,6,7,8,9,10]))\n",
    "    if score > 6:\n",
    "      try:\n",
    "        shutil.copyfile(os.path.join(\"/dev/shm/smaller/\", img_name), os.path.join(\"/dev/shm/data/small_good/\", img_name))\n",
    "      except:\n",
    "        print(img_name + \" does not exist\")"
   ]
  },
  {
   "cell_type": "code",
   "execution_count": 7,
   "metadata": {},
   "outputs": [],
   "source": [
    "# Root directory for dataset\n",
    "dataroot = \"/dev/shm/data/\"\n",
    "\n",
    "# Number of workers for dataloader\n",
    "workers = 2\n",
    "\n",
    "# Batch size during training\n",
    "batch_size = 64\n",
    "\n",
    "# Spatial size of training images. All images will be resized to this\n",
    "#   size using a transformer.\n",
    "image_size = 96\n",
    "\n",
    "# Number of channels in the training images. For color images this is 3\n",
    "nc = 3\n",
    "\n",
    "# Size of z latent vector (i.e. size of generator input)\n",
    "nz = 100\n",
    "\n",
    "# Size of feature maps in generator\n",
    "ngf = 64\n",
    "\n",
    "# Size of feature maps in discriminator\n",
    "ndf = 64\n",
    "\n",
    "# Number of training epochs\n",
    "num_epochs = 60\n",
    "\n",
    "# Learning rate for optimizers\n",
    "lr = 0.0002\n",
    "\n",
    "# Beta1 hyperparam for Adam optimizers\n",
    "beta1 = 0.5\n",
    "\n",
    "# Magnitude of noise to add to generator output and real images\n",
    "img_noise_mag = 0.01\n",
    "\n",
    "# Number of GPUs available. Use 0 for CPU mode.\n",
    "ngpu = 1"
   ]
  },
  {
   "cell_type": "code",
   "execution_count": null,
   "metadata": {},
   "outputs": [],
   "source": [
    "# We can use an image folder dataset the way we have it setup.\n",
    "# Create the dataset\n",
    "dataset = dset.ImageFolder(root=dataroot,\n",
    "                           transform=transforms.Compose([\n",
    "                               #transforms.Resize(image_size),\n",
    "                               #transforms.CenterCrop(image_size),\n",
    "                               transforms.RandomHorizontalFlip(p=0.5),\n",
    "                               transforms.ToTensor(),\n",
    "                               transforms.Normalize((0.5, 0.5, 0.5), (0.5, 0.5, 0.5)),\n",
    "                           ]))\n",
    "# Create the dataloader\n",
    "dataloader = torch.utils.data.DataLoader(dataset, batch_size=batch_size,\n",
    "                                         shuffle=True, num_workers=workers)\n",
    "\n",
    "# Decide which device we want to run on\n",
    "device = torch.device(\"cuda:0\" if (torch.cuda.is_available() and ngpu > 0) else \"cpu\")\n",
    "\n",
    "print(device, batch_size, len(dataloader))\n",
    "\n",
    "# Plot some training images\n",
    "real_batch = next(iter(dataloader))\n",
    "plt.figure(figsize=(8,8), dpi=128)\n",
    "plt.axis(\"off\")\n",
    "plt.title(\"Training Images\")\n",
    "plt.imshow(np.transpose(vutils.make_grid(real_batch[0].to(device)[:64], padding=2, normalize=True).cpu(),(1,2,0)))\n",
    "plt.show()"
   ]
  },
  {
   "cell_type": "code",
   "execution_count": 9,
   "metadata": {},
   "outputs": [],
   "source": [
    "# custom weights initialization called on netG and netD\n",
    "def weights_init(m):\n",
    "  classname = m.__class__.__name__\n",
    "  if classname.find('Conv') != -1:\n",
    "    nn.init.normal_(m.weight.data, 0.0, 0.02)\n",
    "  elif classname.find('BatchNorm') != -1:\n",
    "    nn.init.normal_(m.weight.data, 1.0, 0.02)\n",
    "    nn.init.constant_(m.bias.data, 0)"
   ]
  },
  {
   "cell_type": "code",
   "execution_count": 10,
   "metadata": {},
   "outputs": [],
   "source": [
    "# Generator Code\n",
    "\n",
    "class Generator(nn.Module):\n",
    "  def __init__(self, ngpu):\n",
    "    super(Generator, self).__init__()\n",
    "    self.ngpu = ngpu\n",
    "    self.main = nn.Sequential(\n",
    "      nn.ConvTranspose2d(in_channels=nz, \n",
    "                         out_channels=ngf*16, \n",
    "                         kernel_size=3, \n",
    "                         stride=1, \n",
    "                         padding=0, \n",
    "                         bias=False),\n",
    "      nn.BatchNorm2d(num_features=ngf*16),\n",
    "      nn.ReLU(True),\n",
    "      nn.ConvTranspose2d(in_channels=ngf*16, \n",
    "                         out_channels=ngf*8, \n",
    "                         kernel_size=4, \n",
    "                         stride=2, \n",
    "                         padding=1, \n",
    "                         bias=False),\n",
    "      nn.BatchNorm2d(num_features=ngf*8),\n",
    "      nn.ReLU(True),\n",
    "      nn.ConvTranspose2d(in_channels=ngf*8, \n",
    "                         out_channels=ngf*4, \n",
    "                         kernel_size=4, \n",
    "                         stride=2, \n",
    "                         padding=1, \n",
    "                         bias=False),\n",
    "      nn.BatchNorm2d(num_features=ngf*4),\n",
    "      nn.ReLU(True),\n",
    "      nn.ConvTranspose2d(in_channels=ngf*4, \n",
    "                         out_channels=ngf*2, \n",
    "                         kernel_size=4, \n",
    "                         stride=2, \n",
    "                         padding=1, \n",
    "                         bias=False),\n",
    "      nn.BatchNorm2d(num_features=ngf*2),\n",
    "      nn.ReLU(True),\n",
    "      nn.ConvTranspose2d(in_channels=ngf*2, \n",
    "                         out_channels=ngf, \n",
    "                         kernel_size=4, \n",
    "                         stride=2, \n",
    "                         padding=1, \n",
    "                         bias=False),\n",
    "      nn.BatchNorm2d(num_features=ngf),\n",
    "      nn.ReLU(True),\n",
    "      nn.ConvTranspose2d(in_channels=ngf, \n",
    "                         out_channels=nc, \n",
    "                         kernel_size=4, \n",
    "                         stride=2, \n",
    "                         padding=1, \n",
    "                         bias=False),\n",
    "      nn.Tanh()\n",
    "    )\n",
    "  def forward(self, input):\n",
    "      return self.main(input)"
   ]
  },
  {
   "cell_type": "code",
   "execution_count": 11,
   "metadata": {},
   "outputs": [
    {
     "name": "stdout",
     "output_type": "stream",
     "text": [
      "Generator(\n",
      "  (main): Sequential(\n",
      "    (0): ConvTranspose2d(100, 1024, kernel_size=(3, 3), stride=(1, 1), bias=False)\n",
      "    (1): BatchNorm2d(1024, eps=1e-05, momentum=0.1, affine=True, track_running_stats=True)\n",
      "    (2): ReLU(inplace=True)\n",
      "    (3): ConvTranspose2d(1024, 512, kernel_size=(4, 4), stride=(2, 2), padding=(1, 1), bias=False)\n",
      "    (4): BatchNorm2d(512, eps=1e-05, momentum=0.1, affine=True, track_running_stats=True)\n",
      "    (5): ReLU(inplace=True)\n",
      "    (6): ConvTranspose2d(512, 256, kernel_size=(4, 4), stride=(2, 2), padding=(1, 1), bias=False)\n",
      "    (7): BatchNorm2d(256, eps=1e-05, momentum=0.1, affine=True, track_running_stats=True)\n",
      "    (8): ReLU(inplace=True)\n",
      "    (9): ConvTranspose2d(256, 128, kernel_size=(4, 4), stride=(2, 2), padding=(1, 1), bias=False)\n",
      "    (10): BatchNorm2d(128, eps=1e-05, momentum=0.1, affine=True, track_running_stats=True)\n",
      "    (11): ReLU(inplace=True)\n",
      "    (12): ConvTranspose2d(128, 64, kernel_size=(4, 4), stride=(2, 2), padding=(1, 1), bias=False)\n",
      "    (13): BatchNorm2d(64, eps=1e-05, momentum=0.1, affine=True, track_running_stats=True)\n",
      "    (14): ReLU(inplace=True)\n",
      "    (15): ConvTranspose2d(64, 3, kernel_size=(4, 4), stride=(2, 2), padding=(1, 1), bias=False)\n",
      "    (16): Tanh()\n",
      "  )\n",
      ")\n",
      "12069760\n",
      "----------------------------------------------------------------\n",
      "        Layer (type)               Output Shape         Param #\n",
      "================================================================\n",
      "   ConvTranspose2d-1           [-1, 1024, 3, 3]         921,600\n",
      "       BatchNorm2d-2           [-1, 1024, 3, 3]           2,048\n",
      "              ReLU-3           [-1, 1024, 3, 3]               0\n",
      "   ConvTranspose2d-4            [-1, 512, 6, 6]       8,388,608\n",
      "       BatchNorm2d-5            [-1, 512, 6, 6]           1,024\n",
      "              ReLU-6            [-1, 512, 6, 6]               0\n",
      "   ConvTranspose2d-7          [-1, 256, 12, 12]       2,097,152\n",
      "       BatchNorm2d-8          [-1, 256, 12, 12]             512\n",
      "              ReLU-9          [-1, 256, 12, 12]               0\n",
      "  ConvTranspose2d-10          [-1, 128, 24, 24]         524,288\n",
      "      BatchNorm2d-11          [-1, 128, 24, 24]             256\n",
      "             ReLU-12          [-1, 128, 24, 24]               0\n",
      "  ConvTranspose2d-13           [-1, 64, 48, 48]         131,072\n",
      "      BatchNorm2d-14           [-1, 64, 48, 48]             128\n",
      "             ReLU-15           [-1, 64, 48, 48]               0\n",
      "  ConvTranspose2d-16            [-1, 3, 96, 96]           3,072\n",
      "             Tanh-17            [-1, 3, 96, 96]               0\n",
      "================================================================\n",
      "Total params: 12,069,760\n",
      "Trainable params: 12,069,760\n",
      "Non-trainable params: 0\n",
      "----------------------------------------------------------------\n",
      "Input size (MB): 0.00\n",
      "Forward/backward pass size (MB): 6.96\n",
      "Params size (MB): 46.04\n",
      "Estimated Total Size (MB): 53.00\n",
      "----------------------------------------------------------------\n"
     ]
    }
   ],
   "source": [
    "# Create the generator\n",
    "netG = Generator(ngpu).to(device)\n",
    "\n",
    "# Handle multi-gpu if desired\n",
    "if (device.type == 'cuda') and (ngpu > 1):\n",
    "  netG = nn.DataParallel(netG, list(range(ngpu)))\n",
    "\n",
    "# Apply the weights_init function to randomly initialize all weights\n",
    "#  to mean=0, stdev=0.2.\n",
    "#netG.apply(weights_init)\n",
    "\n",
    "# Print the model\n",
    "print(netG)\n",
    "print(sum(p.numel() for p in netG.parameters()))\n",
    "torchsummary.summary(netG, (nz, 1, 1))"
   ]
  },
  {
   "cell_type": "code",
   "execution_count": 12,
   "metadata": {},
   "outputs": [],
   "source": [
    "class Discriminator(nn.Module):\n",
    "  def __init__(self, ngpu):\n",
    "    super(Discriminator, self).__init__()\n",
    "    self.ngpu = ngpu\n",
    "    self.main = nn.Sequential(\n",
    "      nn.Conv2d(in_channels=nc, \n",
    "                out_channels=ndf,\n",
    "                kernel_size=4, \n",
    "                stride=2, \n",
    "                padding=1, \n",
    "                bias=False),\n",
    "      nn.LeakyReLU(0.2, inplace=True),\n",
    "      nn.Conv2d(in_channels=ndf, \n",
    "                out_channels=ndf*2,  \n",
    "                kernel_size=4, \n",
    "                stride=2, \n",
    "                padding=1, \n",
    "                bias=False),\n",
    "      nn.BatchNorm2d(num_features=ndf*2),\n",
    "      nn.LeakyReLU(0.2, inplace=True),\n",
    "      nn.Conv2d(in_channels=ndf*2,\n",
    "                out_channels=ndf*4,  \n",
    "                kernel_size=4, \n",
    "                stride=2, \n",
    "                padding=1,\n",
    "                bias=False),\n",
    "      nn.BatchNorm2d(num_features=ndf*4),\n",
    "      nn.LeakyReLU(0.2, inplace=True),\n",
    "      nn.Conv2d(in_channels=ndf*4, \n",
    "                out_channels=ndf*8, \n",
    "                kernel_size=4, \n",
    "                stride=2, \n",
    "                padding=1, \n",
    "                bias=False),\n",
    "      nn.BatchNorm2d(num_features=ndf*8),\n",
    "      nn.LeakyReLU(0.2, inplace=True),\n",
    "      nn.Conv2d(in_channels=ndf*8, \n",
    "                out_channels=ndf*16,  \n",
    "                kernel_size=4, \n",
    "                stride=2, \n",
    "                padding=1, \n",
    "                bias=False),\n",
    "      nn.BatchNorm2d(num_features=ndf*16),\n",
    "      nn.LeakyReLU(0.2, inplace=True),\n",
    "      nn.Conv2d(in_channels=ndf*16,\n",
    "                out_channels=1,  \n",
    "                kernel_size=3, \n",
    "                stride=1,\n",
    "                padding=0, \n",
    "                bias=False),\n",
    "      nn.Sigmoid()\n",
    "    )\n",
    "  def forward(self, input):\n",
    "    return self.main(input)"
   ]
  },
  {
   "cell_type": "code",
   "execution_count": 13,
   "metadata": {},
   "outputs": [
    {
     "name": "stdout",
     "output_type": "stream",
     "text": [
      "Discriminator(\n",
      "  (main): Sequential(\n",
      "    (0): Conv2d(3, 64, kernel_size=(4, 4), stride=(2, 2), padding=(1, 1), bias=False)\n",
      "    (1): LeakyReLU(negative_slope=0.2, inplace=True)\n",
      "    (2): Conv2d(64, 128, kernel_size=(4, 4), stride=(2, 2), padding=(1, 1), bias=False)\n",
      "    (3): BatchNorm2d(128, eps=1e-05, momentum=0.1, affine=True, track_running_stats=True)\n",
      "    (4): LeakyReLU(negative_slope=0.2, inplace=True)\n",
      "    (5): Conv2d(128, 256, kernel_size=(4, 4), stride=(2, 2), padding=(1, 1), bias=False)\n",
      "    (6): BatchNorm2d(256, eps=1e-05, momentum=0.1, affine=True, track_running_stats=True)\n",
      "    (7): LeakyReLU(negative_slope=0.2, inplace=True)\n",
      "    (8): Conv2d(256, 512, kernel_size=(4, 4), stride=(2, 2), padding=(1, 1), bias=False)\n",
      "    (9): BatchNorm2d(512, eps=1e-05, momentum=0.1, affine=True, track_running_stats=True)\n",
      "    (10): LeakyReLU(negative_slope=0.2, inplace=True)\n",
      "    (11): Conv2d(512, 1024, kernel_size=(4, 4), stride=(2, 2), padding=(1, 1), bias=False)\n",
      "    (12): BatchNorm2d(1024, eps=1e-05, momentum=0.1, affine=True, track_running_stats=True)\n",
      "    (13): LeakyReLU(negative_slope=0.2, inplace=True)\n",
      "    (14): Conv2d(1024, 1, kernel_size=(3, 3), stride=(1, 1), bias=False)\n",
      "    (15): Sigmoid()\n",
      "  )\n",
      ")\n",
      "11157248\n",
      "----------------------------------------------------------------\n",
      "        Layer (type)               Output Shape         Param #\n",
      "================================================================\n",
      "            Conv2d-1           [-1, 64, 48, 48]           3,072\n",
      "         LeakyReLU-2           [-1, 64, 48, 48]               0\n",
      "            Conv2d-3          [-1, 128, 24, 24]         131,072\n",
      "       BatchNorm2d-4          [-1, 128, 24, 24]             256\n",
      "         LeakyReLU-5          [-1, 128, 24, 24]               0\n",
      "            Conv2d-6          [-1, 256, 12, 12]         524,288\n",
      "       BatchNorm2d-7          [-1, 256, 12, 12]             512\n",
      "         LeakyReLU-8          [-1, 256, 12, 12]               0\n",
      "            Conv2d-9            [-1, 512, 6, 6]       2,097,152\n",
      "      BatchNorm2d-10            [-1, 512, 6, 6]           1,024\n",
      "        LeakyReLU-11            [-1, 512, 6, 6]               0\n",
      "           Conv2d-12           [-1, 1024, 3, 3]       8,388,608\n",
      "      BatchNorm2d-13           [-1, 1024, 3, 3]           2,048\n",
      "        LeakyReLU-14           [-1, 1024, 3, 3]               0\n",
      "           Conv2d-15              [-1, 1, 1, 1]           9,216\n",
      "          Sigmoid-16              [-1, 1, 1, 1]               0\n",
      "================================================================\n",
      "Total params: 11,157,248\n",
      "Trainable params: 11,157,248\n",
      "Non-trainable params: 0\n",
      "----------------------------------------------------------------\n",
      "Input size (MB): 0.11\n",
      "Forward/backward pass size (MB): 5.41\n",
      "Params size (MB): 42.56\n",
      "Estimated Total Size (MB): 48.08\n",
      "----------------------------------------------------------------\n"
     ]
    }
   ],
   "source": [
    "# Create the Discriminator\n",
    "netD = Discriminator(ngpu).to(device)\n",
    "\n",
    "# Handle multi-gpu if desired\n",
    "if (device.type == 'cuda') and (ngpu > 1):\n",
    "  netD = nn.DataParallel(netD, list(range(ngpu)))\n",
    "\n",
    "# Apply the weights_init function to randomly initialize all weights\n",
    "#  to mean=0, stdev=0.2.\n",
    "#netD.apply(weights_init)\n",
    "\n",
    "# Print the model\n",
    "print(netD)\n",
    "print(sum(p.numel() for p in netD.parameters()))\n",
    "torchsummary.summary(netD, (nc, image_size, image_size))"
   ]
  },
  {
   "cell_type": "code",
   "execution_count": 14,
   "metadata": {},
   "outputs": [],
   "source": [
    "# Initialize BCELoss function\n",
    "criterion = nn.BCELoss()\n",
    "\n",
    "# Create batch of latent vectors that we will use to visualize\n",
    "#  the progression of the generator\n",
    "fixed_noise = torch.randn(batch_size, nz, 1, 1, device=device)\n",
    "\n",
    "# Establish convention for real and fake labels during training\n",
    "real_label = 1\n",
    "fake_label = 0\n",
    "\n",
    "# Setup Adam optimizers for both G and D\n",
    "optimizerD = optim.Adam(netD.parameters(), lr=lr, betas=(beta1, 0.999))\n",
    "optimizerG = optim.Adam(netG.parameters(), lr=lr, betas=(beta1, 0.999))"
   ]
  },
  {
   "cell_type": "code",
   "execution_count": 15,
   "metadata": {},
   "outputs": [
    {
     "name": "stdout",
     "output_type": "stream",
     "text": [
      "Starting Training Loop...\n"
     ]
    },
    {
     "data": {
      "application/vnd.jupyter.widget-view+json": {
       "model_id": "76c034f30bf444209a0e74337e7e0435",
       "version_major": 2,
       "version_minor": 0
      },
      "text/plain": [
       "HBox(children=(FloatProgress(value=0.0, max=60.0), HTML(value='')))"
      ]
     },
     "metadata": {},
     "output_type": "display_data"
    },
    {
     "data": {
      "application/vnd.jupyter.widget-view+json": {
       "model_id": "314f30a6627d405295dc9c84e3605634",
       "version_major": 2,
       "version_minor": 0
      },
      "text/plain": [
       "HBox(children=(FloatProgress(value=0.0, max=777.0), HTML(value='')))"
      ]
     },
     "metadata": {},
     "output_type": "display_data"
    },
    {
     "name": "stdout",
     "output_type": "stream",
     "text": [
      "[1/60][0/777]\tLoss_D: 1.4343\tLoss_G: 0.3375\tD(x): 0.4930\tD(G(z)): 0.5043 / 0.7191\n",
      "[1/60][100/777]\tLoss_D: 1.5542\tLoss_G: 0.7089\tD(x): 0.4453\tD(G(z)): 0.4924 / 0.4987\n",
      "[1/60][200/777]\tLoss_D: 1.4133\tLoss_G: 0.7348\tD(x): 0.4872\tD(G(z)): 0.4835 / 0.4833\n",
      "[1/60][300/777]\tLoss_D: 1.4793\tLoss_G: 0.7448\tD(x): 0.4564\tD(G(z)): 0.4954 / 0.4760\n",
      "[1/60][400/777]\tLoss_D: 1.3511\tLoss_G: 0.7537\tD(x): 0.5110\tD(G(z)): 0.4771 / 0.4793\n",
      "[1/60][500/777]\tLoss_D: 1.7725\tLoss_G: 0.9385\tD(x): 0.4295\tD(G(z)): 0.5866 / 0.3978\n",
      "[1/60][600/777]\tLoss_D: 1.5158\tLoss_G: 0.8425\tD(x): 0.4599\tD(G(z)): 0.5117 / 0.4348\n",
      "[1/60][700/777]\tLoss_D: 1.2953\tLoss_G: 0.7645\tD(x): 0.5210\tD(G(z)): 0.4647 / 0.4704\n",
      "\n"
     ]
    },
    {
     "data": {
      "application/vnd.jupyter.widget-view+json": {
       "model_id": "c166129d11df46db913ba2cfdee6a065",
       "version_major": 2,
       "version_minor": 0
      },
      "text/plain": [
       "HBox(children=(FloatProgress(value=0.0, max=777.0), HTML(value='')))"
      ]
     },
     "metadata": {},
     "output_type": "display_data"
    },
    {
     "name": "stdout",
     "output_type": "stream",
     "text": [
      "[2/60][0/777]\tLoss_D: 1.6984\tLoss_G: 0.7893\tD(x): 0.5285\tD(G(z)): 0.6314 / 0.4659\n",
      "[2/60][100/777]\tLoss_D: 1.3685\tLoss_G: 0.7885\tD(x): 0.5044\tD(G(z)): 0.4854 / 0.4612\n",
      "[2/60][200/777]\tLoss_D: 1.4487\tLoss_G: 0.6773\tD(x): 0.4754\tD(G(z)): 0.5009 / 0.5101\n",
      "[2/60][300/777]\tLoss_D: 1.3111\tLoss_G: 0.8544\tD(x): 0.4931\tD(G(z)): 0.4456 / 0.4285\n",
      "[2/60][400/777]\tLoss_D: 1.3386\tLoss_G: 0.7584\tD(x): 0.4728\tD(G(z)): 0.4417 / 0.4699\n",
      "[2/60][500/777]\tLoss_D: 1.4298\tLoss_G: 0.7192\tD(x): 0.4907\tD(G(z)): 0.5083 / 0.4897\n",
      "[2/60][600/777]\tLoss_D: 1.3584\tLoss_G: 0.7514\tD(x): 0.5230\tD(G(z)): 0.5058 / 0.4745\n",
      "[2/60][700/777]\tLoss_D: 1.3704\tLoss_G: 0.7242\tD(x): 0.5226\tD(G(z)): 0.4980 / 0.4875\n",
      "\n"
     ]
    },
    {
     "data": {
      "application/vnd.jupyter.widget-view+json": {
       "model_id": "a037f5f4bfa845b887bec39542e7bc68",
       "version_major": 2,
       "version_minor": 0
      },
      "text/plain": [
       "HBox(children=(FloatProgress(value=0.0, max=777.0), HTML(value='')))"
      ]
     },
     "metadata": {},
     "output_type": "display_data"
    },
    {
     "name": "stdout",
     "output_type": "stream",
     "text": [
      "[3/60][0/777]\tLoss_D: 1.3794\tLoss_G: 0.7295\tD(x): 0.5298\tD(G(z)): 0.5204 / 0.4856\n",
      "[3/60][100/777]\tLoss_D: 1.4124\tLoss_G: 0.8204\tD(x): 0.5056\tD(G(z)): 0.5161 / 0.4434\n",
      "[3/60][200/777]\tLoss_D: 1.4036\tLoss_G: 0.7789\tD(x): 0.4616\tD(G(z)): 0.4604 / 0.4614\n",
      "[3/60][300/777]\tLoss_D: 1.4067\tLoss_G: 0.6024\tD(x): 0.5227\tD(G(z)): 0.5294 / 0.5497\n",
      "[3/60][400/777]\tLoss_D: 1.4236\tLoss_G: 0.6554\tD(x): 0.4915\tD(G(z)): 0.5046 / 0.5220\n",
      "[3/60][500/777]\tLoss_D: 1.4332\tLoss_G: 0.6850\tD(x): 0.4994\tD(G(z)): 0.5183 / 0.5058\n",
      "[3/60][600/777]\tLoss_D: 1.4362\tLoss_G: 0.6882\tD(x): 0.4699\tD(G(z)): 0.4890 / 0.5038\n",
      "[3/60][700/777]\tLoss_D: 1.4458\tLoss_G: 0.6456\tD(x): 0.4696\tD(G(z)): 0.4890 / 0.5278\n",
      "\n"
     ]
    },
    {
     "data": {
      "application/vnd.jupyter.widget-view+json": {
       "model_id": "e2b09bf9e0ba4feeadc831c59ea85095",
       "version_major": 2,
       "version_minor": 0
      },
      "text/plain": [
       "HBox(children=(FloatProgress(value=0.0, max=777.0), HTML(value='')))"
      ]
     },
     "metadata": {},
     "output_type": "display_data"
    },
    {
     "name": "stdout",
     "output_type": "stream",
     "text": [
      "[4/60][0/777]\tLoss_D: 1.4166\tLoss_G: 0.7004\tD(x): 0.5296\tD(G(z)): 0.5343 / 0.5003\n",
      "[4/60][100/777]\tLoss_D: 1.3916\tLoss_G: 0.6247\tD(x): 0.5227\tD(G(z)): 0.5227 / 0.5360\n",
      "[4/60][200/777]\tLoss_D: 1.4704\tLoss_G: 0.6776\tD(x): 0.4627\tD(G(z)): 0.5005 / 0.5088\n",
      "[4/60][300/777]\tLoss_D: 1.3926\tLoss_G: 0.6696\tD(x): 0.5112\tD(G(z)): 0.5111 / 0.5142\n",
      "[4/60][400/777]\tLoss_D: 1.4439\tLoss_G: 0.6609\tD(x): 0.4618\tD(G(z)): 0.4827 / 0.5195\n",
      "[4/60][500/777]\tLoss_D: 1.3518\tLoss_G: 0.7961\tD(x): 0.4849\tD(G(z)): 0.4638 / 0.4520\n",
      "[4/60][600/777]\tLoss_D: 1.4835\tLoss_G: 0.7264\tD(x): 0.4863\tD(G(z)): 0.5161 / 0.4869\n",
      "[4/60][700/777]\tLoss_D: 1.3958\tLoss_G: 0.6400\tD(x): 0.4987\tD(G(z)): 0.5010 / 0.5281\n",
      "\n"
     ]
    },
    {
     "data": {
      "application/vnd.jupyter.widget-view+json": {
       "model_id": "7431d9f01ed5420d98eac776d9afd2dc",
       "version_major": 2,
       "version_minor": 0
      },
      "text/plain": [
       "HBox(children=(FloatProgress(value=0.0, max=777.0), HTML(value='')))"
      ]
     },
     "metadata": {},
     "output_type": "display_data"
    },
    {
     "name": "stdout",
     "output_type": "stream",
     "text": [
      "[5/60][0/777]\tLoss_D: 1.3981\tLoss_G: 0.7183\tD(x): 0.5206\tD(G(z)): 0.5237 / 0.4891\n",
      "[5/60][100/777]\tLoss_D: 1.4052\tLoss_G: 0.7070\tD(x): 0.4956\tD(G(z)): 0.5003 / 0.4946\n",
      "[5/60][200/777]\tLoss_D: 1.4056\tLoss_G: 0.7582\tD(x): 0.4802\tD(G(z)): 0.4862 / 0.4696\n",
      "[5/60][300/777]\tLoss_D: 1.3789\tLoss_G: 0.7414\tD(x): 0.4816\tD(G(z)): 0.4751 / 0.4777\n",
      "[5/60][400/777]\tLoss_D: 1.3843\tLoss_G: 0.6902\tD(x): 0.4889\tD(G(z)): 0.4827 / 0.5059\n",
      "[5/60][500/777]\tLoss_D: 1.4226\tLoss_G: 0.6577\tD(x): 0.5094\tD(G(z)): 0.5238 / 0.5188\n",
      "[5/60][600/777]\tLoss_D: 1.4168\tLoss_G: 0.7721\tD(x): 0.4988\tD(G(z)): 0.5102 / 0.4633\n",
      "[5/60][700/777]\tLoss_D: 1.4427\tLoss_G: 0.6252\tD(x): 0.4986\tD(G(z)): 0.5240 / 0.5359\n",
      "\n"
     ]
    },
    {
     "data": {
      "application/vnd.jupyter.widget-view+json": {
       "model_id": "33adf301089e441a8587a7384c7f3336",
       "version_major": 2,
       "version_minor": 0
      },
      "text/plain": [
       "HBox(children=(FloatProgress(value=0.0, max=777.0), HTML(value='')))"
      ]
     },
     "metadata": {},
     "output_type": "display_data"
    },
    {
     "name": "stdout",
     "output_type": "stream",
     "text": [
      "[6/60][0/777]\tLoss_D: 1.4231\tLoss_G: 0.7197\tD(x): 0.5225\tD(G(z)): 0.5235 / 0.4913\n",
      "[6/60][100/777]\tLoss_D: 1.3635\tLoss_G: 0.6613\tD(x): 0.5101\tD(G(z)): 0.4945 / 0.5174\n",
      "[6/60][200/777]\tLoss_D: 1.4657\tLoss_G: 0.8283\tD(x): 0.4692\tD(G(z)): 0.5003 / 0.4389\n",
      "[6/60][300/777]\tLoss_D: 1.4258\tLoss_G: 0.7557\tD(x): 0.4770\tD(G(z)): 0.4940 / 0.4708\n",
      "[6/60][400/777]\tLoss_D: 1.4205\tLoss_G: 0.7105\tD(x): 0.4537\tD(G(z)): 0.4651 / 0.4936\n",
      "[6/60][500/777]\tLoss_D: 1.3926\tLoss_G: 0.6346\tD(x): 0.5321\tD(G(z)): 0.5303 / 0.5310\n",
      "[6/60][600/777]\tLoss_D: 1.3655\tLoss_G: 0.7440\tD(x): 0.4863\tD(G(z)): 0.4687 / 0.4775\n",
      "[6/60][700/777]\tLoss_D: 1.3888\tLoss_G: 0.7534\tD(x): 0.4934\tD(G(z)): 0.4914 / 0.4725\n",
      "\n"
     ]
    },
    {
     "data": {
      "application/vnd.jupyter.widget-view+json": {
       "model_id": "89d2abec84a34b95a611471c68ecf24e",
       "version_major": 2,
       "version_minor": 0
      },
      "text/plain": [
       "HBox(children=(FloatProgress(value=0.0, max=777.0), HTML(value='')))"
      ]
     },
     "metadata": {},
     "output_type": "display_data"
    },
    {
     "name": "stdout",
     "output_type": "stream",
     "text": [
      "[7/60][0/777]\tLoss_D: 1.4504\tLoss_G: 0.6783\tD(x): 0.5385\tD(G(z)): 0.5540 / 0.5133\n",
      "[7/60][100/777]\tLoss_D: 1.3642\tLoss_G: 0.7280\tD(x): 0.4840\tD(G(z)): 0.4704 / 0.4842\n",
      "[7/60][200/777]\tLoss_D: 1.3928\tLoss_G: 0.7853\tD(x): 0.4763\tD(G(z)): 0.4751 / 0.4572\n",
      "[7/60][300/777]\tLoss_D: 1.3768\tLoss_G: 0.7720\tD(x): 0.4998\tD(G(z)): 0.4931 / 0.4647\n",
      "[7/60][400/777]\tLoss_D: 1.4299\tLoss_G: 0.6865\tD(x): 0.5003\tD(G(z)): 0.5107 / 0.5039\n",
      "[7/60][500/777]\tLoss_D: 1.3792\tLoss_G: 0.7576\tD(x): 0.4859\tD(G(z)): 0.4778 / 0.4767\n",
      "[7/60][600/777]\tLoss_D: 1.3901\tLoss_G: 0.7933\tD(x): 0.5073\tD(G(z)): 0.4987 / 0.4566\n",
      "[7/60][700/777]\tLoss_D: 1.4300\tLoss_G: 0.6871\tD(x): 0.4788\tD(G(z)): 0.4975 / 0.5037\n",
      "\n"
     ]
    },
    {
     "data": {
      "application/vnd.jupyter.widget-view+json": {
       "model_id": "306308bab7dd478bbdb1908962059e5a",
       "version_major": 2,
       "version_minor": 0
      },
      "text/plain": [
       "HBox(children=(FloatProgress(value=0.0, max=777.0), HTML(value='')))"
      ]
     },
     "metadata": {},
     "output_type": "display_data"
    },
    {
     "name": "stdout",
     "output_type": "stream",
     "text": [
      "[8/60][0/777]\tLoss_D: 1.3991\tLoss_G: 0.5159\tD(x): 0.5914\tD(G(z)): 0.5755 / 0.5990\n",
      "[8/60][100/777]\tLoss_D: 1.4710\tLoss_G: 0.7095\tD(x): 0.5065\tD(G(z)): 0.5248 / 0.4963\n",
      "[8/60][200/777]\tLoss_D: 1.4525\tLoss_G: 0.8409\tD(x): 0.4772\tD(G(z)): 0.5024 / 0.4353\n",
      "[8/60][300/777]\tLoss_D: 1.3410\tLoss_G: 0.7338\tD(x): 0.5019\tD(G(z)): 0.4770 / 0.4814\n",
      "[8/60][400/777]\tLoss_D: 1.4840\tLoss_G: 0.6776\tD(x): 0.5334\tD(G(z)): 0.5686 / 0.5116\n",
      "[8/60][500/777]\tLoss_D: 1.3963\tLoss_G: 0.7882\tD(x): 0.5165\tD(G(z)): 0.5155 / 0.4575\n",
      "[8/60][600/777]\tLoss_D: 1.4108\tLoss_G: 0.7858\tD(x): 0.5165\tD(G(z)): 0.5205 / 0.4595\n",
      "[8/60][700/777]\tLoss_D: 1.3522\tLoss_G: 0.7149\tD(x): 0.5158\tD(G(z)): 0.4877 / 0.4928\n",
      "\n"
     ]
    },
    {
     "data": {
      "application/vnd.jupyter.widget-view+json": {
       "model_id": "398738d590db42a3bceac16e1309331b",
       "version_major": 2,
       "version_minor": 0
      },
      "text/plain": [
       "HBox(children=(FloatProgress(value=0.0, max=777.0), HTML(value='')))"
      ]
     },
     "metadata": {},
     "output_type": "display_data"
    },
    {
     "name": "stdout",
     "output_type": "stream",
     "text": [
      "[9/60][0/777]\tLoss_D: 1.4318\tLoss_G: 0.7765\tD(x): 0.5528\tD(G(z)): 0.5594 / 0.4665\n",
      "[9/60][100/777]\tLoss_D: 1.3646\tLoss_G: 0.7858\tD(x): 0.5708\tD(G(z)): 0.5401 / 0.4651\n",
      "[9/60][200/777]\tLoss_D: 1.4198\tLoss_G: 0.8777\tD(x): 0.4501\tD(G(z)): 0.4514 / 0.4205\n",
      "[9/60][300/777]\tLoss_D: 1.3544\tLoss_G: 0.8166\tD(x): 0.4946\tD(G(z)): 0.4710 / 0.4517\n",
      "[9/60][400/777]\tLoss_D: 1.4099\tLoss_G: 0.7350\tD(x): 0.4953\tD(G(z)): 0.4875 / 0.4855\n",
      "[9/60][500/777]\tLoss_D: 1.4392\tLoss_G: 0.7111\tD(x): 0.4767\tD(G(z)): 0.4948 / 0.4975\n",
      "[9/60][600/777]\tLoss_D: 1.3605\tLoss_G: 0.9411\tD(x): 0.6043\tD(G(z)): 0.5610 / 0.4017\n",
      "[9/60][700/777]\tLoss_D: 1.4598\tLoss_G: 0.9077\tD(x): 0.4313\tD(G(z)): 0.4379 / 0.4104\n",
      "\n"
     ]
    },
    {
     "data": {
      "application/vnd.jupyter.widget-view+json": {
       "model_id": "83dd1e2ca01b4da0ada7d9889097844a",
       "version_major": 2,
       "version_minor": 0
      },
      "text/plain": [
       "HBox(children=(FloatProgress(value=0.0, max=777.0), HTML(value='')))"
      ]
     },
     "metadata": {},
     "output_type": "display_data"
    },
    {
     "name": "stdout",
     "output_type": "stream",
     "text": [
      "[10/60][0/777]\tLoss_D: 1.4101\tLoss_G: 0.8357\tD(x): 0.4782\tD(G(z)): 0.4650 / 0.4450\n",
      "[10/60][100/777]\tLoss_D: 1.3916\tLoss_G: 0.8307\tD(x): 0.5062\tD(G(z)): 0.4929 / 0.4419\n",
      "[10/60][200/777]\tLoss_D: 1.1483\tLoss_G: 0.9372\tD(x): 0.5275\tD(G(z)): 0.3862 / 0.3982\n",
      "[10/60][300/777]\tLoss_D: 1.2785\tLoss_G: 1.0104\tD(x): 0.4698\tD(G(z)): 0.3722 / 0.3748\n",
      "[10/60][400/777]\tLoss_D: 1.2551\tLoss_G: 0.7435\tD(x): 0.4333\tD(G(z)): 0.3224 / 0.4872\n",
      "[10/60][500/777]\tLoss_D: 1.4202\tLoss_G: 1.0379\tD(x): 0.5206\tD(G(z)): 0.5041 / 0.3729\n",
      "[10/60][600/777]\tLoss_D: 1.0266\tLoss_G: 1.0974\tD(x): 0.5677\tD(G(z)): 0.3420 / 0.3503\n",
      "[10/60][700/777]\tLoss_D: 1.1410\tLoss_G: 1.3933\tD(x): 0.6497\tD(G(z)): 0.4838 / 0.2666\n",
      "\n"
     ]
    },
    {
     "data": {
      "application/vnd.jupyter.widget-view+json": {
       "model_id": "7d19422a58004b89a24ea4328e14013a",
       "version_major": 2,
       "version_minor": 0
      },
      "text/plain": [
       "HBox(children=(FloatProgress(value=0.0, max=777.0), HTML(value='')))"
      ]
     },
     "metadata": {},
     "output_type": "display_data"
    },
    {
     "name": "stdout",
     "output_type": "stream",
     "text": [
      "[11/60][0/777]\tLoss_D: 0.9644\tLoss_G: 1.7140\tD(x): 0.6773\tD(G(z)): 0.4081 / 0.2047\n",
      "[11/60][100/777]\tLoss_D: 1.2965\tLoss_G: 1.0581\tD(x): 0.5168\tD(G(z)): 0.4333 / 0.3794\n",
      "[11/60][200/777]\tLoss_D: 1.1805\tLoss_G: 1.0234\tD(x): 0.5166\tD(G(z)): 0.3698 / 0.3734\n",
      "[11/60][300/777]\tLoss_D: 1.0371\tLoss_G: 1.0779\tD(x): 0.6835\tD(G(z)): 0.4531 / 0.3657\n",
      "[11/60][400/777]\tLoss_D: 1.0083\tLoss_G: 0.9454\tD(x): 0.5534\tD(G(z)): 0.2876 / 0.4225\n",
      "[11/60][500/777]\tLoss_D: 1.0675\tLoss_G: 1.2201\tD(x): 0.4755\tD(G(z)): 0.2317 / 0.3194\n",
      "[11/60][600/777]\tLoss_D: 1.2538\tLoss_G: 2.1828\tD(x): 0.8803\tD(G(z)): 0.6469 / 0.1459\n",
      "[11/60][700/777]\tLoss_D: 1.1169\tLoss_G: 1.4644\tD(x): 0.6983\tD(G(z)): 0.5026 / 0.2637\n",
      "\n"
     ]
    },
    {
     "data": {
      "application/vnd.jupyter.widget-view+json": {
       "model_id": "92f9fc23aa5c4072beb20a1bbec4c330",
       "version_major": 2,
       "version_minor": 0
      },
      "text/plain": [
       "HBox(children=(FloatProgress(value=0.0, max=777.0), HTML(value='')))"
      ]
     },
     "metadata": {},
     "output_type": "display_data"
    },
    {
     "name": "stdout",
     "output_type": "stream",
     "text": [
      "[12/60][0/777]\tLoss_D: 1.0079\tLoss_G: 1.7211\tD(x): 0.6703\tD(G(z)): 0.4176 / 0.2110\n",
      "[12/60][100/777]\tLoss_D: 0.6723\tLoss_G: 1.4026\tD(x): 0.6574\tD(G(z)): 0.1973 / 0.2807\n",
      "[12/60][200/777]\tLoss_D: 0.7456\tLoss_G: 1.3566\tD(x): 0.6841\tD(G(z)): 0.2762 / 0.2932\n",
      "[12/60][300/777]\tLoss_D: 0.9965\tLoss_G: 2.1141\tD(x): 0.6108\tD(G(z)): 0.3577 / 0.1422\n",
      "[12/60][400/777]\tLoss_D: 0.8295\tLoss_G: 1.9205\tD(x): 0.6811\tD(G(z)): 0.3186 / 0.1754\n",
      "[12/60][500/777]\tLoss_D: 0.8795\tLoss_G: 1.0599\tD(x): 0.5941\tD(G(z)): 0.2493 / 0.3986\n",
      "[12/60][600/777]\tLoss_D: 1.0162\tLoss_G: 2.3362\tD(x): 0.8335\tD(G(z)): 0.5368 / 0.1199\n",
      "[12/60][700/777]\tLoss_D: 1.5874\tLoss_G: 1.1718\tD(x): 0.4752\tD(G(z)): 0.5092 / 0.3426\n",
      "\n"
     ]
    },
    {
     "data": {
      "application/vnd.jupyter.widget-view+json": {
       "model_id": "aac1c1d820404079925b17c5210c16f7",
       "version_major": 2,
       "version_minor": 0
      },
      "text/plain": [
       "HBox(children=(FloatProgress(value=0.0, max=777.0), HTML(value='')))"
      ]
     },
     "metadata": {},
     "output_type": "display_data"
    },
    {
     "name": "stdout",
     "output_type": "stream",
     "text": [
      "[13/60][0/777]\tLoss_D: 0.7469\tLoss_G: 1.3903\tD(x): 0.5941\tD(G(z)): 0.1499 / 0.2920\n",
      "[13/60][100/777]\tLoss_D: 0.8058\tLoss_G: 1.3269\tD(x): 0.7123\tD(G(z)): 0.3475 / 0.2896\n",
      "[13/60][200/777]\tLoss_D: 0.8399\tLoss_G: 1.2627\tD(x): 0.5604\tD(G(z)): 0.1800 / 0.3203\n",
      "[13/60][300/777]\tLoss_D: 1.1477\tLoss_G: 0.8411\tD(x): 0.4598\tD(G(z)): 0.2397 / 0.4669\n",
      "[13/60][400/777]\tLoss_D: 1.3026\tLoss_G: 0.5124\tD(x): 0.3656\tD(G(z)): 0.1616 / 0.6222\n",
      "[13/60][500/777]\tLoss_D: 1.3143\tLoss_G: 1.0211\tD(x): 0.3354\tD(G(z)): 0.0995 / 0.3942\n",
      "[13/60][600/777]\tLoss_D: 1.3948\tLoss_G: 2.5090\tD(x): 0.8723\tD(G(z)): 0.6780 / 0.0993\n",
      "[13/60][700/777]\tLoss_D: 1.4482\tLoss_G: 0.6325\tD(x): 0.3396\tD(G(z)): 0.2250 / 0.5623\n",
      "\n"
     ]
    },
    {
     "data": {
      "application/vnd.jupyter.widget-view+json": {
       "model_id": "8a0e847865c149ba9d13c925aea11e92",
       "version_major": 2,
       "version_minor": 0
      },
      "text/plain": [
       "HBox(children=(FloatProgress(value=0.0, max=777.0), HTML(value='')))"
      ]
     },
     "metadata": {},
     "output_type": "display_data"
    },
    {
     "name": "stdout",
     "output_type": "stream",
     "text": [
      "[14/60][0/777]\tLoss_D: 1.0891\tLoss_G: 2.5883\tD(x): 0.8115\tD(G(z)): 0.5478 / 0.0978\n",
      "[14/60][100/777]\tLoss_D: 0.7733\tLoss_G: 3.0906\tD(x): 0.8890\tD(G(z)): 0.4376 / 0.0646\n",
      "[14/60][200/777]\tLoss_D: 0.5528\tLoss_G: 2.0907\tD(x): 0.7365\tD(G(z)): 0.1927 / 0.1612\n",
      "[14/60][300/777]\tLoss_D: 1.0232\tLoss_G: 1.8675\tD(x): 0.6375\tD(G(z)): 0.3891 / 0.1810\n",
      "[14/60][400/777]\tLoss_D: 0.7863\tLoss_G: 1.9913\tD(x): 0.7373\tD(G(z)): 0.3413 / 0.1751\n",
      "[14/60][500/777]\tLoss_D: 1.0634\tLoss_G: 2.2018\tD(x): 0.8209\tD(G(z)): 0.5488 / 0.1342\n",
      "[14/60][600/777]\tLoss_D: 0.7780\tLoss_G: 1.4235\tD(x): 0.5899\tD(G(z)): 0.1790 / 0.2698\n",
      "[14/60][700/777]\tLoss_D: 1.3374\tLoss_G: 2.9200\tD(x): 0.7630\tD(G(z)): 0.6153 / 0.0678\n",
      "\n"
     ]
    },
    {
     "data": {
      "application/vnd.jupyter.widget-view+json": {
       "model_id": "cc5419e5e0274977ade2ef2bf6ee0363",
       "version_major": 2,
       "version_minor": 0
      },
      "text/plain": [
       "HBox(children=(FloatProgress(value=0.0, max=777.0), HTML(value='')))"
      ]
     },
     "metadata": {},
     "output_type": "display_data"
    },
    {
     "name": "stdout",
     "output_type": "stream",
     "text": [
      "[15/60][0/777]\tLoss_D: 0.8756\tLoss_G: 2.3649\tD(x): 0.7262\tD(G(z)): 0.3919 / 0.1216\n",
      "[15/60][100/777]\tLoss_D: 1.0014\tLoss_G: 3.8944\tD(x): 0.8266\tD(G(z)): 0.5176 / 0.0260\n",
      "[15/60][200/777]\tLoss_D: 1.0085\tLoss_G: 1.0890\tD(x): 0.6709\tD(G(z)): 0.4144 / 0.3743\n",
      "[15/60][300/777]\tLoss_D: 0.6392\tLoss_G: 2.5044\tD(x): 0.8631\tD(G(z)): 0.3653 / 0.1036\n",
      "[15/60][400/777]\tLoss_D: 0.7844\tLoss_G: 2.5039\tD(x): 0.8767\tD(G(z)): 0.4559 / 0.1078\n",
      "[15/60][500/777]\tLoss_D: 0.8804\tLoss_G: 2.2007\tD(x): 0.8565\tD(G(z)): 0.4794 / 0.1360\n",
      "[15/60][600/777]\tLoss_D: 0.5392\tLoss_G: 1.8182\tD(x): 0.7392\tD(G(z)): 0.1803 / 0.2228\n",
      "[15/60][700/777]\tLoss_D: 0.8047\tLoss_G: 1.0139\tD(x): 0.6985\tD(G(z)): 0.2926 / 0.4174\n",
      "\n"
     ]
    },
    {
     "data": {
      "application/vnd.jupyter.widget-view+json": {
       "model_id": "88e4766d68bf412093455533ebf47cfb",
       "version_major": 2,
       "version_minor": 0
      },
      "text/plain": [
       "HBox(children=(FloatProgress(value=0.0, max=777.0), HTML(value='')))"
      ]
     },
     "metadata": {},
     "output_type": "display_data"
    },
    {
     "name": "stdout",
     "output_type": "stream",
     "text": [
      "[16/60][0/777]\tLoss_D: 1.3011\tLoss_G: 1.7890\tD(x): 0.7324\tD(G(z)): 0.5675 / 0.2115\n",
      "[16/60][100/777]\tLoss_D: 0.7999\tLoss_G: 0.9969\tD(x): 0.5311\tD(G(z)): 0.0787 / 0.4155\n",
      "[16/60][200/777]\tLoss_D: 0.4558\tLoss_G: 2.8511\tD(x): 0.8176\tD(G(z)): 0.2049 / 0.0708\n",
      "[16/60][300/777]\tLoss_D: 1.5250\tLoss_G: 3.4233\tD(x): 0.9219\tD(G(z)): 0.7221 / 0.0436\n",
      "[16/60][400/777]\tLoss_D: 0.5655\tLoss_G: 1.7721\tD(x): 0.7240\tD(G(z)): 0.1828 / 0.2131\n",
      "[16/60][500/777]\tLoss_D: 1.0255\tLoss_G: 2.7331\tD(x): 0.9029\tD(G(z)): 0.5675 / 0.0887\n",
      "[16/60][600/777]\tLoss_D: 0.5915\tLoss_G: 2.4656\tD(x): 0.9064\tD(G(z)): 0.3597 / 0.0994\n",
      "[16/60][700/777]\tLoss_D: 0.5285\tLoss_G: 1.5990\tD(x): 0.7831\tD(G(z)): 0.2142 / 0.2474\n",
      "\n"
     ]
    },
    {
     "data": {
      "application/vnd.jupyter.widget-view+json": {
       "model_id": "4b90a816cc18462daa4e737d2409343c",
       "version_major": 2,
       "version_minor": 0
      },
      "text/plain": [
       "HBox(children=(FloatProgress(value=0.0, max=777.0), HTML(value='')))"
      ]
     },
     "metadata": {},
     "output_type": "display_data"
    },
    {
     "name": "stdout",
     "output_type": "stream",
     "text": [
      "[17/60][0/777]\tLoss_D: 1.3752\tLoss_G: 2.8535\tD(x): 0.9621\tD(G(z)): 0.6853 / 0.0894\n",
      "[17/60][100/777]\tLoss_D: 0.7371\tLoss_G: 3.7359\tD(x): 0.8745\tD(G(z)): 0.4033 / 0.0328\n",
      "[17/60][200/777]\tLoss_D: 0.6443\tLoss_G: 1.8214\tD(x): 0.7063\tD(G(z)): 0.1985 / 0.2086\n",
      "[17/60][300/777]\tLoss_D: 1.1456\tLoss_G: 0.6235\tD(x): 0.5161\tD(G(z)): 0.3100 / 0.5649\n",
      "[17/60][400/777]\tLoss_D: 1.2704\tLoss_G: 0.7863\tD(x): 0.8216\tD(G(z)): 0.5961 / 0.5124\n",
      "[17/60][500/777]\tLoss_D: 0.7735\tLoss_G: 2.0946\tD(x): 0.7369\tD(G(z)): 0.3195 / 0.1586\n",
      "[17/60][600/777]\tLoss_D: 0.9187\tLoss_G: 2.9546\tD(x): 0.8957\tD(G(z)): 0.5066 / 0.0705\n",
      "[17/60][700/777]\tLoss_D: 1.8865\tLoss_G: 3.5742\tD(x): 0.9337\tD(G(z)): 0.7865 / 0.0453\n",
      "\n"
     ]
    },
    {
     "data": {
      "application/vnd.jupyter.widget-view+json": {
       "model_id": "cb05c7f0f1d5438a848853b59d044111",
       "version_major": 2,
       "version_minor": 0
      },
      "text/plain": [
       "HBox(children=(FloatProgress(value=0.0, max=777.0), HTML(value='')))"
      ]
     },
     "metadata": {},
     "output_type": "display_data"
    },
    {
     "name": "stdout",
     "output_type": "stream",
     "text": [
      "[18/60][0/777]\tLoss_D: 1.9488\tLoss_G: 3.1181\tD(x): 0.9804\tD(G(z)): 0.7983 / 0.0675\n",
      "[18/60][100/777]\tLoss_D: 0.3782\tLoss_G: 1.7894\tD(x): 0.9385\tD(G(z)): 0.2549 / 0.2166\n",
      "[18/60][200/777]\tLoss_D: 0.2541\tLoss_G: 3.7264\tD(x): 0.9096\tD(G(z)): 0.1406 / 0.0339\n",
      "[18/60][300/777]\tLoss_D: 0.6390\tLoss_G: 2.0279\tD(x): 0.8446\tD(G(z)): 0.3433 / 0.1662\n",
      "[18/60][400/777]\tLoss_D: 0.5917\tLoss_G: 1.2996\tD(x): 0.8865\tD(G(z)): 0.3401 / 0.3246\n",
      "[18/60][500/777]\tLoss_D: 0.9180\tLoss_G: 1.8285\tD(x): 0.6181\tD(G(z)): 0.2959 / 0.1956\n",
      "[18/60][600/777]\tLoss_D: 1.5795\tLoss_G: 0.5871\tD(x): 0.3512\tD(G(z)): 0.2592 / 0.5898\n",
      "[18/60][700/777]\tLoss_D: 0.8255\tLoss_G: 1.5298\tD(x): 0.5855\tD(G(z)): 0.1840 / 0.2676\n",
      "\n"
     ]
    },
    {
     "data": {
      "application/vnd.jupyter.widget-view+json": {
       "model_id": "94cc1508b6b249ccb9e359d794054149",
       "version_major": 2,
       "version_minor": 0
      },
      "text/plain": [
       "HBox(children=(FloatProgress(value=0.0, max=777.0), HTML(value='')))"
      ]
     },
     "metadata": {},
     "output_type": "display_data"
    },
    {
     "name": "stdout",
     "output_type": "stream",
     "text": [
      "[19/60][0/777]\tLoss_D: 1.0802\tLoss_G: 2.1904\tD(x): 0.6758\tD(G(z)): 0.4471 / 0.1522\n",
      "[19/60][100/777]\tLoss_D: 0.4763\tLoss_G: 3.9084\tD(x): 0.7194\tD(G(z)): 0.0927 / 0.0316\n",
      "[19/60][200/777]\tLoss_D: 0.7930\tLoss_G: 2.0549\tD(x): 0.9110\tD(G(z)): 0.4747 / 0.1709\n",
      "[19/60][300/777]\tLoss_D: 0.3935\tLoss_G: 2.7385\tD(x): 0.8453\tD(G(z)): 0.1794 / 0.0843\n",
      "[19/60][400/777]\tLoss_D: 0.3113\tLoss_G: 2.9005\tD(x): 0.8582\tD(G(z)): 0.1324 / 0.0806\n",
      "[19/60][500/777]\tLoss_D: 0.8266\tLoss_G: 2.4019\tD(x): 0.8126\tD(G(z)): 0.3890 / 0.1212\n",
      "[19/60][600/777]\tLoss_D: 1.0623\tLoss_G: 2.1735\tD(x): 0.5905\tD(G(z)): 0.3369 / 0.1572\n",
      "[19/60][700/777]\tLoss_D: 1.1035\tLoss_G: 4.1544\tD(x): 0.9904\tD(G(z)): 0.6036 / 0.0262\n",
      "\n"
     ]
    },
    {
     "data": {
      "application/vnd.jupyter.widget-view+json": {
       "model_id": "d9f19c3fe05842879271581aa2d6dbc6",
       "version_major": 2,
       "version_minor": 0
      },
      "text/plain": [
       "HBox(children=(FloatProgress(value=0.0, max=777.0), HTML(value='')))"
      ]
     },
     "metadata": {},
     "output_type": "display_data"
    },
    {
     "name": "stdout",
     "output_type": "stream",
     "text": [
      "[20/60][0/777]\tLoss_D: 1.3935\tLoss_G: 0.5234\tD(x): 0.4141\tD(G(z)): 0.2804 / 0.6308\n",
      "[20/60][100/777]\tLoss_D: 0.6753\tLoss_G: 1.2582\tD(x): 0.7392\tD(G(z)): 0.2406 / 0.3410\n",
      "[20/60][200/777]\tLoss_D: 1.7024\tLoss_G: 0.5288\tD(x): 0.2386\tD(G(z)): 0.0555 / 0.6438\n",
      "[20/60][300/777]\tLoss_D: 0.7485\tLoss_G: 3.5314\tD(x): 0.7868\tD(G(z)): 0.3302 / 0.0440\n",
      "[20/60][400/777]\tLoss_D: 1.1546\tLoss_G: 1.1218\tD(x): 0.4950\tD(G(z)): 0.2988 / 0.3863\n",
      "[20/60][500/777]\tLoss_D: 0.5516\tLoss_G: 1.4399\tD(x): 0.6596\tD(G(z)): 0.0831 / 0.3032\n",
      "[20/60][600/777]\tLoss_D: 1.3987\tLoss_G: 0.8176\tD(x): 0.2980\tD(G(z)): 0.0248 / 0.4825\n",
      "[20/60][700/777]\tLoss_D: 0.3828\tLoss_G: 2.3886\tD(x): 0.9045\tD(G(z)): 0.2235 / 0.1222\n",
      "\n"
     ]
    },
    {
     "data": {
      "application/vnd.jupyter.widget-view+json": {
       "model_id": "c6731e95a723437aafcf5e761e6c1dff",
       "version_major": 2,
       "version_minor": 0
      },
      "text/plain": [
       "HBox(children=(FloatProgress(value=0.0, max=777.0), HTML(value='')))"
      ]
     },
     "metadata": {},
     "output_type": "display_data"
    },
    {
     "name": "stdout",
     "output_type": "stream",
     "text": [
      "[21/60][0/777]\tLoss_D: 1.4445\tLoss_G: 2.4068\tD(x): 0.9860\tD(G(z)): 0.7235 / 0.1375\n",
      "[21/60][100/777]\tLoss_D: 0.9788\tLoss_G: 2.1138\tD(x): 0.4818\tD(G(z)): 0.1139 / 0.1655\n",
      "[21/60][200/777]\tLoss_D: 0.5172\tLoss_G: 0.8343\tD(x): 0.6737\tD(G(z)): 0.0634 / 0.5054\n",
      "[21/60][300/777]\tLoss_D: 0.4620\tLoss_G: 2.3177\tD(x): 0.7797\tD(G(z)): 0.1415 / 0.1640\n",
      "[21/60][400/777]\tLoss_D: 0.7162\tLoss_G: 1.4211\tD(x): 0.6225\tD(G(z)): 0.1505 / 0.2876\n",
      "[21/60][500/777]\tLoss_D: 0.8069\tLoss_G: 3.1902\tD(x): 0.7456\tD(G(z)): 0.3637 / 0.0630\n",
      "[21/60][600/777]\tLoss_D: 0.5114\tLoss_G: 2.1987\tD(x): 0.8760\tD(G(z)): 0.2767 / 0.1649\n",
      "[21/60][700/777]\tLoss_D: 0.7509\tLoss_G: 2.1148\tD(x): 0.9141\tD(G(z)): 0.4329 / 0.1584\n",
      "\n"
     ]
    },
    {
     "data": {
      "application/vnd.jupyter.widget-view+json": {
       "model_id": "e92b4feb6fa14e49836909a4aa08a4b7",
       "version_major": 2,
       "version_minor": 0
      },
      "text/plain": [
       "HBox(children=(FloatProgress(value=0.0, max=777.0), HTML(value='')))"
      ]
     },
     "metadata": {},
     "output_type": "display_data"
    },
    {
     "name": "stdout",
     "output_type": "stream",
     "text": [
      "[22/60][0/777]\tLoss_D: 0.5317\tLoss_G: 2.3611\tD(x): 0.9589\tD(G(z)): 0.3493 / 0.1618\n",
      "[22/60][100/777]\tLoss_D: 0.7482\tLoss_G: 1.2132\tD(x): 0.6562\tD(G(z)): 0.1952 / 0.3560\n",
      "[22/60][200/777]\tLoss_D: 0.5938\tLoss_G: 1.8994\tD(x): 0.9513\tD(G(z)): 0.3855 / 0.1981\n",
      "[22/60][300/777]\tLoss_D: 0.7942\tLoss_G: 4.8255\tD(x): 0.9299\tD(G(z)): 0.4600 / 0.0136\n",
      "[22/60][400/777]\tLoss_D: 0.3506\tLoss_G: 1.5694\tD(x): 0.7922\tD(G(z)): 0.0902 / 0.2622\n",
      "[22/60][500/777]\tLoss_D: 0.4457\tLoss_G: 0.9990\tD(x): 0.7537\tD(G(z)): 0.1100 / 0.4208\n",
      "[22/60][600/777]\tLoss_D: 0.8687\tLoss_G: 3.0671\tD(x): 0.9804\tD(G(z)): 0.5409 / 0.0679\n",
      "[22/60][700/777]\tLoss_D: 0.9950\tLoss_G: 1.4184\tD(x): 0.4652\tD(G(z)): 0.0679 / 0.3577\n",
      "\n"
     ]
    },
    {
     "data": {
      "application/vnd.jupyter.widget-view+json": {
       "model_id": "298622814af749ff99dbd3b36ba8af0e",
       "version_major": 2,
       "version_minor": 0
      },
      "text/plain": [
       "HBox(children=(FloatProgress(value=0.0, max=777.0), HTML(value='')))"
      ]
     },
     "metadata": {},
     "output_type": "display_data"
    },
    {
     "name": "stdout",
     "output_type": "stream",
     "text": [
      "[23/60][0/777]\tLoss_D: 0.8696\tLoss_G: 2.2563\tD(x): 0.7101\tD(G(z)): 0.3571 / 0.1534\n",
      "[23/60][100/777]\tLoss_D: 0.3668\tLoss_G: 4.0118\tD(x): 0.8128\tD(G(z)): 0.1174 / 0.0309\n",
      "[23/60][200/777]\tLoss_D: 0.4507\tLoss_G: 1.0844\tD(x): 0.7968\tD(G(z)): 0.1558 / 0.3849\n",
      "[23/60][300/777]\tLoss_D: 0.6726\tLoss_G: 1.8446\tD(x): 0.8221\tD(G(z)): 0.3287 / 0.1997\n",
      "[23/60][400/777]\tLoss_D: 0.8796\tLoss_G: 1.1641\tD(x): 0.5192\tD(G(z)): 0.1037 / 0.3888\n",
      "[23/60][500/777]\tLoss_D: 0.4721\tLoss_G: 1.3288\tD(x): 0.8491\tD(G(z)): 0.2087 / 0.3391\n",
      "[23/60][600/777]\tLoss_D: 0.6498\tLoss_G: 2.6150\tD(x): 0.6175\tD(G(z)): 0.0811 / 0.1083\n",
      "[23/60][700/777]\tLoss_D: 0.2542\tLoss_G: 5.0203\tD(x): 0.8615\tD(G(z)): 0.0878 / 0.0116\n",
      "\n"
     ]
    },
    {
     "data": {
      "application/vnd.jupyter.widget-view+json": {
       "model_id": "bdc0f280d1604a23bb157d434698907a",
       "version_major": 2,
       "version_minor": 0
      },
      "text/plain": [
       "HBox(children=(FloatProgress(value=0.0, max=777.0), HTML(value='')))"
      ]
     },
     "metadata": {},
     "output_type": "display_data"
    },
    {
     "name": "stdout",
     "output_type": "stream",
     "text": [
      "[24/60][0/777]\tLoss_D: 1.2945\tLoss_G: 2.7212\tD(x): 0.8738\tD(G(z)): 0.6053 / 0.1047\n",
      "[24/60][100/777]\tLoss_D: 0.4916\tLoss_G: 1.1063\tD(x): 0.7214\tD(G(z)): 0.1175 / 0.3881\n",
      "[24/60][200/777]\tLoss_D: 0.1461\tLoss_G: 3.6959\tD(x): 0.9382\tD(G(z)): 0.0741 / 0.0395\n",
      "[24/60][300/777]\tLoss_D: 0.2898\tLoss_G: 3.1396\tD(x): 0.8510\tD(G(z)): 0.1015 / 0.0698\n",
      "[24/60][400/777]\tLoss_D: 0.8581\tLoss_G: 4.0308\tD(x): 0.9186\tD(G(z)): 0.4877 / 0.0278\n",
      "[24/60][500/777]\tLoss_D: 0.5127\tLoss_G: 1.3147\tD(x): 0.9035\tD(G(z)): 0.3016 / 0.3428\n",
      "[24/60][600/777]\tLoss_D: 0.8804\tLoss_G: 0.6247\tD(x): 0.5506\tD(G(z)): 0.1167 / 0.5906\n",
      "[24/60][700/777]\tLoss_D: 0.5404\tLoss_G: 2.6488\tD(x): 0.6657\tD(G(z)): 0.0410 / 0.1170\n",
      "\n"
     ]
    },
    {
     "data": {
      "application/vnd.jupyter.widget-view+json": {
       "model_id": "2d3f4077ff6e4c90bc34bfe44fa9e83c",
       "version_major": 2,
       "version_minor": 0
      },
      "text/plain": [
       "HBox(children=(FloatProgress(value=0.0, max=777.0), HTML(value='')))"
      ]
     },
     "metadata": {},
     "output_type": "display_data"
    },
    {
     "name": "stdout",
     "output_type": "stream",
     "text": [
      "[25/60][0/777]\tLoss_D: 2.6686\tLoss_G: 5.2531\tD(x): 0.9974\tD(G(z)): 0.8685 / 0.0177\n",
      "[25/60][100/777]\tLoss_D: 0.3595\tLoss_G: 2.1477\tD(x): 0.7852\tD(G(z)): 0.0884 / 0.1584\n",
      "[25/60][200/777]\tLoss_D: 0.5792\tLoss_G: 3.2283\tD(x): 0.8580\tD(G(z)): 0.3072 / 0.0542\n",
      "[25/60][300/777]\tLoss_D: 1.2396\tLoss_G: 2.6306\tD(x): 0.9124\tD(G(z)): 0.5858 / 0.1008\n",
      "[25/60][400/777]\tLoss_D: 1.1001\tLoss_G: 3.1464\tD(x): 0.7414\tD(G(z)): 0.4684 / 0.0611\n",
      "[25/60][500/777]\tLoss_D: 1.8594\tLoss_G: 1.0514\tD(x): 0.2332\tD(G(z)): 0.0274 / 0.4031\n",
      "[25/60][600/777]\tLoss_D: 0.2395\tLoss_G: 3.9445\tD(x): 0.9977\tD(G(z)): 0.1930 / 0.0321\n",
      "[25/60][700/777]\tLoss_D: 0.5824\tLoss_G: 2.0313\tD(x): 0.6511\tD(G(z)): 0.0734 / 0.1729\n",
      "\n"
     ]
    },
    {
     "data": {
      "application/vnd.jupyter.widget-view+json": {
       "model_id": "10f533e82e32453796b17ac26f4f58c7",
       "version_major": 2,
       "version_minor": 0
      },
      "text/plain": [
       "HBox(children=(FloatProgress(value=0.0, max=777.0), HTML(value='')))"
      ]
     },
     "metadata": {},
     "output_type": "display_data"
    },
    {
     "name": "stdout",
     "output_type": "stream",
     "text": [
      "[26/60][0/777]\tLoss_D: 1.5532\tLoss_G: 3.4689\tD(x): 0.9840\tD(G(z)): 0.7213 / 0.0535\n",
      "[26/60][100/777]\tLoss_D: 1.2280\tLoss_G: 0.8841\tD(x): 0.3639\tD(G(z)): 0.0383 / 0.4943\n",
      "[26/60][200/777]\tLoss_D: 0.7848\tLoss_G: 2.3108\tD(x): 0.6385\tD(G(z)): 0.2000 / 0.1344\n",
      "[26/60][300/777]\tLoss_D: 0.7877\tLoss_G: 1.3159\tD(x): 0.5437\tD(G(z)): 0.0464 / 0.3383\n",
      "[26/60][400/777]\tLoss_D: 0.5382\tLoss_G: 1.7645\tD(x): 0.9549\tD(G(z)): 0.3395 / 0.2315\n",
      "[26/60][500/777]\tLoss_D: 0.6038\tLoss_G: 3.9097\tD(x): 0.9119\tD(G(z)): 0.3635 / 0.0407\n",
      "[26/60][600/777]\tLoss_D: 0.3426\tLoss_G: 3.0618\tD(x): 0.8921\tD(G(z)): 0.1695 / 0.0867\n",
      "[26/60][700/777]\tLoss_D: 0.9406\tLoss_G: 2.3315\tD(x): 0.7888\tD(G(z)): 0.4489 / 0.1475\n",
      "\n"
     ]
    },
    {
     "data": {
      "application/vnd.jupyter.widget-view+json": {
       "model_id": "89d76766ad09490695cae0fd9757b2d5",
       "version_major": 2,
       "version_minor": 0
      },
      "text/plain": [
       "HBox(children=(FloatProgress(value=0.0, max=777.0), HTML(value='')))"
      ]
     },
     "metadata": {},
     "output_type": "display_data"
    },
    {
     "name": "stdout",
     "output_type": "stream",
     "text": [
      "[27/60][0/777]\tLoss_D: 1.5123\tLoss_G: 2.6363\tD(x): 0.9924\tD(G(z)): 0.7173 / 0.1212\n",
      "[27/60][100/777]\tLoss_D: 0.4776\tLoss_G: 0.8877\tD(x): 0.7409\tD(G(z)): 0.1090 / 0.4780\n",
      "[27/60][200/777]\tLoss_D: 0.5629\tLoss_G: 3.3367\tD(x): 0.6542\tD(G(z)): 0.0664 / 0.0563\n",
      "[27/60][300/777]\tLoss_D: 0.1722\tLoss_G: 4.1223\tD(x): 0.9042\tD(G(z)): 0.0593 / 0.0299\n",
      "[27/60][400/777]\tLoss_D: 0.5025\tLoss_G: 3.2978\tD(x): 0.6654\tD(G(z)): 0.0139 / 0.0653\n",
      "[27/60][500/777]\tLoss_D: 0.2924\tLoss_G: 3.4680\tD(x): 0.9018\tD(G(z)): 0.1499 / 0.0703\n",
      "[27/60][600/777]\tLoss_D: 0.4364\tLoss_G: 1.6310\tD(x): 0.8227\tD(G(z)): 0.1878 / 0.2818\n",
      "[27/60][700/777]\tLoss_D: 0.2769\tLoss_G: 4.3356\tD(x): 0.8331\tD(G(z)): 0.0803 / 0.0213\n",
      "\n"
     ]
    },
    {
     "data": {
      "application/vnd.jupyter.widget-view+json": {
       "model_id": "eb9dc3453add4de495c3392dd8e2d929",
       "version_major": 2,
       "version_minor": 0
      },
      "text/plain": [
       "HBox(children=(FloatProgress(value=0.0, max=777.0), HTML(value='')))"
      ]
     },
     "metadata": {},
     "output_type": "display_data"
    },
    {
     "name": "stdout",
     "output_type": "stream",
     "text": [
      "[28/60][0/777]\tLoss_D: 1.9138\tLoss_G: 5.5086\tD(x): 0.9989\tD(G(z)): 0.7875 / 0.0079\n",
      "[28/60][100/777]\tLoss_D: 0.3557\tLoss_G: 2.8815\tD(x): 0.8259\tD(G(z)): 0.1282 / 0.0923\n",
      "[28/60][200/777]\tLoss_D: 0.3678\tLoss_G: 2.8593\tD(x): 0.9484\tD(G(z)): 0.2406 / 0.0951\n",
      "[28/60][300/777]\tLoss_D: 0.5350\tLoss_G: 1.8349\tD(x): 0.6781\tD(G(z)): 0.0756 / 0.2532\n",
      "[28/60][400/777]\tLoss_D: 0.1985\tLoss_G: 4.5110\tD(x): 0.9372\tD(G(z)): 0.1191 / 0.0166\n",
      "[28/60][500/777]\tLoss_D: 0.3322\tLoss_G: 2.5792\tD(x): 0.9159\tD(G(z)): 0.1918 / 0.1286\n",
      "[28/60][600/777]\tLoss_D: 0.4200\tLoss_G: 3.0437\tD(x): 0.8355\tD(G(z)): 0.1896 / 0.0775\n",
      "[28/60][700/777]\tLoss_D: 1.7206\tLoss_G: 4.9948\tD(x): 0.9896\tD(G(z)): 0.7429 / 0.0161\n",
      "\n"
     ]
    },
    {
     "data": {
      "application/vnd.jupyter.widget-view+json": {
       "model_id": "7084743aa67142028535da90247c19af",
       "version_major": 2,
       "version_minor": 0
      },
      "text/plain": [
       "HBox(children=(FloatProgress(value=0.0, max=777.0), HTML(value='')))"
      ]
     },
     "metadata": {},
     "output_type": "display_data"
    },
    {
     "name": "stdout",
     "output_type": "stream",
     "text": [
      "[29/60][0/777]\tLoss_D: 0.8552\tLoss_G: 2.1493\tD(x): 0.8206\tD(G(z)): 0.4194 / 0.1605\n",
      "[29/60][100/777]\tLoss_D: 0.5991\tLoss_G: 2.8447\tD(x): 0.7865\tD(G(z)): 0.2637 / 0.0950\n",
      "[29/60][200/777]\tLoss_D: 0.2320\tLoss_G: 2.4957\tD(x): 0.8713\tD(G(z)): 0.0758 / 0.1218\n",
      "[29/60][300/777]\tLoss_D: 0.5589\tLoss_G: 5.0413\tD(x): 0.9542\tD(G(z)): 0.3411 / 0.0116\n",
      "[29/60][400/777]\tLoss_D: 0.5471\tLoss_G: 3.1238\tD(x): 0.7585\tD(G(z)): 0.1927 / 0.0708\n",
      "[29/60][500/777]\tLoss_D: 0.5087\tLoss_G: 4.2484\tD(x): 0.8360\tD(G(z)): 0.2346 / 0.0292\n",
      "[29/60][600/777]\tLoss_D: 1.0694\tLoss_G: 0.9115\tD(x): 0.4434\tD(G(z)): 0.0737 / 0.5080\n",
      "[29/60][700/777]\tLoss_D: 0.3347\tLoss_G: 2.9374\tD(x): 0.9884\tD(G(z)): 0.2442 / 0.0824\n",
      "\n"
     ]
    },
    {
     "data": {
      "application/vnd.jupyter.widget-view+json": {
       "model_id": "ece098ae152f43d98ba6c94fb81e0b7c",
       "version_major": 2,
       "version_minor": 0
      },
      "text/plain": [
       "HBox(children=(FloatProgress(value=0.0, max=777.0), HTML(value='')))"
      ]
     },
     "metadata": {},
     "output_type": "display_data"
    },
    {
     "name": "stdout",
     "output_type": "stream",
     "text": [
      "[30/60][0/777]\tLoss_D: 0.6418\tLoss_G: 2.2233\tD(x): 0.6757\tD(G(z)): 0.1011 / 0.1743\n",
      "[30/60][100/777]\tLoss_D: 0.2678\tLoss_G: 3.5969\tD(x): 0.9313\tD(G(z)): 0.1522 / 0.0582\n",
      "[30/60][200/777]\tLoss_D: 0.7304\tLoss_G: 3.7586\tD(x): 0.9735\tD(G(z)): 0.4278 / 0.0396\n",
      "[30/60][300/777]\tLoss_D: 0.3417\tLoss_G: 1.5142\tD(x): 0.8887\tD(G(z)): 0.1750 / 0.3062\n",
      "[30/60][400/777]\tLoss_D: 0.5218\tLoss_G: 3.4813\tD(x): 0.9114\tD(G(z)): 0.2933 / 0.0551\n",
      "[30/60][500/777]\tLoss_D: 0.4291\tLoss_G: 1.6614\tD(x): 0.9857\tD(G(z)): 0.2981 / 0.2610\n",
      "[30/60][600/777]\tLoss_D: 0.3063\tLoss_G: 0.6519\tD(x): 0.8034\tD(G(z)): 0.0545 / 0.6034\n",
      "[30/60][700/777]\tLoss_D: 0.4798\tLoss_G: 2.0233\tD(x): 0.7657\tD(G(z)): 0.1556 / 0.2048\n",
      "\n"
     ]
    },
    {
     "data": {
      "application/vnd.jupyter.widget-view+json": {
       "model_id": "6936806cc6ef416f9bbe10d470d64b4b",
       "version_major": 2,
       "version_minor": 0
      },
      "text/plain": [
       "HBox(children=(FloatProgress(value=0.0, max=777.0), HTML(value='')))"
      ]
     },
     "metadata": {},
     "output_type": "display_data"
    },
    {
     "name": "stdout",
     "output_type": "stream",
     "text": [
      "[31/60][0/777]\tLoss_D: 0.6978\tLoss_G: 4.9676\tD(x): 0.9702\tD(G(z)): 0.4128 / 0.0142\n",
      "[31/60][100/777]\tLoss_D: 0.3245\tLoss_G: 2.6688\tD(x): 0.9070\tD(G(z)): 0.1663 / 0.1074\n",
      "[31/60][200/777]\tLoss_D: 0.6824\tLoss_G: 1.4174\tD(x): 0.7087\tD(G(z)): 0.2339 / 0.3380\n",
      "[31/60][300/777]\tLoss_D: 0.4421\tLoss_G: 1.4494\tD(x): 0.7954\tD(G(z)): 0.1438 / 0.3176\n",
      "[31/60][400/777]\tLoss_D: 0.1428\tLoss_G: 3.0846\tD(x): 0.9343\tD(G(z)): 0.0606 / 0.0705\n",
      "[31/60][500/777]\tLoss_D: 0.4940\tLoss_G: 1.9288\tD(x): 0.8148\tD(G(z)): 0.2009 / 0.2290\n",
      "[31/60][600/777]\tLoss_D: 0.4525\tLoss_G: 1.9043\tD(x): 0.8784\tD(G(z)): 0.2308 / 0.2192\n",
      "[31/60][700/777]\tLoss_D: 1.0674\tLoss_G: 1.4792\tD(x): 0.4331\tD(G(z)): 0.0304 / 0.3212\n",
      "\n"
     ]
    },
    {
     "data": {
      "application/vnd.jupyter.widget-view+json": {
       "model_id": "75675bc196b842049cfb65f23d588fbd",
       "version_major": 2,
       "version_minor": 0
      },
      "text/plain": [
       "HBox(children=(FloatProgress(value=0.0, max=777.0), HTML(value='')))"
      ]
     },
     "metadata": {},
     "output_type": "display_data"
    },
    {
     "name": "stdout",
     "output_type": "stream",
     "text": [
      "[32/60][0/777]\tLoss_D: 0.7632\tLoss_G: 4.3041\tD(x): 0.9855\tD(G(z)): 0.4572 / 0.0315\n",
      "[32/60][100/777]\tLoss_D: 0.8492\tLoss_G: 0.9384\tD(x): 0.5141\tD(G(z)): 0.0269 / 0.5224\n",
      "[32/60][200/777]\tLoss_D: 0.6778\tLoss_G: 3.2450\tD(x): 0.9411\tD(G(z)): 0.4148 / 0.0562\n",
      "[32/60][300/777]\tLoss_D: 0.1734\tLoss_G: 3.7015\tD(x): 0.9914\tD(G(z)): 0.1388 / 0.0423\n",
      "[32/60][400/777]\tLoss_D: 0.5818\tLoss_G: 2.2218\tD(x): 0.6989\tD(G(z)): 0.1302 / 0.1679\n",
      "[32/60][500/777]\tLoss_D: 0.6511\tLoss_G: 1.8724\tD(x): 0.9419\tD(G(z)): 0.3939 / 0.2161\n",
      "[32/60][600/777]\tLoss_D: 0.3892\tLoss_G: 0.4903\tD(x): 0.7781\tD(G(z)): 0.0937 / 0.6805\n",
      "[32/60][700/777]\tLoss_D: 0.9826\tLoss_G: 4.8280\tD(x): 0.9588\tD(G(z)): 0.5385 / 0.0150\n",
      "\n"
     ]
    },
    {
     "data": {
      "application/vnd.jupyter.widget-view+json": {
       "model_id": "9306813059cb4b7b8047707dae6372d3",
       "version_major": 2,
       "version_minor": 0
      },
      "text/plain": [
       "HBox(children=(FloatProgress(value=0.0, max=777.0), HTML(value='')))"
      ]
     },
     "metadata": {},
     "output_type": "display_data"
    },
    {
     "name": "stdout",
     "output_type": "stream",
     "text": [
      "[33/60][0/777]\tLoss_D: 0.4305\tLoss_G: 2.7955\tD(x): 0.9512\tD(G(z)): 0.2788 / 0.1200\n",
      "[33/60][100/777]\tLoss_D: 1.9855\tLoss_G: 2.1994\tD(x): 0.2172\tD(G(z)): 0.0080 / 0.1839\n",
      "[33/60][200/777]\tLoss_D: 0.7107\tLoss_G: 3.7745\tD(x): 0.9478\tD(G(z)): 0.4242 / 0.0467\n",
      "[33/60][300/777]\tLoss_D: 0.4967\tLoss_G: 2.3159\tD(x): 0.7429\tD(G(z)): 0.1302 / 0.1597\n",
      "[33/60][400/777]\tLoss_D: 0.5915\tLoss_G: 2.4260\tD(x): 0.9552\tD(G(z)): 0.3740 / 0.1441\n",
      "[33/60][500/777]\tLoss_D: 0.4326\tLoss_G: 2.9986\tD(x): 0.8344\tD(G(z)): 0.1909 / 0.0757\n",
      "[33/60][600/777]\tLoss_D: 0.1753\tLoss_G: 3.1039\tD(x): 0.9373\tD(G(z)): 0.0959 / 0.0739\n",
      "[33/60][700/777]\tLoss_D: 0.3742\tLoss_G: 0.9169\tD(x): 0.7559\tD(G(z)): 0.0676 / 0.4685\n",
      "\n"
     ]
    },
    {
     "data": {
      "application/vnd.jupyter.widget-view+json": {
       "model_id": "6981764ae9104a0799747743610cd228",
       "version_major": 2,
       "version_minor": 0
      },
      "text/plain": [
       "HBox(children=(FloatProgress(value=0.0, max=777.0), HTML(value='')))"
      ]
     },
     "metadata": {},
     "output_type": "display_data"
    },
    {
     "name": "stdout",
     "output_type": "stream",
     "text": [
      "[34/60][0/777]\tLoss_D: 0.5798\tLoss_G: 1.9935\tD(x): 0.9870\tD(G(z)): 0.3762 / 0.2046\n",
      "[34/60][100/777]\tLoss_D: 0.3700\tLoss_G: 2.8596\tD(x): 0.7823\tD(G(z)): 0.0833 / 0.0848\n",
      "[34/60][200/777]\tLoss_D: 2.0096\tLoss_G: 0.3264\tD(x): 0.1892\tD(G(z)): 0.0363 / 0.7594\n",
      "[34/60][300/777]\tLoss_D: 0.2571\tLoss_G: 2.5819\tD(x): 0.9262\tD(G(z)): 0.1472 / 0.1110\n",
      "[34/60][400/777]\tLoss_D: 0.6545\tLoss_G: 2.1675\tD(x): 0.6593\tD(G(z)): 0.1533 / 0.1761\n",
      "[34/60][500/777]\tLoss_D: 0.4477\tLoss_G: 2.4998\tD(x): 0.7068\tD(G(z)): 0.0360 / 0.1333\n",
      "[34/60][600/777]\tLoss_D: 0.3464\tLoss_G: 3.9113\tD(x): 0.8395\tD(G(z)): 0.1337 / 0.0399\n",
      "[34/60][700/777]\tLoss_D: 0.1393\tLoss_G: 4.0726\tD(x): 0.9045\tD(G(z)): 0.0285 / 0.0335\n",
      "\n"
     ]
    },
    {
     "data": {
      "application/vnd.jupyter.widget-view+json": {
       "model_id": "eafe1f84c4d04b939e745820814889a9",
       "version_major": 2,
       "version_minor": 0
      },
      "text/plain": [
       "HBox(children=(FloatProgress(value=0.0, max=777.0), HTML(value='')))"
      ]
     },
     "metadata": {},
     "output_type": "display_data"
    },
    {
     "name": "stdout",
     "output_type": "stream",
     "text": [
      "[35/60][0/777]\tLoss_D: 0.2508\tLoss_G: 2.8019\tD(x): 0.9197\tD(G(z)): 0.1335 / 0.1130\n",
      "[35/60][100/777]\tLoss_D: 0.2504\tLoss_G: 2.6383\tD(x): 0.8227\tD(G(z)): 0.0365 / 0.0992\n",
      "[35/60][200/777]\tLoss_D: 0.2972\tLoss_G: 2.6555\tD(x): 0.7864\tD(G(z)): 0.0257 / 0.1334\n",
      "[35/60][300/777]\tLoss_D: 0.2264\tLoss_G: 1.5868\tD(x): 0.9902\tD(G(z)): 0.1774 / 0.2616\n",
      "[35/60][400/777]\tLoss_D: 0.6120\tLoss_G: 2.3592\tD(x): 0.7570\tD(G(z)): 0.2153 / 0.1403\n",
      "[35/60][500/777]\tLoss_D: 0.7925\tLoss_G: 4.9047\tD(x): 0.9854\tD(G(z)): 0.4693 / 0.0150\n",
      "[35/60][600/777]\tLoss_D: 0.6111\tLoss_G: 5.5492\tD(x): 0.9619\tD(G(z)): 0.3955 / 0.0066\n",
      "[35/60][700/777]\tLoss_D: 0.4820\tLoss_G: 4.6141\tD(x): 0.6657\tD(G(z)): 0.0057 / 0.0232\n",
      "\n"
     ]
    },
    {
     "data": {
      "application/vnd.jupyter.widget-view+json": {
       "model_id": "ea9e523a6cd34335a5e79f28d4d8c9bc",
       "version_major": 2,
       "version_minor": 0
      },
      "text/plain": [
       "HBox(children=(FloatProgress(value=0.0, max=777.0), HTML(value='')))"
      ]
     },
     "metadata": {},
     "output_type": "display_data"
    },
    {
     "name": "stdout",
     "output_type": "stream",
     "text": [
      "[36/60][0/777]\tLoss_D: 3.0370\tLoss_G: 3.9184\tD(x): 0.9971\tD(G(z)): 0.9011 / 0.0587\n",
      "[36/60][100/777]\tLoss_D: 0.0411\tLoss_G: 4.4032\tD(x): 0.9848\tD(G(z)): 0.0244 / 0.0267\n",
      "[36/60][200/777]\tLoss_D: 0.1726\tLoss_G: 5.4192\tD(x): 0.9060\tD(G(z)): 0.0636 / 0.0104\n",
      "[36/60][300/777]\tLoss_D: 0.2822\tLoss_G: 3.5599\tD(x): 0.8815\tD(G(z)): 0.1270 / 0.0566\n",
      "[36/60][400/777]\tLoss_D: 0.6457\tLoss_G: 1.1170\tD(x): 0.5882\tD(G(z)): 0.0159 / 0.4326\n",
      "[36/60][500/777]\tLoss_D: 0.7382\tLoss_G: 4.2417\tD(x): 0.9342\tD(G(z)): 0.4155 / 0.0328\n",
      "[36/60][600/777]\tLoss_D: 0.2170\tLoss_G: 2.2126\tD(x): 0.9922\tD(G(z)): 0.1762 / 0.1569\n",
      "[36/60][700/777]\tLoss_D: 0.2931\tLoss_G: 4.4068\tD(x): 0.9361\tD(G(z)): 0.1813 / 0.0221\n",
      "\n"
     ]
    },
    {
     "data": {
      "application/vnd.jupyter.widget-view+json": {
       "model_id": "01f7d18428a64848b3a9094a6d54bb4d",
       "version_major": 2,
       "version_minor": 0
      },
      "text/plain": [
       "HBox(children=(FloatProgress(value=0.0, max=777.0), HTML(value='')))"
      ]
     },
     "metadata": {},
     "output_type": "display_data"
    },
    {
     "name": "stdout",
     "output_type": "stream",
     "text": [
      "[37/60][0/777]\tLoss_D: 0.3050\tLoss_G: 4.0094\tD(x): 0.8248\tD(G(z)): 0.0597 / 0.0349\n",
      "[37/60][100/777]\tLoss_D: 1.0913\tLoss_G: 4.0668\tD(x): 0.9808\tD(G(z)): 0.5717 / 0.0323\n",
      "[37/60][200/777]\tLoss_D: 0.3345\tLoss_G: 1.8044\tD(x): 0.7757\tD(G(z)): 0.0350 / 0.2516\n",
      "[37/60][300/777]\tLoss_D: 0.3122\tLoss_G: 3.1212\tD(x): 0.8747\tD(G(z)): 0.1458 / 0.0710\n",
      "[37/60][400/777]\tLoss_D: 0.4043\tLoss_G: 4.0667\tD(x): 0.9269\tD(G(z)): 0.2395 / 0.0335\n",
      "[37/60][500/777]\tLoss_D: 0.2548\tLoss_G: 5.3057\tD(x): 0.9195\tD(G(z)): 0.1337 / 0.0110\n",
      "[37/60][600/777]\tLoss_D: 0.2640\tLoss_G: 3.8937\tD(x): 0.9240\tD(G(z)): 0.1300 / 0.0408\n",
      "[37/60][700/777]\tLoss_D: 0.2929\tLoss_G: 2.4426\tD(x): 0.8374\tD(G(z)): 0.0745 / 0.1473\n",
      "\n"
     ]
    },
    {
     "data": {
      "application/vnd.jupyter.widget-view+json": {
       "model_id": "00aaea9d32004aa7bb21e5be460992ff",
       "version_major": 2,
       "version_minor": 0
      },
      "text/plain": [
       "HBox(children=(FloatProgress(value=0.0, max=777.0), HTML(value='')))"
      ]
     },
     "metadata": {},
     "output_type": "display_data"
    },
    {
     "name": "stdout",
     "output_type": "stream",
     "text": [
      "[38/60][0/777]\tLoss_D: 1.2319\tLoss_G: 4.0449\tD(x): 0.9954\tD(G(z)): 0.6249 / 0.0345\n",
      "[38/60][100/777]\tLoss_D: 0.4482\tLoss_G: 5.8925\tD(x): 0.9268\tD(G(z)): 0.2874 / 0.0098\n",
      "[38/60][200/777]\tLoss_D: 0.3835\tLoss_G: 3.0545\tD(x): 0.9701\tD(G(z)): 0.2609 / 0.0911\n",
      "[38/60][300/777]\tLoss_D: 2.6894\tLoss_G: 2.8191\tD(x): 0.1490\tD(G(z)): 0.0007 / 0.1175\n",
      "[38/60][400/777]\tLoss_D: 0.4129\tLoss_G: 2.6336\tD(x): 0.9036\tD(G(z)): 0.2288 / 0.1394\n",
      "[38/60][500/777]\tLoss_D: 0.5607\tLoss_G: 1.7753\tD(x): 0.6267\tD(G(z)): 0.0048 / 0.2543\n",
      "[38/60][600/777]\tLoss_D: 0.0887\tLoss_G: 4.0444\tD(x): 0.9791\tD(G(z)): 0.0589 / 0.0328\n",
      "[38/60][700/777]\tLoss_D: 0.3653\tLoss_G: 2.5747\tD(x): 0.7861\tD(G(z)): 0.0719 / 0.1232\n",
      "\n"
     ]
    },
    {
     "data": {
      "application/vnd.jupyter.widget-view+json": {
       "model_id": "ab9c30f135b24f3eb109d0ffa0d74ed0",
       "version_major": 2,
       "version_minor": 0
      },
      "text/plain": [
       "HBox(children=(FloatProgress(value=0.0, max=777.0), HTML(value='')))"
      ]
     },
     "metadata": {},
     "output_type": "display_data"
    },
    {
     "name": "stdout",
     "output_type": "stream",
     "text": [
      "[39/60][0/777]\tLoss_D: 0.1633\tLoss_G: 3.7787\tD(x): 0.9939\tD(G(z)): 0.1261 / 0.0459\n",
      "[39/60][100/777]\tLoss_D: 0.0986\tLoss_G: 3.1708\tD(x): 0.9470\tD(G(z)): 0.0397 / 0.0758\n",
      "[39/60][200/777]\tLoss_D: 0.6634\tLoss_G: 3.2482\tD(x): 0.8001\tD(G(z)): 0.2881 / 0.0654\n",
      "[39/60][300/777]\tLoss_D: 0.3733\tLoss_G: 2.3927\tD(x): 0.9600\tD(G(z)): 0.2471 / 0.1557\n",
      "[39/60][400/777]\tLoss_D: 0.1290\tLoss_G: 4.2722\tD(x): 0.8941\tD(G(z)): 0.0071 / 0.0266\n",
      "[39/60][500/777]\tLoss_D: 0.5757\tLoss_G: 4.5688\tD(x): 0.9926\tD(G(z)): 0.3742 / 0.0192\n",
      "[39/60][600/777]\tLoss_D: 1.2597\tLoss_G: 6.5759\tD(x): 0.8918\tD(G(z)): 0.6073 / 0.0042\n",
      "[39/60][700/777]\tLoss_D: 0.5431\tLoss_G: 1.8129\tD(x): 0.6775\tD(G(z)): 0.0919 / 0.2529\n",
      "\n"
     ]
    },
    {
     "data": {
      "application/vnd.jupyter.widget-view+json": {
       "model_id": "e37a3a04a3a9494d9a47e1ff73fd3a42",
       "version_major": 2,
       "version_minor": 0
      },
      "text/plain": [
       "HBox(children=(FloatProgress(value=0.0, max=777.0), HTML(value='')))"
      ]
     },
     "metadata": {},
     "output_type": "display_data"
    },
    {
     "name": "stdout",
     "output_type": "stream",
     "text": [
      "[40/60][0/777]\tLoss_D: 0.1476\tLoss_G: 3.1016\tD(x): 0.9975\tD(G(z)): 0.1263 / 0.0721\n",
      "[40/60][100/777]\tLoss_D: 0.6856\tLoss_G: 4.1052\tD(x): 0.9269\tD(G(z)): 0.3637 / 0.0291\n",
      "[40/60][200/777]\tLoss_D: 0.1361\tLoss_G: 2.2340\tD(x): 0.9767\tD(G(z)): 0.0913 / 0.1622\n",
      "[40/60][300/777]\tLoss_D: 0.4573\tLoss_G: 5.9441\tD(x): 0.9608\tD(G(z)): 0.3034 / 0.0071\n",
      "[40/60][400/777]\tLoss_D: 0.4228\tLoss_G: 4.3038\tD(x): 0.9774\tD(G(z)): 0.2892 / 0.0292\n",
      "[40/60][500/777]\tLoss_D: 1.0824\tLoss_G: 0.7068\tD(x): 0.4539\tD(G(z)): 0.0214 / 0.5957\n",
      "[40/60][600/777]\tLoss_D: 0.5516\tLoss_G: 4.1318\tD(x): 0.9568\tD(G(z)): 0.3310 / 0.0303\n",
      "[40/60][700/777]\tLoss_D: 0.5384\tLoss_G: 2.3356\tD(x): 0.8328\tD(G(z)): 0.2320 / 0.1478\n",
      "\n"
     ]
    },
    {
     "data": {
      "application/vnd.jupyter.widget-view+json": {
       "model_id": "3e394606dce14a3388ae07382482bc89",
       "version_major": 2,
       "version_minor": 0
      },
      "text/plain": [
       "HBox(children=(FloatProgress(value=0.0, max=777.0), HTML(value='')))"
      ]
     },
     "metadata": {},
     "output_type": "display_data"
    },
    {
     "name": "stdout",
     "output_type": "stream",
     "text": [
      "[41/60][0/777]\tLoss_D: 0.8356\tLoss_G: 4.8117\tD(x): 0.9970\tD(G(z)): 0.4873 / 0.0160\n",
      "[41/60][100/777]\tLoss_D: 0.6970\tLoss_G: 1.3451\tD(x): 0.5711\tD(G(z)): 0.0183 / 0.3557\n",
      "[41/60][200/777]\tLoss_D: 1.5899\tLoss_G: 7.0877\tD(x): 0.9977\tD(G(z)): 0.6979 / 0.0023\n",
      "[41/60][300/777]\tLoss_D: 0.2792\tLoss_G: 4.7544\tD(x): 0.9323\tD(G(z)): 0.1454 / 0.0201\n",
      "[41/60][400/777]\tLoss_D: 0.6820\tLoss_G: 4.7364\tD(x): 0.9721\tD(G(z)): 0.3981 / 0.0231\n",
      "[41/60][500/777]\tLoss_D: 0.1275\tLoss_G: 4.9538\tD(x): 0.9322\tD(G(z)): 0.0409 / 0.0155\n",
      "[41/60][600/777]\tLoss_D: 0.1582\tLoss_G: 5.7444\tD(x): 0.9407\tD(G(z)): 0.0772 / 0.0063\n",
      "[41/60][700/777]\tLoss_D: 0.3070\tLoss_G: 1.9134\tD(x): 0.8716\tD(G(z)): 0.1269 / 0.2169\n",
      "\n"
     ]
    },
    {
     "data": {
      "application/vnd.jupyter.widget-view+json": {
       "model_id": "f2899edc4c53433dbe466eee51894ce7",
       "version_major": 2,
       "version_minor": 0
      },
      "text/plain": [
       "HBox(children=(FloatProgress(value=0.0, max=777.0), HTML(value='')))"
      ]
     },
     "metadata": {},
     "output_type": "display_data"
    },
    {
     "name": "stdout",
     "output_type": "stream",
     "text": [
      "[42/60][0/777]\tLoss_D: 0.6489\tLoss_G: 6.3593\tD(x): 0.9835\tD(G(z)): 0.3974 / 0.0043\n",
      "[42/60][100/777]\tLoss_D: 0.2811\tLoss_G: 1.9504\tD(x): 0.8509\tD(G(z)): 0.0898 / 0.2294\n",
      "[42/60][200/777]\tLoss_D: 1.2762\tLoss_G: 4.2727\tD(x): 0.9961\tD(G(z)): 0.6313 / 0.0289\n",
      "[42/60][300/777]\tLoss_D: 0.8692\tLoss_G: 0.4490\tD(x): 0.5283\tD(G(z)): 0.0761 / 0.6928\n",
      "[42/60][400/777]\tLoss_D: 0.2097\tLoss_G: 2.5517\tD(x): 0.9626\tD(G(z)): 0.1381 / 0.1479\n",
      "[42/60][500/777]\tLoss_D: 0.6286\tLoss_G: 1.6808\tD(x): 0.6174\tD(G(z)): 0.0237 / 0.2681\n",
      "[42/60][600/777]\tLoss_D: 0.2797\tLoss_G: 3.2015\tD(x): 0.9611\tD(G(z)): 0.1834 / 0.0859\n",
      "[42/60][700/777]\tLoss_D: 0.5025\tLoss_G: 2.7232\tD(x): 0.6832\tD(G(z)): 0.0426 / 0.0936\n",
      "\n"
     ]
    },
    {
     "data": {
      "application/vnd.jupyter.widget-view+json": {
       "model_id": "683b3fe8b72f445696cea05e5207f699",
       "version_major": 2,
       "version_minor": 0
      },
      "text/plain": [
       "HBox(children=(FloatProgress(value=0.0, max=777.0), HTML(value='')))"
      ]
     },
     "metadata": {},
     "output_type": "display_data"
    },
    {
     "name": "stdout",
     "output_type": "stream",
     "text": [
      "[43/60][0/777]\tLoss_D: 5.0948\tLoss_G: 2.4819\tD(x): 0.9996\tD(G(z)): 0.9886 / 0.1541\n",
      "[43/60][100/777]\tLoss_D: 0.0793\tLoss_G: 4.1006\tD(x): 0.9802\tD(G(z)): 0.0552 / 0.0322\n",
      "[43/60][200/777]\tLoss_D: 0.3281\tLoss_G: 3.2777\tD(x): 0.9977\tD(G(z)): 0.2326 / 0.0604\n",
      "[43/60][300/777]\tLoss_D: 0.0334\tLoss_G: 2.5206\tD(x): 0.9984\tD(G(z)): 0.0287 / 0.1598\n",
      "[43/60][400/777]\tLoss_D: 0.0951\tLoss_G: 6.3041\tD(x): 0.9319\tD(G(z)): 0.0182 / 0.0044\n",
      "[43/60][500/777]\tLoss_D: 0.1744\tLoss_G: 4.4098\tD(x): 0.9477\tD(G(z)): 0.0826 / 0.0252\n",
      "[43/60][600/777]\tLoss_D: 0.4339\tLoss_G: 4.9446\tD(x): 0.8900\tD(G(z)): 0.2248 / 0.0174\n",
      "[43/60][700/777]\tLoss_D: 0.1635\tLoss_G: 2.0048\tD(x): 0.8748\tD(G(z)): 0.0165 / 0.2633\n",
      "\n"
     ]
    },
    {
     "data": {
      "application/vnd.jupyter.widget-view+json": {
       "model_id": "5b153c0a71a74fc387ba4565e79a509b",
       "version_major": 2,
       "version_minor": 0
      },
      "text/plain": [
       "HBox(children=(FloatProgress(value=0.0, max=777.0), HTML(value='')))"
      ]
     },
     "metadata": {},
     "output_type": "display_data"
    },
    {
     "name": "stdout",
     "output_type": "stream",
     "text": [
      "[44/60][0/777]\tLoss_D: 0.6595\tLoss_G: 5.6800\tD(x): 0.9977\tD(G(z)): 0.3937 / 0.0067\n",
      "[44/60][100/777]\tLoss_D: 0.1122\tLoss_G: 5.3877\tD(x): 0.9823\tD(G(z)): 0.0829 / 0.0107\n",
      "[44/60][200/777]\tLoss_D: 3.0417\tLoss_G: 4.2806\tD(x): 0.9998\tD(G(z)): 0.9079 / 0.0369\n",
      "[44/60][300/777]\tLoss_D: 0.5448\tLoss_G: 2.3574\tD(x): 0.6464\tD(G(z)): 0.0115 / 0.1708\n",
      "[44/60][400/777]\tLoss_D: 0.0569\tLoss_G: 3.3191\tD(x): 0.9669\tD(G(z)): 0.0219 / 0.0647\n",
      "[44/60][500/777]\tLoss_D: 0.4467\tLoss_G: 3.7790\tD(x): 0.9196\tD(G(z)): 0.2736 / 0.0431\n",
      "[44/60][600/777]\tLoss_D: 0.4907\tLoss_G: 5.1023\tD(x): 0.9521\tD(G(z)): 0.3209 / 0.0157\n",
      "[44/60][700/777]\tLoss_D: 0.2408\tLoss_G: 1.2256\tD(x): 0.9212\tD(G(z)): 0.1231 / 0.4131\n",
      "\n"
     ]
    },
    {
     "data": {
      "application/vnd.jupyter.widget-view+json": {
       "model_id": "da5e270c131e4f98a59290d031e5bd13",
       "version_major": 2,
       "version_minor": 0
      },
      "text/plain": [
       "HBox(children=(FloatProgress(value=0.0, max=777.0), HTML(value='')))"
      ]
     },
     "metadata": {},
     "output_type": "display_data"
    },
    {
     "name": "stdout",
     "output_type": "stream",
     "text": [
      "[45/60][0/777]\tLoss_D: 0.4473\tLoss_G: 2.7124\tD(x): 0.6913\tD(G(z)): 0.0125 / 0.1248\n",
      "[45/60][100/777]\tLoss_D: 0.6175\tLoss_G: 2.5830\tD(x): 0.6523\tD(G(z)): 0.0924 / 0.1238\n",
      "[45/60][200/777]\tLoss_D: 0.5312\tLoss_G: 4.3792\tD(x): 0.6389\tD(G(z)): 0.0048 / 0.0336\n",
      "[45/60][300/777]\tLoss_D: 0.7161\tLoss_G: 2.4532\tD(x): 0.5587\tD(G(z)): 0.0071 / 0.1503\n",
      "[45/60][400/777]\tLoss_D: 0.1816\tLoss_G: 3.2868\tD(x): 0.9860\tD(G(z)): 0.1400 / 0.0640\n",
      "[45/60][500/777]\tLoss_D: 0.1918\tLoss_G: 2.8877\tD(x): 0.8969\tD(G(z)): 0.0705 / 0.0923\n",
      "[45/60][600/777]\tLoss_D: 0.1486\tLoss_G: 6.2254\tD(x): 0.9697\tD(G(z)): 0.1008 / 0.0056\n",
      "[45/60][700/777]\tLoss_D: 0.8192\tLoss_G: 2.9035\tD(x): 0.5877\tD(G(z)): 0.1148 / 0.1085\n",
      "\n"
     ]
    },
    {
     "data": {
      "application/vnd.jupyter.widget-view+json": {
       "model_id": "3717b1f2e74e49a3bfaafa73472135eb",
       "version_major": 2,
       "version_minor": 0
      },
      "text/plain": [
       "HBox(children=(FloatProgress(value=0.0, max=777.0), HTML(value='')))"
      ]
     },
     "metadata": {},
     "output_type": "display_data"
    },
    {
     "name": "stdout",
     "output_type": "stream",
     "text": [
      "[46/60][0/777]\tLoss_D: 0.9576\tLoss_G: 0.6862\tD(x): 0.5198\tD(G(z)): 0.1150 / 0.5889\n",
      "[46/60][100/777]\tLoss_D: 0.5798\tLoss_G: 3.1512\tD(x): 0.6988\tD(G(z)): 0.1022 / 0.0822\n",
      "[46/60][200/777]\tLoss_D: 0.0839\tLoss_G: 5.9546\tD(x): 0.9444\tD(G(z)): 0.0236 / 0.0085\n",
      "[46/60][300/777]\tLoss_D: 0.5178\tLoss_G: 2.7384\tD(x): 0.9732\tD(G(z)): 0.3145 / 0.1160\n",
      "[46/60][400/777]\tLoss_D: 1.9258\tLoss_G: 0.3503\tD(x): 0.2399\tD(G(z)): 0.0017 / 0.7954\n",
      "[46/60][500/777]\tLoss_D: 0.1223\tLoss_G: 3.5956\tD(x): 0.9722\tD(G(z)): 0.0810 / 0.0534\n",
      "[46/60][600/777]\tLoss_D: 1.1165\tLoss_G: 4.5119\tD(x): 0.9862\tD(G(z)): 0.5500 / 0.0305\n",
      "[46/60][700/777]\tLoss_D: 0.4642\tLoss_G: 2.8926\tD(x): 0.7235\tD(G(z)): 0.0755 / 0.1194\n",
      "\n"
     ]
    },
    {
     "data": {
      "application/vnd.jupyter.widget-view+json": {
       "model_id": "2cc135d6ef7b4aeea308b59b5ca841cf",
       "version_major": 2,
       "version_minor": 0
      },
      "text/plain": [
       "HBox(children=(FloatProgress(value=0.0, max=777.0), HTML(value='')))"
      ]
     },
     "metadata": {},
     "output_type": "display_data"
    },
    {
     "name": "stdout",
     "output_type": "stream",
     "text": [
      "[47/60][0/777]\tLoss_D: 0.2767\tLoss_G: 3.7965\tD(x): 0.9057\tD(G(z)): 0.1203 / 0.0469\n",
      "[47/60][100/777]\tLoss_D: 0.1466\tLoss_G: 8.6335\tD(x): 0.8792\tD(G(z)): 0.0038 / 0.0005\n",
      "[47/60][200/777]\tLoss_D: 0.1036\tLoss_G: 3.7419\tD(x): 0.9139\tD(G(z)): 0.0077 / 0.0574\n",
      "[47/60][300/777]\tLoss_D: 0.3812\tLoss_G: 4.5226\tD(x): 0.9601\tD(G(z)): 0.2345 / 0.0254\n",
      "[47/60][400/777]\tLoss_D: 0.3922\tLoss_G: 3.6485\tD(x): 0.7732\tD(G(z)): 0.0653 / 0.0496\n",
      "[47/60][500/777]\tLoss_D: 0.0641\tLoss_G: 5.3695\tD(x): 0.9866\tD(G(z)): 0.0477 / 0.0139\n",
      "[47/60][600/777]\tLoss_D: 0.3251\tLoss_G: 4.9829\tD(x): 0.9762\tD(G(z)): 0.2269 / 0.0155\n",
      "[47/60][700/777]\tLoss_D: 0.0739\tLoss_G: 3.1877\tD(x): 0.9666\tD(G(z)): 0.0373 / 0.0840\n",
      "\n"
     ]
    },
    {
     "data": {
      "application/vnd.jupyter.widget-view+json": {
       "model_id": "bcff3f84107a43c0aa175bef53e3535e",
       "version_major": 2,
       "version_minor": 0
      },
      "text/plain": [
       "HBox(children=(FloatProgress(value=0.0, max=777.0), HTML(value='')))"
      ]
     },
     "metadata": {},
     "output_type": "display_data"
    },
    {
     "name": "stdout",
     "output_type": "stream",
     "text": [
      "[48/60][0/777]\tLoss_D: 0.4463\tLoss_G: 5.0987\tD(x): 0.9952\tD(G(z)): 0.3140 / 0.0137\n",
      "[48/60][100/777]\tLoss_D: 0.5356\tLoss_G: 7.8827\tD(x): 0.9750\tD(G(z)): 0.3442 / 0.0010\n",
      "[48/60][200/777]\tLoss_D: 0.2834\tLoss_G: 2.8126\tD(x): 0.8928\tD(G(z)): 0.1335 / 0.1098\n",
      "[48/60][300/777]\tLoss_D: 0.3778\tLoss_G: 4.6935\tD(x): 0.7329\tD(G(z)): 0.0056 / 0.0280\n",
      "[48/60][400/777]\tLoss_D: 0.3118\tLoss_G: 1.4724\tD(x): 0.7708\tD(G(z)): 0.0131 / 0.3136\n",
      "[48/60][500/777]\tLoss_D: 0.4587\tLoss_G: 3.3188\tD(x): 0.8706\tD(G(z)): 0.2197 / 0.0808\n",
      "[48/60][600/777]\tLoss_D: 0.0496\tLoss_G: 4.5622\tD(x): 0.9952\tD(G(z)): 0.0424 / 0.0206\n",
      "[48/60][700/777]\tLoss_D: 0.0548\tLoss_G: 7.0079\tD(x): 0.9565\tD(G(z)): 0.0073 / 0.0033\n",
      "\n"
     ]
    },
    {
     "data": {
      "application/vnd.jupyter.widget-view+json": {
       "model_id": "eb272b2415a94042a49019bbfadad769",
       "version_major": 2,
       "version_minor": 0
      },
      "text/plain": [
       "HBox(children=(FloatProgress(value=0.0, max=777.0), HTML(value='')))"
      ]
     },
     "metadata": {},
     "output_type": "display_data"
    },
    {
     "name": "stdout",
     "output_type": "stream",
     "text": [
      "[49/60][0/777]\tLoss_D: 0.5378\tLoss_G: 4.9757\tD(x): 0.9973\tD(G(z)): 0.3431 / 0.0138\n",
      "[49/60][100/777]\tLoss_D: 0.2052\tLoss_G: 3.4674\tD(x): 0.8579\tD(G(z)): 0.0283 / 0.0649\n",
      "[49/60][200/777]\tLoss_D: 0.0317\tLoss_G: 2.8489\tD(x): 0.9960\tD(G(z)): 0.0266 / 0.1136\n",
      "[49/60][300/777]\tLoss_D: 0.4276\tLoss_G: 6.4032\tD(x): 0.6985\tD(G(z)): 0.0025 / 0.0038\n",
      "[49/60][400/777]\tLoss_D: 0.2642\tLoss_G: 7.2230\tD(x): 0.7994\tD(G(z)): 0.0117 / 0.0016\n",
      "[49/60][500/777]\tLoss_D: 0.0576\tLoss_G: 2.7417\tD(x): 0.9849\tD(G(z)): 0.0402 / 0.1158\n",
      "[49/60][600/777]\tLoss_D: 0.5535\tLoss_G: 4.1316\tD(x): 0.9953\tD(G(z)): 0.3408 / 0.0491\n",
      "[49/60][700/777]\tLoss_D: 0.3289\tLoss_G: 1.9169\tD(x): 0.7828\tD(G(z)): 0.0229 / 0.2617\n",
      "\n"
     ]
    },
    {
     "data": {
      "application/vnd.jupyter.widget-view+json": {
       "model_id": "b31e4955404d47dab73e2a83aed3d0ea",
       "version_major": 2,
       "version_minor": 0
      },
      "text/plain": [
       "HBox(children=(FloatProgress(value=0.0, max=777.0), HTML(value='')))"
      ]
     },
     "metadata": {},
     "output_type": "display_data"
    },
    {
     "name": "stdout",
     "output_type": "stream",
     "text": [
      "[50/60][0/777]\tLoss_D: 0.2926\tLoss_G: 2.2125\tD(x): 0.7988\tD(G(z)): 0.0212 / 0.2225\n",
      "[50/60][100/777]\tLoss_D: 0.1983\tLoss_G: 2.9406\tD(x): 0.8544\tD(G(z)): 0.0257 / 0.0901\n",
      "[50/60][200/777]\tLoss_D: 0.2663\tLoss_G: 2.8604\tD(x): 0.8417\tD(G(z)): 0.0394 / 0.1264\n",
      "[50/60][300/777]\tLoss_D: 2.7205\tLoss_G: 0.9897\tD(x): 0.1028\tD(G(z)): 0.0006 / 0.4975\n",
      "[50/60][400/777]\tLoss_D: 0.6463\tLoss_G: 1.0125\tD(x): 0.6166\tD(G(z)): 0.0470 / 0.4703\n",
      "[50/60][500/777]\tLoss_D: 0.1010\tLoss_G: 2.2237\tD(x): 0.9413\tD(G(z)): 0.0342 / 0.1672\n",
      "[50/60][600/777]\tLoss_D: 0.1918\tLoss_G: 2.3043\tD(x): 0.9413\tD(G(z)): 0.1032 / 0.1581\n",
      "[50/60][700/777]\tLoss_D: 0.0804\tLoss_G: 5.3257\tD(x): 0.9870\tD(G(z)): 0.0582 / 0.0118\n",
      "\n"
     ]
    },
    {
     "data": {
      "application/vnd.jupyter.widget-view+json": {
       "model_id": "07116593a3a54fd09815864ab5ff8d38",
       "version_major": 2,
       "version_minor": 0
      },
      "text/plain": [
       "HBox(children=(FloatProgress(value=0.0, max=777.0), HTML(value='')))"
      ]
     },
     "metadata": {},
     "output_type": "display_data"
    },
    {
     "name": "stdout",
     "output_type": "stream",
     "text": [
      "[51/60][0/777]\tLoss_D: 0.0461\tLoss_G: 3.8010\tD(x): 0.9811\tD(G(z)): 0.0260 / 0.0544\n",
      "[51/60][100/777]\tLoss_D: 0.4863\tLoss_G: 6.4379\tD(x): 0.6657\tD(G(z)): 0.0033 / 0.0080\n",
      "[51/60][200/777]\tLoss_D: 0.0397\tLoss_G: 6.5009\tD(x): 0.9963\tD(G(z)): 0.0342 / 0.0029\n",
      "[51/60][300/777]\tLoss_D: 0.0532\tLoss_G: 3.0180\tD(x): 0.9633\tD(G(z)): 0.0136 / 0.1014\n",
      "[51/60][400/777]\tLoss_D: 0.3088\tLoss_G: 3.9066\tD(x): 0.9834\tD(G(z)): 0.2050 / 0.0556\n",
      "[51/60][500/777]\tLoss_D: 0.4926\tLoss_G: 2.6793\tD(x): 0.6807\tD(G(z)): 0.0167 / 0.1039\n",
      "[51/60][600/777]\tLoss_D: 0.5846\tLoss_G: 2.7759\tD(x): 0.9944\tD(G(z)): 0.3661 / 0.1213\n",
      "[51/60][700/777]\tLoss_D: 0.2860\tLoss_G: 2.7051\tD(x): 0.9434\tD(G(z)): 0.1713 / 0.1252\n",
      "\n"
     ]
    },
    {
     "data": {
      "application/vnd.jupyter.widget-view+json": {
       "model_id": "6ee173e10b774ab3af1a0bbab1e460e0",
       "version_major": 2,
       "version_minor": 0
      },
      "text/plain": [
       "HBox(children=(FloatProgress(value=0.0, max=777.0), HTML(value='')))"
      ]
     },
     "metadata": {},
     "output_type": "display_data"
    },
    {
     "name": "stdout",
     "output_type": "stream",
     "text": [
      "[52/60][0/777]\tLoss_D: 0.3061\tLoss_G: 2.9688\tD(x): 0.8059\tD(G(z)): 0.0589 / 0.1240\n",
      "[52/60][100/777]\tLoss_D: 0.1260\tLoss_G: 3.3097\tD(x): 0.9989\tD(G(z)): 0.1089 / 0.0517\n",
      "[52/60][200/777]\tLoss_D: 0.1662\tLoss_G: 3.2657\tD(x): 0.9647\tD(G(z)): 0.1069 / 0.0685\n",
      "[52/60][300/777]\tLoss_D: 0.2256\tLoss_G: 2.6259\tD(x): 0.8381\tD(G(z)): 0.0276 / 0.1164\n",
      "[52/60][400/777]\tLoss_D: 0.4809\tLoss_G: 4.1434\tD(x): 0.9954\tD(G(z)): 0.3142 / 0.0391\n",
      "[52/60][500/777]\tLoss_D: 0.0794\tLoss_G: 5.8300\tD(x): 0.9336\tD(G(z)): 0.0074 / 0.0065\n",
      "[52/60][600/777]\tLoss_D: 0.1217\tLoss_G: 4.4816\tD(x): 0.9995\tD(G(z)): 0.1012 / 0.0273\n",
      "[52/60][700/777]\tLoss_D: 0.0972\tLoss_G: 3.6734\tD(x): 0.9396\tD(G(z)): 0.0286 / 0.0757\n",
      "\n"
     ]
    },
    {
     "data": {
      "application/vnd.jupyter.widget-view+json": {
       "model_id": "bd70faacfba64f048d0a927038aaaffc",
       "version_major": 2,
       "version_minor": 0
      },
      "text/plain": [
       "HBox(children=(FloatProgress(value=0.0, max=777.0), HTML(value='')))"
      ]
     },
     "metadata": {},
     "output_type": "display_data"
    },
    {
     "name": "stdout",
     "output_type": "stream",
     "text": [
      "[53/60][0/777]\tLoss_D: 0.1544\tLoss_G: 4.0637\tD(x): 0.9057\tD(G(z)): 0.0318 / 0.0422\n",
      "[53/60][100/777]\tLoss_D: 0.3016\tLoss_G: 2.4428\tD(x): 0.8104\tD(G(z)): 0.0482 / 0.1752\n",
      "[53/60][200/777]\tLoss_D: 0.5567\tLoss_G: 4.6460\tD(x): 0.9573\tD(G(z)): 0.3448 / 0.0271\n",
      "[53/60][300/777]\tLoss_D: 0.3166\tLoss_G: 2.6060\tD(x): 0.8005\tD(G(z)): 0.0183 / 0.1574\n",
      "[53/60][400/777]\tLoss_D: 0.2387\tLoss_G: 2.6808\tD(x): 0.8786\tD(G(z)): 0.0910 / 0.1242\n",
      "[53/60][500/777]\tLoss_D: 0.5706\tLoss_G: 2.7196\tD(x): 0.9927\tD(G(z)): 0.3043 / 0.2336\n",
      "[53/60][600/777]\tLoss_D: 0.0683\tLoss_G: 10.6620\tD(x): 0.9413\tD(G(z)): 0.0043 / 0.0001\n",
      "[53/60][700/777]\tLoss_D: 1.2340\tLoss_G: 8.8987\tD(x): 0.9968\tD(G(z)): 0.6201 / 0.0004\n",
      "\n"
     ]
    },
    {
     "data": {
      "application/vnd.jupyter.widget-view+json": {
       "model_id": "9f8550e74a71420b99ebbd89d5583623",
       "version_major": 2,
       "version_minor": 0
      },
      "text/plain": [
       "HBox(children=(FloatProgress(value=0.0, max=777.0), HTML(value='')))"
      ]
     },
     "metadata": {},
     "output_type": "display_data"
    },
    {
     "name": "stdout",
     "output_type": "stream",
     "text": [
      "[54/60][0/777]\tLoss_D: 0.2507\tLoss_G: 2.9264\tD(x): 0.9588\tD(G(z)): 0.1473 / 0.1193\n",
      "[54/60][100/777]\tLoss_D: 0.2509\tLoss_G: 5.1147\tD(x): 0.9553\tD(G(z)): 0.1637 / 0.0100\n",
      "[54/60][200/777]\tLoss_D: 0.7277\tLoss_G: 6.5567\tD(x): 0.9929\tD(G(z)): 0.4569 / 0.0049\n",
      "[54/60][300/777]\tLoss_D: 0.1651\tLoss_G: 2.5046\tD(x): 0.9043\tD(G(z)): 0.0496 / 0.1519\n",
      "[54/60][400/777]\tLoss_D: 0.1485\tLoss_G: 1.6612\tD(x): 0.9980\tD(G(z)): 0.1266 / 0.2834\n",
      "[54/60][500/777]\tLoss_D: 0.2062\tLoss_G: 3.6740\tD(x): 0.8614\tD(G(z)): 0.0299 / 0.0597\n",
      "[54/60][600/777]\tLoss_D: 0.2909\tLoss_G: 6.2340\tD(x): 0.9928\tD(G(z)): 0.2048 / 0.0058\n",
      "[54/60][700/777]\tLoss_D: 0.2547\tLoss_G: 1.0166\tD(x): 0.8230\tD(G(z)): 0.0303 / 0.4358\n",
      "\n"
     ]
    },
    {
     "data": {
      "application/vnd.jupyter.widget-view+json": {
       "model_id": "c38b34cd19a94e24b98b4eaf1f026f90",
       "version_major": 2,
       "version_minor": 0
      },
      "text/plain": [
       "HBox(children=(FloatProgress(value=0.0, max=777.0), HTML(value='')))"
      ]
     },
     "metadata": {},
     "output_type": "display_data"
    },
    {
     "name": "stdout",
     "output_type": "stream",
     "text": [
      "[55/60][0/777]\tLoss_D: 0.4999\tLoss_G: 2.8527\tD(x): 0.9937\tD(G(z)): 0.3091 / 0.1089\n",
      "[55/60][100/777]\tLoss_D: 0.2092\tLoss_G: 3.3291\tD(x): 0.8586\tD(G(z)): 0.0327 / 0.0621\n",
      "[55/60][200/777]\tLoss_D: 0.0240\tLoss_G: 4.6723\tD(x): 0.9798\tD(G(z)): 0.0030 / 0.0425\n",
      "[55/60][300/777]\tLoss_D: 0.2046\tLoss_G: 5.0329\tD(x): 0.9590\tD(G(z)): 0.1365 / 0.0214\n",
      "[55/60][400/777]\tLoss_D: 0.3754\tLoss_G: 2.5683\tD(x): 0.7368\tD(G(z)): 0.0032 / 0.1817\n",
      "[55/60][500/777]\tLoss_D: 0.0361\tLoss_G: 2.5336\tD(x): 0.9918\tD(G(z)): 0.0264 / 0.1792\n",
      "[55/60][600/777]\tLoss_D: 0.3008\tLoss_G: 1.8552\tD(x): 0.8206\tD(G(z)): 0.0513 / 0.2733\n",
      "[55/60][700/777]\tLoss_D: 0.0791\tLoss_G: 3.9329\tD(x): 0.9970\tD(G(z)): 0.0631 / 0.0489\n",
      "\n"
     ]
    },
    {
     "data": {
      "application/vnd.jupyter.widget-view+json": {
       "model_id": "d011a6836d9446688555b88bb80e4535",
       "version_major": 2,
       "version_minor": 0
      },
      "text/plain": [
       "HBox(children=(FloatProgress(value=0.0, max=777.0), HTML(value='')))"
      ]
     },
     "metadata": {},
     "output_type": "display_data"
    },
    {
     "name": "stdout",
     "output_type": "stream",
     "text": [
      "[56/60][0/777]\tLoss_D: 1.5263\tLoss_G: 6.3113\tD(x): 0.9997\tD(G(z)): 0.6376 / 0.0113\n",
      "[56/60][100/777]\tLoss_D: 0.2991\tLoss_G: 3.5463\tD(x): 0.9182\tD(G(z)): 0.1682 / 0.0555\n",
      "[56/60][200/777]\tLoss_D: 0.0943\tLoss_G: 2.0843\tD(x): 0.9695\tD(G(z)): 0.0562 / 0.2090\n",
      "[56/60][300/777]\tLoss_D: 0.2740\tLoss_G: 5.0112\tD(x): 0.9060\tD(G(z)): 0.1271 / 0.0121\n",
      "[56/60][400/777]\tLoss_D: 0.1627\tLoss_G: 5.1008\tD(x): 0.9681\tD(G(z)): 0.1089 / 0.0133\n",
      "[56/60][500/777]\tLoss_D: 1.2315\tLoss_G: 0.9763\tD(x): 0.4153\tD(G(z)): 0.0008 / 0.5325\n",
      "[56/60][600/777]\tLoss_D: 0.0690\tLoss_G: 4.5513\tD(x): 0.9456\tD(G(z)): 0.0038 / 0.0262\n",
      "[56/60][700/777]\tLoss_D: 0.3654\tLoss_G: 4.8152\tD(x): 0.7449\tD(G(z)): 0.0008 / 0.0320\n",
      "\n"
     ]
    },
    {
     "data": {
      "application/vnd.jupyter.widget-view+json": {
       "model_id": "173d443cc6d24e0cb4b0916b5de935af",
       "version_major": 2,
       "version_minor": 0
      },
      "text/plain": [
       "HBox(children=(FloatProgress(value=0.0, max=777.0), HTML(value='')))"
      ]
     },
     "metadata": {},
     "output_type": "display_data"
    },
    {
     "name": "stdout",
     "output_type": "stream",
     "text": [
      "[57/60][0/777]\tLoss_D: 0.0993\tLoss_G: 3.1341\tD(x): 0.9785\tD(G(z)): 0.0643 / 0.1047\n",
      "[57/60][100/777]\tLoss_D: 0.3180\tLoss_G: 1.2880\tD(x): 0.8041\tD(G(z)): 0.0461 / 0.4528\n",
      "[57/60][200/777]\tLoss_D: 0.2332\tLoss_G: 4.1862\tD(x): 0.8970\tD(G(z)): 0.0936 / 0.0436\n",
      "[57/60][300/777]\tLoss_D: 0.1479\tLoss_G: 4.9205\tD(x): 0.9570\tD(G(z)): 0.0882 / 0.0265\n",
      "[57/60][400/777]\tLoss_D: 0.0545\tLoss_G: 3.8686\tD(x): 0.9583\tD(G(z)): 0.0103 / 0.0500\n",
      "[57/60][500/777]\tLoss_D: 0.0643\tLoss_G: 7.6906\tD(x): 0.9909\tD(G(z)): 0.0486 / 0.0016\n",
      "[57/60][600/777]\tLoss_D: 0.0485\tLoss_G: 4.2200\tD(x): 0.9980\tD(G(z)): 0.0423 / 0.0425\n",
      "[57/60][700/777]\tLoss_D: 0.9498\tLoss_G: 4.1047\tD(x): 0.5340\tD(G(z)): 0.0016 / 0.0553\n",
      "\n"
     ]
    },
    {
     "data": {
      "application/vnd.jupyter.widget-view+json": {
       "model_id": "40532636adef459ea3c12ae38fc561c9",
       "version_major": 2,
       "version_minor": 0
      },
      "text/plain": [
       "HBox(children=(FloatProgress(value=0.0, max=777.0), HTML(value='')))"
      ]
     },
     "metadata": {},
     "output_type": "display_data"
    },
    {
     "name": "stdout",
     "output_type": "stream",
     "text": [
      "[58/60][0/777]\tLoss_D: 0.1000\tLoss_G: 2.6006\tD(x): 0.9910\tD(G(z)): 0.0778 / 0.1478\n",
      "[58/60][100/777]\tLoss_D: 0.5896\tLoss_G: 7.8490\tD(x): 0.9993\tD(G(z)): 0.3727 / 0.0014\n",
      "[58/60][200/777]\tLoss_D: 0.0522\tLoss_G: 2.4148\tD(x): 0.9932\tD(G(z)): 0.0414 / 0.1999\n",
      "[58/60][300/777]\tLoss_D: 0.3324\tLoss_G: 1.9025\tD(x): 0.7910\tD(G(z)): 0.0062 / 0.2758\n",
      "[58/60][400/777]\tLoss_D: 0.0702\tLoss_G: 6.0112\tD(x): 0.9496\tD(G(z)): 0.0158 / 0.0073\n",
      "[58/60][500/777]\tLoss_D: 0.1026\tLoss_G: 6.8353\tD(x): 0.9138\tD(G(z)): 0.0051 / 0.0026\n",
      "[58/60][600/777]\tLoss_D: 0.0354\tLoss_G: 5.3944\tD(x): 0.9883\tD(G(z)): 0.0228 / 0.0163\n",
      "[58/60][700/777]\tLoss_D: 0.1021\tLoss_G: 6.8204\tD(x): 0.9208\tD(G(z)): 0.0098 / 0.0031\n",
      "\n"
     ]
    },
    {
     "data": {
      "application/vnd.jupyter.widget-view+json": {
       "model_id": "ff288fac367f4ccba306c8649b0230fb",
       "version_major": 2,
       "version_minor": 0
      },
      "text/plain": [
       "HBox(children=(FloatProgress(value=0.0, max=777.0), HTML(value='')))"
      ]
     },
     "metadata": {},
     "output_type": "display_data"
    },
    {
     "name": "stdout",
     "output_type": "stream",
     "text": [
      "[59/60][0/777]\tLoss_D: 0.3248\tLoss_G: 2.7311\tD(x): 0.9792\tD(G(z)): 0.1854 / 0.1777\n",
      "[59/60][100/777]\tLoss_D: 0.0287\tLoss_G: 9.6728\tD(x): 0.9776\tD(G(z)): 0.0050 / 0.0002\n",
      "[59/60][200/777]\tLoss_D: 0.3590\tLoss_G: 3.0483\tD(x): 0.7943\tD(G(z)): 0.0469 / 0.0919\n",
      "[59/60][300/777]\tLoss_D: 0.1906\tLoss_G: 3.6976\tD(x): 0.9698\tD(G(z)): 0.1390 / 0.0549\n",
      "[59/60][400/777]\tLoss_D: 0.6987\tLoss_G: 5.5048\tD(x): 0.9814\tD(G(z)): 0.3997 / 0.0103\n",
      "[59/60][500/777]\tLoss_D: 1.4990\tLoss_G: 0.0349\tD(x): 0.3001\tD(G(z)): 0.0211 / 0.9697\n",
      "[59/60][600/777]\tLoss_D: 0.1209\tLoss_G: 5.2402\tD(x): 0.9591\tD(G(z)): 0.0704 / 0.0129\n",
      "[59/60][700/777]\tLoss_D: 0.0689\tLoss_G: 3.6045\tD(x): 0.9704\tD(G(z)): 0.0360 / 0.0638\n",
      "\n"
     ]
    },
    {
     "data": {
      "application/vnd.jupyter.widget-view+json": {
       "model_id": "7a69591b3f354dc9bd5ac6f7356e7115",
       "version_major": 2,
       "version_minor": 0
      },
      "text/plain": [
       "HBox(children=(FloatProgress(value=0.0, max=777.0), HTML(value='')))"
      ]
     },
     "metadata": {},
     "output_type": "display_data"
    },
    {
     "name": "stdout",
     "output_type": "stream",
     "text": [
      "[60/60][0/777]\tLoss_D: 0.0493\tLoss_G: 4.4752\tD(x): 0.9980\tD(G(z)): 0.0447 / 0.0254\n",
      "[60/60][100/777]\tLoss_D: 0.0334\tLoss_G: 5.1378\tD(x): 0.9790\tD(G(z)): 0.0089 / 0.0197\n",
      "[60/60][200/777]\tLoss_D: 1.0800\tLoss_G: 1.9026\tD(x): 0.4752\tD(G(z)): 0.0386 / 0.2941\n",
      "[60/60][300/777]\tLoss_D: 0.0468\tLoss_G: 5.9810\tD(x): 0.9828\tD(G(z)): 0.0275 / 0.0063\n",
      "[60/60][400/777]\tLoss_D: 0.7873\tLoss_G: 6.3683\tD(x): 0.9986\tD(G(z)): 0.4212 / 0.0073\n",
      "[60/60][500/777]\tLoss_D: 0.0688\tLoss_G: 7.5947\tD(x): 0.9423\tD(G(z)): 0.0034 / 0.0018\n",
      "[60/60][600/777]\tLoss_D: 0.2042\tLoss_G: 3.7426\tD(x): 0.9619\tD(G(z)): 0.1267 / 0.0659\n",
      "[60/60][700/777]\tLoss_D: 0.5305\tLoss_G: 6.4277\tD(x): 0.9983\tD(G(z)): 0.3360 / 0.0033\n",
      "\n",
      "\n"
     ]
    }
   ],
   "source": [
    "# Training Loop\n",
    "\n",
    "# Lists to keep track of progress\n",
    "img_list = []\n",
    "G_losses = []\n",
    "D_losses = []\n",
    "iters = 0\n",
    "\n",
    "print(\"Starting Training Loop...\")\n",
    "# For each epoch\n",
    "for epoch in tqdm(range(num_epochs)):\n",
    "  # For each batch in the dataloader\n",
    "  for i, data in tqdm(enumerate(dataloader, 0), total=len(dataloader)):\n",
    "\n",
    "    ############################\n",
    "    # (1) Update D network: maximize log(D(x)) + log(1 - D(G(z)))\n",
    "    ###########################\n",
    "    ## Train with all-real batch\n",
    "    netD.zero_grad()\n",
    "    # Format batch\n",
    "    real_cpu = data[0].to(device)\n",
    "    b_size = real_cpu.size(0)\n",
    "    img_noise = torch.randn(b_size, nc, image_size, image_size, device=device) * img_noise_mag\n",
    "    label = torch.full((b_size,), real_label, device=device)\n",
    "    # Forward pass real batch through D\n",
    "    output = netD(real_cpu + img_noise).view(-1)\n",
    "    # Calculate loss on all-real batch\n",
    "    errD_real = criterion(output, label)\n",
    "    # Calculate gradients for D in backward pass\n",
    "    errD_real.backward()\n",
    "    D_x = output.mean().item()\n",
    "\n",
    "    ## Train with all-fake batch\n",
    "    # Generate batch of latent vectors\n",
    "    noise = torch.randn(b_size, nz, 1, 1, device=device)\n",
    "    # Generate fake image batch with G\n",
    "    fake = netG(noise)\n",
    "    img_noise = torch.randn(b_size, nc, image_size, image_size, device=device) * img_noise_mag\n",
    "    label.fill_(fake_label)\n",
    "    # Classify all fake batch with D\n",
    "    output = netD(fake + img_noise).view(-1)\n",
    "    # Calculate D's loss on the all-fake batch\n",
    "    errD_fake = criterion(output, label)\n",
    "    # Calculate the gradients for this batch\n",
    "    errD_fake.backward()\n",
    "    D_G_z1 = output.mean().item()\n",
    "    # Add the gradients from the all-real and all-fake batches\n",
    "    errD = errD_real + errD_fake\n",
    "    # Update D\n",
    "    optimizerD.step()\n",
    "\n",
    "    ############################\n",
    "    # (2) Update G network: maximize log(D(G(z)))\n",
    "    # we do two steps here to balance the generator and discriminator\n",
    "    ###########################\n",
    "    #first step\n",
    "    netG.zero_grad()\n",
    "    label.fill_(real_label)  # fake labels are real for generator cost\n",
    "    # Since we just updated D, perform another forward pass of all-fake batch through D\n",
    "    output = netD(fake.detach() + img_noise).view(-1)\n",
    "    # Calculate G's loss based on this output\n",
    "    errG = criterion(output, label)\n",
    "    # Calculate gradients for G xxx\n",
    "    errG.backward()\n",
    "    D_G_z2 = output.mean().item()\n",
    "    # Update G\n",
    "    optimizerG.step()\n",
    "\n",
    "    # second step\n",
    "    netG.zero_grad()\n",
    "    label.fill_(real_label)  # fake labels are real for generator cost\n",
    "    # Generate batch of latent vectors\n",
    "    noise = torch.randn(b_size, nz, 1, 1, device=device)\n",
    "    # Generate fake image batch with G\n",
    "    fake = netG(noise)\n",
    "    img_noise = torch.randn(b_size, nc, image_size, image_size, device=device) * img_noise_mag\n",
    "    # Classify all fake batch with D\n",
    "    output = netD(fake + img_noise).view(-1)\n",
    "    # Calculate G's loss based on this output\n",
    "    errG = criterion(output, label)\n",
    "    # Calculate gradients for G\n",
    "    errG.backward()\n",
    "    D_G_z2 = output.mean().item()\n",
    "    # Update G\n",
    "    optimizerG.step()\n",
    "    \n",
    "    # third step\n",
    "    netG.zero_grad()\n",
    "    label.fill_(real_label)  # fake labels are real for generator cost\n",
    "    # Generate batch of latent vectors\n",
    "    noise = torch.randn(b_size, nz, 1, 1, device=device)\n",
    "    # Generate fake image batch with G\n",
    "    fake = netG(noise)\n",
    "    img_noise = torch.randn(b_size, nc, image_size, image_size, device=device) * img_noise_mag\n",
    "    # Classify all fake batch with D\n",
    "    output = netD(fake + img_noise).view(-1)\n",
    "    # Calculate G's loss based on this output\n",
    "    errG = criterion(output, label)\n",
    "    # Calculate gradients for G\n",
    "    errG.backward()\n",
    "    D_G_z2 = output.mean().item()\n",
    "    # Update G\n",
    "    optimizerG.step()\n",
    "\n",
    "    # Output training stats\n",
    "    if i % 100 == 0:\n",
    "      print('[%d/%d][%d/%d]\\tLoss_D: %.4f\\tLoss_G: %.4f\\tD(x): %.4f\\tD(G(z)): %.4f / %.4f'\n",
    "        % (epoch+1, num_epochs, i, len(dataloader),\n",
    "            errD.item(), errG.item(), D_x, D_G_z1, D_G_z2))\n",
    "\n",
    "    # Save Losses for plotting later\n",
    "    G_losses.append(errG.item())\n",
    "    D_losses.append(errD.item())\n",
    "\n",
    "    # Check how the generator is doing by saving G's output on fixed_noise\n",
    "    if (iters % 500 == 0) or ((epoch == num_epochs-1) and (i == len(dataloader)-1)):\n",
    "      with torch.no_grad():\n",
    "        fake = netG(fixed_noise).detach().cpu()\n",
    "      img_list.append(vutils.make_grid(fake, padding=2, normalize=True))\n",
    "\n",
    "    iters += 1"
   ]
  },
  {
   "cell_type": "code",
   "execution_count": 16,
   "metadata": {},
   "outputs": [],
   "source": [
    "output_ts = time.strftime(\"%Y%m%d-%H%M%S\")\n",
    "torch.save(netG.state_dict(), \"/storage/pytorch_nima_ps_v2_netg\" + output_ts)\n",
    "torch.save(netD.state_dict(), \"/storage/pytorch_nima_ps_v2_netd\" + output_ts)"
   ]
  },
  {
   "cell_type": "code",
   "execution_count": 17,
   "metadata": {},
   "outputs": [
    {
     "data": {
      "image/png": "[encoded data removed]",
      "text/plain": [
       "<Figure size 1500x700 with 1 Axes>"
      ]
     },
     "metadata": {
      "needs_background": "light"
     },
     "output_type": "display_data"
    }
   ],
   "source": [
    "plt.figure(figsize=(15,7), dpi=100)\n",
    "plt.title(\"Generator and Discriminator Loss During Training\")\n",
    "plt.plot(G_losses,label=\"G\")\n",
    "plt.plot(D_losses,label=\"D\")\n",
    "plt.xlabel(\"iterations\")\n",
    "plt.ylabel(\"Loss\")\n",
    "plt.yscale(\"log\")\n",
    "plt.legend()\n",
    "plt.show()"
   ]
  },
  {
   "cell_type": "code",
   "execution_count": null,
   "metadata": {},
   "outputs": [],
   "source": [
    "fig = plt.figure(figsize=(8,8), dpi=32)\n",
    "plt.axis(\"off\")\n",
    "ims = [[plt.imshow(np.transpose(i,(1,2,0)), animated=True)] for i in img_list]\n",
    "ani = animation.ArtistAnimation(fig, ims, interval=1000, repeat_delay=1000, blit=True)\n",
    "\n",
    "HTML(ani.to_jshtml())"
   ]
  },
  {
   "cell_type": "code",
   "execution_count": null,
   "metadata": {},
   "outputs": [],
   "source": [
    "# Grab a batch of real images from the dataloader\n",
    "real_batch = next(iter(dataloader))\n",
    "\n",
    "# Plot the real images\n",
    "plt.figure(figsize=(16,8), dpi=128)\n",
    "plt.subplot(1,2,1)\n",
    "plt.axis(\"off\")\n",
    "plt.title(\"Real Images\")\n",
    "plt.imshow(np.transpose(vutils.make_grid(real_batch[0].to(device)[:64], padding=5, normalize=True).cpu(),(1,2,0)))\n",
    "\n",
    "# Plot the fake images from the last epoch\n",
    "plt.subplot(1,2,2)\n",
    "plt.axis(\"off\")\n",
    "plt.title(\"Fake Images\")\n",
    "plt.imshow(np.transpose(img_list[-1],(1,2,0)))\n",
    "plt.show()"
   ]
  },
  {
   "cell_type": "code",
   "execution_count": null,
   "metadata": {},
   "outputs": [],
   "source": [
    "# Plot the fake images from the last epoch\n",
    "plt.figure(figsize=(8,8), dpi=128)\n",
    "plt.axis(\"off\")\n",
    "plt.imshow(np.transpose(img_list[-1],(1,2,0)))\n",
    "plt.show()"
   ]
  }
 ],
 "metadata": {
  "kernelspec": {
   "display_name": "Python 3",
   "language": "python",
   "name": "python3"
  },
  "language_info": {
   "codemirror_mode": {
    "name": "ipython",
    "version": 3
   },
   "file_extension": ".py",
   "mimetype": "text/x-python",
   "name": "python",
   "nbconvert_exporter": "python",
   "pygments_lexer": "ipython3",
   "version": "3.7.6"
  }
 },
 "nbformat": 4,
 "nbformat_minor": 2
}
