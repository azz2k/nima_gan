{
 "cells": [
  {
   "cell_type": "markdown",
   "metadata": {},
   "source": [
    "https://github.com/masterTW/Tensorflow_NIMA_Food_Photo_Aesthetic_Evaluation\n",
    "\n",
    "https://pytorch.org/tutorials/beginner/dcgan_faces_tutorial.html"
   ]
  },
  {
   "cell_type": "code",
   "execution_count": 15,
   "metadata": {},
   "outputs": [
    {
     "name": "stdout",
     "output_type": "stream",
     "text": [
      "Requirement already up-to-date: pip in /usr/local/lib/python3.6/dist-packages (20.0.2)\n",
      "Requirement already satisfied: tqdm in /usr/local/lib/python3.6/dist-packages (4.43.0)\n",
      "Requirement already satisfied: seaborn in /usr/local/lib/python3.6/dist-packages (0.10.0)\n",
      "Requirement already satisfied: numpy>=1.13.3 in /usr/local/lib/python3.6/dist-packages (from seaborn) (1.17.0)\n",
      "Requirement already satisfied: matplotlib>=2.1.2 in /usr/local/lib/python3.6/dist-packages (from seaborn) (3.1.1)\n",
      "Requirement already satisfied: scipy>=1.0.1 in /usr/local/lib/python3.6/dist-packages (from seaborn) (1.3.0)\n",
      "Requirement already satisfied: pandas>=0.22.0 in /usr/local/lib/python3.6/dist-packages (from seaborn) (0.25.0)\n",
      "Requirement already satisfied: kiwisolver>=1.0.1 in /usr/local/lib/python3.6/dist-packages (from matplotlib>=2.1.2->seaborn) (1.1.0)\n",
      "Requirement already satisfied: python-dateutil>=2.1 in /usr/local/lib/python3.6/dist-packages (from matplotlib>=2.1.2->seaborn) (2.8.0)\n",
      "Requirement already satisfied: pyparsing!=2.0.4,!=2.1.2,!=2.1.6,>=2.0.1 in /usr/local/lib/python3.6/dist-packages (from matplotlib>=2.1.2->seaborn) (2.4.2)\n",
      "Requirement already satisfied: cycler>=0.10 in /usr/local/lib/python3.6/dist-packages (from matplotlib>=2.1.2->seaborn) (0.10.0)\n",
      "Requirement already satisfied: pytz>=2017.2 in /usr/local/lib/python3.6/dist-packages (from pandas>=0.22.0->seaborn) (2019.2)\n",
      "Requirement already satisfied: setuptools in /usr/local/lib/python3.6/dist-packages (from kiwisolver>=1.0.1->matplotlib>=2.1.2->seaborn) (41.0.1)\n",
      "Requirement already satisfied: six>=1.5 in /usr/local/lib/python3.6/dist-packages (from python-dateutil>=2.1->matplotlib>=2.1.2->seaborn) (1.12.0)\n"
     ]
    }
   ],
   "source": [
    "!pip3 install --upgrade pip\n",
    "!pip3 install tqdm seaborn"
   ]
  },
  {
   "cell_type": "code",
   "execution_count": 95,
   "metadata": {},
   "outputs": [],
   "source": [
    "!cp /storage/smaller.tar /dev/shm/\n",
    "!mkdir /dev/shm/data/\n",
    "!mkdir /dev/shm/data/small_good\n",
    "!tar -xf /dev/shm/smaller.tar -C /dev/shm/\n",
    "!ls /dev/shm/"
   ]
  },
  {
   "cell_type": "code",
   "execution_count": 109,
   "metadata": {},
   "outputs": [],
   "source": [
    "import os\n",
    "import io\n",
    "import tarfile\n",
    "import numpy as np\n",
    "import pandas as pd\n",
    "from tqdm.auto import tqdm\n",
    "import sys\n",
    "import argparse\n",
    "import os\n",
    "import random\n",
    "import shutil\n",
    "import time\n",
    "\n",
    "import matplotlib.pyplot as plt\n",
    "import matplotlib.animation as animation\n",
    "from IPython.display import HTML\n",
    "import seaborn as sns\n",
    "\n",
    "import torch\n",
    "import torch.nn as nn\n",
    "import torch.nn.parallel\n",
    "import torch.backends.cudnn as cudnn\n",
    "import torch.optim as optim\n",
    "import torch.utils.data\n",
    "import torchvision.datasets as dset\n",
    "import torchvision.transforms as transforms\n",
    "import torchvision.utils as vutils"
   ]
  },
  {
   "cell_type": "code",
   "execution_count": 7,
   "metadata": {},
   "outputs": [
    {
     "name": "stdout",
     "output_type": "stream",
     "text": [
      "Random Seed:  999\n"
     ]
    },
    {
     "data": {
      "text/plain": [
       "<torch._C.Generator at 0x7feb556f5e90>"
      ]
     },
     "execution_count": 7,
     "metadata": {},
     "output_type": "execute_result"
    }
   ],
   "source": [
    "#%matplotlib inline\n",
    "\n",
    "# Set random seed for reproducibility\n",
    "manualSeed = 999\n",
    "#manualSeed = random.randint(1, 10000) # use if you want new results\n",
    "\n",
    "print(\"Random Seed: \", manualSeed)\n",
    "random.seed(manualSeed)\n",
    "torch.manual_seed(manualSeed)"
   ]
  },
  {
   "cell_type": "code",
   "execution_count": 55,
   "metadata": {},
   "outputs": [
    {
     "name": "stdout",
     "output_type": "stream",
     "text": [
      "True 1 Quadro P5000\n"
     ]
    }
   ],
   "source": [
    "print(torch.cuda.is_available(), torch.cuda.device_count(), torch.cuda.get_device_name(0))"
   ]
  },
  {
   "cell_type": "code",
   "execution_count": 97,
   "metadata": {},
   "outputs": [
    {
     "name": "stdout",
     "output_type": "stream",
     "text": [
      "953349.jpg does not exist\n",
      "953645.jpg does not exist\n",
      "953897.jpg does not exist\n",
      "567829.jpg does not exist\n",
      "638163.jpg does not exist\n",
      "104855.jpg does not exist\n",
      "430454.jpg does not exist\n"
     ]
    }
   ],
   "source": [
    "# Here we filter the well scored images from out dataset for use in our GAN\n",
    "if len(os.listdir(\"/dev/shm/data/small_good/\")) < 100:\n",
    "  # load labels\n",
    "  all_labels = pd.read_csv(\"/storage/AVA.txt\",\n",
    "                            sep = \" \",\n",
    "                            names=[\"id\", \n",
    "                                  \"img_id\",\n",
    "                                  \"r_01\", \n",
    "                                  \"r_02\", \n",
    "                                  \"r_03\", \n",
    "                                  \"r_04\", \n",
    "                                  \"r_05\", \n",
    "                                  \"r_06\", \n",
    "                                  \"r_07\", \n",
    "                                  \"r_08\", \n",
    "                                  \"r_09\", \n",
    "                                  \"r_10\",\n",
    "                                  \"im_tag_1\",\n",
    "                                  \"im_tag_2\",\n",
    "                                  \"challenge_id\"])\n",
    "\n",
    "  # normalize ratings\n",
    "  all_labels[\"r_sum\"] = all_labels.iloc[:,2:12].sum(axis=1)\n",
    "  for i in range(1, 11):\n",
    "    col_name = \"r_\" + str(i).rjust(2, \"0\")\n",
    "    all_labels[col_name] = all_labels[col_name].astype(\"float\") / all_labels[\"r_sum\"]\n",
    "\n",
    "  # reduce labels to the stuff we need\n",
    "  reduced_labels = all_labels.drop([\"id\", \"im_tag_1\", \"im_tag_2\", \"challenge_id\", \"r_sum\"], axis = 1)\n",
    "\n",
    "  for index, row in reduced_labels.iterrows():\n",
    "    img_id = int(row[\"img_id\"])\n",
    "    img_name = str(img_id) + \".jpg\"\n",
    "    score = row[1:].to_numpy().dot(np.array([1,2,3,4,5,6,7,8,9,10]))\n",
    "    if score > 6:\n",
    "      try:\n",
    "        shutil.copyfile(os.path.join(\"/dev/shm/smaller/\", img_name), os.path.join(\"/dev/shm/data/small_good/\", img_name))\n",
    "      except:\n",
    "        print(img_name + \" does not exist\")"
   ]
  },
  {
   "cell_type": "code",
   "execution_count": 98,
   "metadata": {},
   "outputs": [],
   "source": [
    "# Root directory for dataset\n",
    "dataroot = \"/dev/shm/data/\"\n",
    "\n",
    "# Number of workers for dataloader\n",
    "workers = 2\n",
    "\n",
    "# Batch size during training\n",
    "batch_size = 64\n",
    "\n",
    "# Spatial size of training images. All images will be resized to this\n",
    "#   size using a transformer.\n",
    "image_size = 128\n",
    "\n",
    "# Number of channels in the training images. For color images this is 3\n",
    "nc = 3\n",
    "\n",
    "# Size of z latent vector (i.e. size of generator input)\n",
    "nz = 100\n",
    "\n",
    "# Size of feature maps in generator\n",
    "ngf = 64\n",
    "\n",
    "# Size of feature maps in discriminator\n",
    "ndf = 64\n",
    "\n",
    "# Number of training epochs\n",
    "num_epochs = 10\n",
    "\n",
    "# Learning rate for optimizers\n",
    "lr = 0.0002\n",
    "\n",
    "# Beta1 hyperparam for Adam optimizers\n",
    "beta1 = 0.5\n",
    "\n",
    "# Magnitude of noise to add to generator output and real images\n",
    "img_noise_mag = 0.01\n",
    "\n",
    "# Number of GPUs available. Use 0 for CPU mode.\n",
    "ngpu = 1"
   ]
  },
  {
   "cell_type": "code",
   "execution_count": null,
   "metadata": {},
   "outputs": [],
   "source": [
    "# We can use an image folder dataset the way we have it setup.\n",
    "# Create the dataset\n",
    "dataset = dset.ImageFolder(root=dataroot,\n",
    "                           transform=transforms.Compose([\n",
    "                               transforms.Resize(image_size),\n",
    "                               transforms.CenterCrop(image_size),\n",
    "                               transforms.RandomHorizontalFlip(p=0.5),\n",
    "                               transforms.ToTensor(),\n",
    "                               transforms.Normalize((0.5, 0.5, 0.5), (0.5, 0.5, 0.5)),\n",
    "                           ]))\n",
    "# Create the dataloader\n",
    "dataloader = torch.utils.data.DataLoader(dataset, batch_size=batch_size,\n",
    "                                         shuffle=True, num_workers=workers)\n",
    "\n",
    "# Decide which device we want to run on\n",
    "device = torch.device(\"cuda:0\" if (torch.cuda.is_available() and ngpu > 0) else \"cpu\")\n",
    "\n",
    "print(device, batch_size, len(dataloader))\n",
    "\n",
    "# Plot some training images\n",
    "real_batch = next(iter(dataloader))\n",
    "plt.figure(figsize=(8,8), dpi=128)\n",
    "plt.axis(\"off\")\n",
    "plt.title(\"Training Images\")\n",
    "plt.imshow(np.transpose(vutils.make_grid(real_batch[0].to(device)[:64], padding=2, normalize=True).cpu(),(1,2,0)))\n",
    "plt.show()"
   ]
  },
  {
   "cell_type": "code",
   "execution_count": 44,
   "metadata": {},
   "outputs": [],
   "source": [
    "# custom weights initialization called on netG and netD\n",
    "def weights_init(m):\n",
    "  classname = m.__class__.__name__\n",
    "  if classname.find('Conv') != -1:\n",
    "    nn.init.normal_(m.weight.data, 0.0, 0.02)\n",
    "  elif classname.find('BatchNorm') != -1:\n",
    "    nn.init.normal_(m.weight.data, 1.0, 0.02)\n",
    "    nn.init.constant_(m.bias.data, 0)"
   ]
  },
  {
   "cell_type": "code",
   "execution_count": 45,
   "metadata": {},
   "outputs": [],
   "source": [
    "# Generator Code\n",
    "\n",
    "class Generator(nn.Module):\n",
    "  def __init__(self, ngpu):\n",
    "    super(Generator, self).__init__()\n",
    "    self.ngpu = ngpu\n",
    "    self.main = nn.Sequential(\n",
    "      # input is Z, going into a convolution\n",
    "      nn.ConvTranspose2d(in_channels=nz, \n",
    "                         out_channels=ngf*16, \n",
    "                         kernel_size=4, \n",
    "                         stride=1, \n",
    "                         padding=0, \n",
    "                         bias=False),\n",
    "      nn.BatchNorm2d(num_features=ngf*16),\n",
    "      nn.ReLU(True),\n",
    "      # state size. (ngf*16) x 4 x 4\n",
    "      nn.ConvTranspose2d(in_channels=ngf*16, \n",
    "                         out_channels=ngf*8, \n",
    "                         kernel_size=4, \n",
    "                         stride=2, \n",
    "                         padding=1, \n",
    "                         bias=False),\n",
    "      nn.BatchNorm2d(num_features=ngf*8),\n",
    "      nn.ReLU(True),\n",
    "      # state size. (ngf*8) x 8 x 8\n",
    "      nn.ConvTranspose2d(in_channels=ngf*8, \n",
    "                         out_channels=ngf*4, \n",
    "                         kernel_size=4, \n",
    "                         stride=2, \n",
    "                         padding=1, \n",
    "                         bias=False),\n",
    "      nn.BatchNorm2d(num_features=ngf*4),\n",
    "      nn.ReLU(True),\n",
    "      # state size. (ngf*4) x 16 x 16\n",
    "      nn.ConvTranspose2d(in_channels=ngf*4, \n",
    "                         out_channels=ngf*2, \n",
    "                         kernel_size=4, \n",
    "                         stride=2, \n",
    "                         padding=1, \n",
    "                         bias=False),\n",
    "      nn.BatchNorm2d(num_features=ngf*2),\n",
    "      nn.ReLU(True),\n",
    "      # state size. (ngf*2) x 32 x 32\n",
    "      nn.ConvTranspose2d(in_channels=ngf*2, \n",
    "                         out_channels=ngf, \n",
    "                         kernel_size=4, \n",
    "                         stride=2, \n",
    "                         padding=1, \n",
    "                         bias=False),\n",
    "      nn.BatchNorm2d(num_features=ngf),\n",
    "      nn.ReLU(True),\n",
    "      # state size. (ngf) x 64 x 46\n",
    "      nn.ConvTranspose2d(in_channels=ngf, \n",
    "                         out_channels=nc, \n",
    "                         kernel_size=4, \n",
    "                         stride=2, \n",
    "                         padding=1, \n",
    "                         bias=False),\n",
    "      nn.Tanh()\n",
    "      # state size. (nc) x 128 x 128\n",
    "    )\n",
    "  def forward(self, input):\n",
    "      return self.main(input)"
   ]
  },
  {
   "cell_type": "code",
   "execution_count": 101,
   "metadata": {},
   "outputs": [
    {
     "name": "stdout",
     "output_type": "stream",
     "text": [
      "Generator(\n",
      "  (main): Sequential(\n",
      "    (0): ConvTranspose2d(100, 1024, kernel_size=(4, 4), stride=(1, 1), bias=False)\n",
      "    (1): BatchNorm2d(1024, eps=1e-05, momentum=0.1, affine=True, track_running_stats=True)\n",
      "    (2): ReLU(inplace=True)\n",
      "    (3): ConvTranspose2d(1024, 512, kernel_size=(4, 4), stride=(2, 2), padding=(1, 1), bias=False)\n",
      "    (4): BatchNorm2d(512, eps=1e-05, momentum=0.1, affine=True, track_running_stats=True)\n",
      "    (5): ReLU(inplace=True)\n",
      "    (6): ConvTranspose2d(512, 256, kernel_size=(4, 4), stride=(2, 2), padding=(1, 1), bias=False)\n",
      "    (7): BatchNorm2d(256, eps=1e-05, momentum=0.1, affine=True, track_running_stats=True)\n",
      "    (8): ReLU(inplace=True)\n",
      "    (9): ConvTranspose2d(256, 128, kernel_size=(4, 4), stride=(2, 2), padding=(1, 1), bias=False)\n",
      "    (10): BatchNorm2d(128, eps=1e-05, momentum=0.1, affine=True, track_running_stats=True)\n",
      "    (11): ReLU(inplace=True)\n",
      "    (12): ConvTranspose2d(128, 64, kernel_size=(4, 4), stride=(2, 2), padding=(1, 1), bias=False)\n",
      "    (13): BatchNorm2d(64, eps=1e-05, momentum=0.1, affine=True, track_running_stats=True)\n",
      "    (14): ReLU(inplace=True)\n",
      "    (15): ConvTranspose2d(64, 3, kernel_size=(4, 4), stride=(2, 2), padding=(1, 1), bias=False)\n",
      "    (16): Tanh()\n",
      "  )\n",
      ")\n",
      "12786560\n"
     ]
    }
   ],
   "source": [
    "# Create the generator\n",
    "netG = Generator(ngpu).to(device)\n",
    "\n",
    "# Handle multi-gpu if desired\n",
    "if (device.type == 'cuda') and (ngpu > 1):\n",
    "  netG = nn.DataParallel(netG, list(range(ngpu)))\n",
    "\n",
    "# Apply the weights_init function to randomly initialize all weights\n",
    "#  to mean=0, stdev=0.2.\n",
    "#netG.apply(weights_init)\n",
    "\n",
    "# Print the model\n",
    "print(netG)\n",
    "print(sum(p.numel() for p in netG.parameters()))"
   ]
  },
  {
   "cell_type": "code",
   "execution_count": 47,
   "metadata": {},
   "outputs": [],
   "source": [
    "class Discriminator(nn.Module):\n",
    "  def __init__(self, ngpu):\n",
    "    super(Discriminator, self).__init__()\n",
    "    self.ngpu = ngpu\n",
    "    self.main = nn.Sequential(\n",
    "      # input is (nc) x 128 x 128\n",
    "      nn.Conv2d(in_channels=nc, \n",
    "                out_channels=ndf,\n",
    "                kernel_size=4, \n",
    "                stride=2, \n",
    "                padding=1, \n",
    "                bias=False),\n",
    "      nn.LeakyReLU(0.2, inplace=True),\n",
    "      # state size. (ndf) x 64 x 64\n",
    "      nn.Conv2d(in_channels=ndf, \n",
    "                out_channels=ndf*2,  \n",
    "                kernel_size=4, \n",
    "                stride=2, \n",
    "                padding=1, \n",
    "                bias=False),\n",
    "      nn.BatchNorm2d(num_features=ndf*2),\n",
    "      nn.LeakyReLU(0.2, inplace=True),\n",
    "      # state size. (ndf*2) x 32 x 32\n",
    "      nn.Conv2d(in_channels=ndf*2,\n",
    "                out_channels=ndf*4,  \n",
    "                kernel_size=4, \n",
    "                stride=2, \n",
    "                padding=1,\n",
    "                bias=False),\n",
    "      nn.BatchNorm2d(num_features=ndf*4),\n",
    "      nn.LeakyReLU(0.2, inplace=True),\n",
    "      # state size. (ndf*4) x 16 x 16\n",
    "      nn.Conv2d(in_channels=ndf*4, \n",
    "                out_channels=ndf*8, \n",
    "                kernel_size=4, \n",
    "                stride=2, \n",
    "                padding=1, \n",
    "                bias=False),\n",
    "      nn.BatchNorm2d(num_features=ndf*8),\n",
    "      nn.LeakyReLU(0.2, inplace=True),\n",
    "      # state size. (ndf*8) x 8 x 8\n",
    "      nn.Conv2d(in_channels=ndf*8, \n",
    "                out_channels=ndf*16,  \n",
    "                kernel_size=4, \n",
    "                stride=2, \n",
    "                padding=1, \n",
    "                bias=False),\n",
    "      nn.BatchNorm2d(num_features=ndf*16),\n",
    "      nn.LeakyReLU(0.2, inplace=True),\n",
    "      # state size. (ndf*16) x 4 x 4\n",
    "      nn.Conv2d(in_channels=ndf*16,\n",
    "                out_channels=1,  \n",
    "                kernel_size=4, \n",
    "                stride=1,\n",
    "                padding=0, \n",
    "                bias=False),\n",
    "      nn.Sigmoid()\n",
    "    )\n",
    "  def forward(self, input):\n",
    "    return self.main(input)"
   ]
  },
  {
   "cell_type": "code",
   "execution_count": 102,
   "metadata": {},
   "outputs": [
    {
     "name": "stdout",
     "output_type": "stream",
     "text": [
      "Discriminator(\n",
      "  (main): Sequential(\n",
      "    (0): Conv2d(3, 64, kernel_size=(4, 4), stride=(2, 2), padding=(1, 1), bias=False)\n",
      "    (1): LeakyReLU(negative_slope=0.2, inplace=True)\n",
      "    (2): Conv2d(64, 128, kernel_size=(4, 4), stride=(2, 2), padding=(1, 1), bias=False)\n",
      "    (3): BatchNorm2d(128, eps=1e-05, momentum=0.1, affine=True, track_running_stats=True)\n",
      "    (4): LeakyReLU(negative_slope=0.2, inplace=True)\n",
      "    (5): Conv2d(128, 256, kernel_size=(4, 4), stride=(2, 2), padding=(1, 1), bias=False)\n",
      "    (6): BatchNorm2d(256, eps=1e-05, momentum=0.1, affine=True, track_running_stats=True)\n",
      "    (7): LeakyReLU(negative_slope=0.2, inplace=True)\n",
      "    (8): Conv2d(256, 512, kernel_size=(4, 4), stride=(2, 2), padding=(1, 1), bias=False)\n",
      "    (9): BatchNorm2d(512, eps=1e-05, momentum=0.1, affine=True, track_running_stats=True)\n",
      "    (10): LeakyReLU(negative_slope=0.2, inplace=True)\n",
      "    (11): Conv2d(512, 1024, kernel_size=(4, 4), stride=(2, 2), padding=(1, 1), bias=False)\n",
      "    (12): BatchNorm2d(1024, eps=1e-05, momentum=0.1, affine=True, track_running_stats=True)\n",
      "    (13): LeakyReLU(negative_slope=0.2, inplace=True)\n",
      "    (14): Conv2d(1024, 1, kernel_size=(4, 4), stride=(1, 1), bias=False)\n",
      "    (15): Sigmoid()\n",
      "  )\n",
      ")\n",
      "11164416\n"
     ]
    }
   ],
   "source": [
    "# Create the Discriminator\n",
    "netD = Discriminator(ngpu).to(device)\n",
    "\n",
    "# Handle multi-gpu if desired\n",
    "if (device.type == 'cuda') and (ngpu > 1):\n",
    "  netD = nn.DataParallel(netD, list(range(ngpu)))\n",
    "\n",
    "# Apply the weights_init function to randomly initialize all weights\n",
    "#  to mean=0, stdev=0.2.\n",
    "#netD.apply(weights_init)\n",
    "\n",
    "# Print the model\n",
    "print(netD)\n",
    "print(sum(p.numel() for p in netD.parameters()))"
   ]
  },
  {
   "cell_type": "code",
   "execution_count": 103,
   "metadata": {},
   "outputs": [],
   "source": [
    "# Initialize BCELoss function\n",
    "criterion = nn.BCELoss()\n",
    "\n",
    "# Create batch of latent vectors that we will use to visualize\n",
    "#  the progression of the generator\n",
    "fixed_noise = torch.randn(batch_size, nz, 1, 1, device=device)\n",
    "\n",
    "# Establish convention for real and fake labels during training\n",
    "real_label = 1\n",
    "fake_label = 0\n",
    "\n",
    "# Setup Adam optimizers for both G and D\n",
    "optimizerD = optim.Adam(netD.parameters(), lr=lr, betas=(beta1, 0.999))\n",
    "optimizerG = optim.Adam(netG.parameters(), lr=lr, betas=(beta1, 0.999))"
   ]
  },
  {
   "cell_type": "code",
   "execution_count": 104,
   "metadata": {},
   "outputs": [
    {
     "name": "stdout",
     "output_type": "stream",
     "text": [
      "Starting Training Loop...\n"
     ]
    },
    {
     "data": {
      "application/vnd.jupyter.widget-view+json": {
       "model_id": "dd348a1a82d141618acb4e20c6567eea",
       "version_major": 2,
       "version_minor": 0
      },
      "text/plain": [
       "HBox(children=(FloatProgress(value=0.0, max=10.0), HTML(value='')))"
      ]
     },
     "metadata": {},
     "output_type": "display_data"
    },
    {
     "data": {
      "application/vnd.jupyter.widget-view+json": {
       "model_id": "05ea159ad2ff4e80bfc425f816c5a062",
       "version_major": 2,
       "version_minor": 0
      },
      "text/plain": [
       "HBox(children=(FloatProgress(value=0.0, max=777.0), HTML(value='')))"
      ]
     },
     "metadata": {},
     "output_type": "display_data"
    },
    {
     "name": "stdout",
     "output_type": "stream",
     "text": [
      "[1/10][0/777]\tLoss_D: 1.4592\tLoss_G: 1.0544\tD(x): 0.5330\tD(G(z)): 0.5520 / 0.3635\n",
      "[1/10][100/777]\tLoss_D: 1.2259\tLoss_G: 2.3811\tD(x): 0.6970\tD(G(z)): 0.5614 / 0.1062\n",
      "[1/10][200/777]\tLoss_D: 1.3969\tLoss_G: 0.8001\tD(x): 0.5169\tD(G(z)): 0.4936 / 0.4604\n",
      "[1/10][300/777]\tLoss_D: 1.5837\tLoss_G: 0.8416\tD(x): 0.4418\tD(G(z)): 0.4907 / 0.4381\n",
      "[1/10][400/777]\tLoss_D: 1.4172\tLoss_G: 0.7594\tD(x): 0.4530\tD(G(z)): 0.4422 / 0.4866\n",
      "[1/10][500/777]\tLoss_D: 1.3539\tLoss_G: 0.7614\tD(x): 0.5135\tD(G(z)): 0.4805 / 0.4815\n",
      "[1/10][600/777]\tLoss_D: 1.4164\tLoss_G: 0.6181\tD(x): 0.5127\tD(G(z)): 0.5189 / 0.5459\n",
      "[1/10][700/777]\tLoss_D: 1.5288\tLoss_G: 0.6767\tD(x): 0.4269\tD(G(z)): 0.4379 / 0.5177\n",
      "\n"
     ]
    },
    {
     "data": {
      "application/vnd.jupyter.widget-view+json": {
       "model_id": "70b6990b02964faf95aa88245730d9e1",
       "version_major": 2,
       "version_minor": 0
      },
      "text/plain": [
       "HBox(children=(FloatProgress(value=0.0, max=777.0), HTML(value='')))"
      ]
     },
     "metadata": {},
     "output_type": "display_data"
    },
    {
     "name": "stdout",
     "output_type": "stream",
     "text": [
      "[2/10][0/777]\tLoss_D: 1.3190\tLoss_G: 0.8919\tD(x): 0.5511\tD(G(z)): 0.4978 / 0.4205\n",
      "[2/10][100/777]\tLoss_D: 1.4889\tLoss_G: 0.7336\tD(x): 0.4182\tD(G(z)): 0.4484 / 0.4830\n",
      "[2/10][200/777]\tLoss_D: 1.5655\tLoss_G: 0.8864\tD(x): 0.4258\tD(G(z)): 0.4761 / 0.4180\n",
      "[2/10][300/777]\tLoss_D: 1.3764\tLoss_G: 0.7041\tD(x): 0.5341\tD(G(z)): 0.5100 / 0.5010\n",
      "[2/10][400/777]\tLoss_D: 1.4790\tLoss_G: 0.7605\tD(x): 0.4450\tD(G(z)): 0.4647 / 0.4715\n",
      "[2/10][500/777]\tLoss_D: 1.4334\tLoss_G: 0.8606\tD(x): 0.5137\tD(G(z)): 0.5153 / 0.4265\n",
      "[2/10][600/777]\tLoss_D: 1.5062\tLoss_G: 0.7591\tD(x): 0.4424\tD(G(z)): 0.4833 / 0.4758\n",
      "[2/10][700/777]\tLoss_D: 1.4138\tLoss_G: 0.6841\tD(x): 0.5613\tD(G(z)): 0.5481 / 0.5112\n",
      "\n"
     ]
    },
    {
     "data": {
      "application/vnd.jupyter.widget-view+json": {
       "model_id": "bdb86866bd9e45b3a88cafe1aa88fd67",
       "version_major": 2,
       "version_minor": 0
      },
      "text/plain": [
       "HBox(children=(FloatProgress(value=0.0, max=777.0), HTML(value='')))"
      ]
     },
     "metadata": {},
     "output_type": "display_data"
    },
    {
     "name": "stdout",
     "output_type": "stream",
     "text": [
      "[3/10][0/777]\tLoss_D: 1.4321\tLoss_G: 0.6203\tD(x): 0.5266\tD(G(z)): 0.5194 / 0.5426\n",
      "[3/10][100/777]\tLoss_D: 1.5469\tLoss_G: 0.6991\tD(x): 0.5050\tD(G(z)): 0.5563 / 0.5073\n",
      "[3/10][200/777]\tLoss_D: 1.5093\tLoss_G: 0.6618\tD(x): 0.4121\tD(G(z)): 0.4455 / 0.5216\n",
      "[3/10][300/777]\tLoss_D: 1.3930\tLoss_G: 0.7522\tD(x): 0.4604\tD(G(z)): 0.4516 / 0.4791\n",
      "[3/10][400/777]\tLoss_D: 1.3988\tLoss_G: 0.7740\tD(x): 0.5004\tD(G(z)): 0.4914 / 0.4811\n",
      "[3/10][500/777]\tLoss_D: 1.3974\tLoss_G: 0.7396\tD(x): 0.5009\tD(G(z)): 0.5015 / 0.4804\n",
      "[3/10][600/777]\tLoss_D: 1.4045\tLoss_G: 0.6481\tD(x): 0.5075\tD(G(z)): 0.5076 / 0.5272\n",
      "[3/10][700/777]\tLoss_D: 1.3580\tLoss_G: 0.8183\tD(x): 0.4849\tD(G(z)): 0.4629 / 0.4459\n",
      "\n"
     ]
    },
    {
     "data": {
      "application/vnd.jupyter.widget-view+json": {
       "model_id": "bd8564463c56405980bf3e718738b8bd",
       "version_major": 2,
       "version_minor": 0
      },
      "text/plain": [
       "HBox(children=(FloatProgress(value=0.0, max=777.0), HTML(value='')))"
      ]
     },
     "metadata": {},
     "output_type": "display_data"
    },
    {
     "name": "stdout",
     "output_type": "stream",
     "text": [
      "[4/10][0/777]\tLoss_D: 1.4485\tLoss_G: 0.6296\tD(x): 0.5134\tD(G(z)): 0.5299 / 0.5363\n",
      "[4/10][100/777]\tLoss_D: 1.4854\tLoss_G: 0.7049\tD(x): 0.4450\tD(G(z)): 0.4860 / 0.4964\n",
      "[4/10][200/777]\tLoss_D: 1.4145\tLoss_G: 0.5688\tD(x): 0.4617\tD(G(z)): 0.4677 / 0.5682\n",
      "[4/10][300/777]\tLoss_D: 1.4444\tLoss_G: 0.7198\tD(x): 0.4586\tD(G(z)): 0.4798 / 0.4902\n",
      "[4/10][400/777]\tLoss_D: 1.4134\tLoss_G: 0.7127\tD(x): 0.5375\tD(G(z)): 0.5448 / 0.4915\n",
      "[4/10][500/777]\tLoss_D: 1.4651\tLoss_G: 0.6472\tD(x): 0.4847\tD(G(z)): 0.5164 / 0.5247\n",
      "[4/10][600/777]\tLoss_D: 1.4577\tLoss_G: 0.6500\tD(x): 0.5186\tD(G(z)): 0.5423 / 0.5249\n",
      "[4/10][700/777]\tLoss_D: 1.4189\tLoss_G: 0.8668\tD(x): 0.4792\tD(G(z)): 0.4914 / 0.4227\n",
      "\n"
     ]
    },
    {
     "data": {
      "application/vnd.jupyter.widget-view+json": {
       "model_id": "bdf4a43b654b4897b11d857dd34546cd",
       "version_major": 2,
       "version_minor": 0
      },
      "text/plain": [
       "HBox(children=(FloatProgress(value=0.0, max=777.0), HTML(value='')))"
      ]
     },
     "metadata": {},
     "output_type": "display_data"
    },
    {
     "name": "stdout",
     "output_type": "stream",
     "text": [
      "[5/10][0/777]\tLoss_D: 1.3892\tLoss_G: 0.8006\tD(x): 0.5159\tD(G(z)): 0.5139 / 0.4503\n",
      "[5/10][100/777]\tLoss_D: 1.4226\tLoss_G: 0.6036\tD(x): 0.5365\tD(G(z)): 0.5473 / 0.5489\n",
      "[5/10][200/777]\tLoss_D: 1.4879\tLoss_G: 0.8111\tD(x): 0.4572\tD(G(z)): 0.4835 / 0.4455\n",
      "[5/10][300/777]\tLoss_D: 1.4256\tLoss_G: 0.7604\tD(x): 0.5204\tD(G(z)): 0.5355 / 0.4689\n",
      "[5/10][400/777]\tLoss_D: 1.4342\tLoss_G: 0.7512\tD(x): 0.4697\tD(G(z)): 0.4865 / 0.4728\n",
      "[5/10][500/777]\tLoss_D: 1.3342\tLoss_G: 0.8765\tD(x): 0.4877\tD(G(z)): 0.4557 / 0.4211\n",
      "[5/10][600/777]\tLoss_D: 1.3536\tLoss_G: 0.6442\tD(x): 0.5525\tD(G(z)): 0.5231 / 0.5297\n",
      "[5/10][700/777]\tLoss_D: 1.3916\tLoss_G: 0.7097\tD(x): 0.4765\tD(G(z)): 0.4706 / 0.4934\n",
      "\n"
     ]
    },
    {
     "data": {
      "application/vnd.jupyter.widget-view+json": {
       "model_id": "3606aa55e74644f098353a9c9b7727a3",
       "version_major": 2,
       "version_minor": 0
      },
      "text/plain": [
       "HBox(children=(FloatProgress(value=0.0, max=777.0), HTML(value='')))"
      ]
     },
     "metadata": {},
     "output_type": "display_data"
    },
    {
     "name": "stdout",
     "output_type": "stream",
     "text": [
      "[6/10][0/777]\tLoss_D: 1.3795\tLoss_G: 0.8705\tD(x): 0.5852\tD(G(z)): 0.5627 / 0.4229\n",
      "[6/10][100/777]\tLoss_D: 1.3247\tLoss_G: 0.8160\tD(x): 0.5247\tD(G(z)): 0.4833 / 0.4484\n",
      "[6/10][200/777]\tLoss_D: 1.4066\tLoss_G: 0.6863\tD(x): 0.4596\tD(G(z)): 0.4608 / 0.5082\n",
      "[6/10][300/777]\tLoss_D: 1.3666\tLoss_G: 0.7922\tD(x): 0.4924\tD(G(z)): 0.4776 / 0.4545\n",
      "[6/10][400/777]\tLoss_D: 1.3362\tLoss_G: 0.6219\tD(x): 0.5205\tD(G(z)): 0.4878 / 0.5426\n",
      "[6/10][500/777]\tLoss_D: 1.4488\tLoss_G: 0.8044\tD(x): 0.4624\tD(G(z)): 0.4764 / 0.4528\n",
      "[6/10][600/777]\tLoss_D: 1.3669\tLoss_G: 0.6511\tD(x): 0.5014\tD(G(z)): 0.4836 / 0.5245\n",
      "[6/10][700/777]\tLoss_D: 1.4030\tLoss_G: 0.8612\tD(x): 0.5316\tD(G(z)): 0.5273 / 0.4258\n",
      "\n"
     ]
    },
    {
     "data": {
      "application/vnd.jupyter.widget-view+json": {
       "model_id": "0b2657fd263341c99461f05595a8ad23",
       "version_major": 2,
       "version_minor": 0
      },
      "text/plain": [
       "HBox(children=(FloatProgress(value=0.0, max=777.0), HTML(value='')))"
      ]
     },
     "metadata": {},
     "output_type": "display_data"
    },
    {
     "name": "stdout",
     "output_type": "stream",
     "text": [
      "[7/10][0/777]\tLoss_D: 1.5304\tLoss_G: 0.6548\tD(x): 0.4250\tD(G(z)): 0.4819 / 0.5231\n",
      "[7/10][100/777]\tLoss_D: 1.4200\tLoss_G: 0.8304\tD(x): 0.4896\tD(G(z)): 0.4973 / 0.4413\n",
      "[7/10][200/777]\tLoss_D: 1.2755\tLoss_G: 0.9600\tD(x): 0.6421\tD(G(z)): 0.5545 / 0.3961\n",
      "[7/10][300/777]\tLoss_D: 1.4091\tLoss_G: 0.8684\tD(x): 0.5282\tD(G(z)): 0.5257 / 0.4251\n",
      "[7/10][400/777]\tLoss_D: 1.5205\tLoss_G: 1.8192\tD(x): 0.7421\tD(G(z)): 0.6764 / 0.1792\n",
      "[7/10][500/777]\tLoss_D: 1.4017\tLoss_G: 0.8911\tD(x): 0.5257\tD(G(z)): 0.5192 / 0.4184\n",
      "[7/10][600/777]\tLoss_D: 1.2343\tLoss_G: 0.9436\tD(x): 0.4673\tD(G(z)): 0.3379 / 0.3990\n",
      "[7/10][700/777]\tLoss_D: 1.2443\tLoss_G: 0.7562\tD(x): 0.6351\tD(G(z)): 0.5158 / 0.4830\n",
      "\n"
     ]
    },
    {
     "data": {
      "application/vnd.jupyter.widget-view+json": {
       "model_id": "eb10d7872e8f4f56a7314aad7f65d6ee",
       "version_major": 2,
       "version_minor": 0
      },
      "text/plain": [
       "HBox(children=(FloatProgress(value=0.0, max=777.0), HTML(value='')))"
      ]
     },
     "metadata": {},
     "output_type": "display_data"
    },
    {
     "name": "stdout",
     "output_type": "stream",
     "text": [
      "[8/10][0/777]\tLoss_D: 1.1679\tLoss_G: 1.4012\tD(x): 0.7215\tD(G(z)): 0.5548 / 0.2604\n",
      "[8/10][100/777]\tLoss_D: 1.0977\tLoss_G: 1.4094\tD(x): 0.4203\tD(G(z)): 0.1705 / 0.2663\n",
      "[8/10][200/777]\tLoss_D: 1.1350\tLoss_G: 1.8073\tD(x): 0.7423\tD(G(z)): 0.5281 / 0.1761\n",
      "[8/10][300/777]\tLoss_D: 1.1333\tLoss_G: 2.2461\tD(x): 0.8215\tD(G(z)): 0.5764 / 0.1198\n",
      "[8/10][400/777]\tLoss_D: 0.9926\tLoss_G: 2.5943\tD(x): 0.7659\tD(G(z)): 0.4924 / 0.0936\n",
      "[8/10][500/777]\tLoss_D: 1.1076\tLoss_G: 1.2757\tD(x): 0.6140\tD(G(z)): 0.4176 / 0.3199\n",
      "[8/10][600/777]\tLoss_D: 0.7130\tLoss_G: 3.2414\tD(x): 0.8539\tD(G(z)): 0.3879 / 0.0492\n",
      "[8/10][700/777]\tLoss_D: 1.2938\tLoss_G: 1.8445\tD(x): 0.5895\tD(G(z)): 0.4390 / 0.2177\n",
      "\n"
     ]
    },
    {
     "data": {
      "application/vnd.jupyter.widget-view+json": {
       "model_id": "1dea717739284c72a6ed2b9e9beecc4f",
       "version_major": 2,
       "version_minor": 0
      },
      "text/plain": [
       "HBox(children=(FloatProgress(value=0.0, max=777.0), HTML(value='')))"
      ]
     },
     "metadata": {},
     "output_type": "display_data"
    },
    {
     "name": "stdout",
     "output_type": "stream",
     "text": [
      "[9/10][0/777]\tLoss_D: 0.6015\tLoss_G: 1.9180\tD(x): 0.6343\tD(G(z)): 0.0955 / 0.2063\n",
      "[9/10][100/777]\tLoss_D: 0.5134\tLoss_G: 3.6756\tD(x): 0.8841\tD(G(z)): 0.3088 / 0.0341\n",
      "[9/10][200/777]\tLoss_D: 0.1372\tLoss_G: 2.4491\tD(x): 0.9468\tD(G(z)): 0.0768 / 0.1031\n",
      "[9/10][300/777]\tLoss_D: 0.6746\tLoss_G: 1.2690\tD(x): 0.6660\tD(G(z)): 0.1998 / 0.3316\n",
      "[9/10][400/777]\tLoss_D: 0.6814\tLoss_G: 1.1517\tD(x): 0.6658\tD(G(z)): 0.2000 / 0.3550\n",
      "[9/10][500/777]\tLoss_D: 0.5114\tLoss_G: 2.3854\tD(x): 0.8525\tD(G(z)): 0.2811 / 0.1105\n",
      "[9/10][600/777]\tLoss_D: 0.4054\tLoss_G: 2.7891\tD(x): 0.8957\tD(G(z)): 0.2326 / 0.0821\n",
      "[9/10][700/777]\tLoss_D: 0.5633\tLoss_G: 3.5913\tD(x): 0.7831\tD(G(z)): 0.2469 / 0.0331\n",
      "\n"
     ]
    },
    {
     "data": {
      "application/vnd.jupyter.widget-view+json": {
       "model_id": "5c8854f88cd946bcb20d8dec40cce2c1",
       "version_major": 2,
       "version_minor": 0
      },
      "text/plain": [
       "HBox(children=(FloatProgress(value=0.0, max=777.0), HTML(value='')))"
      ]
     },
     "metadata": {},
     "output_type": "display_data"
    },
    {
     "name": "stdout",
     "output_type": "stream",
     "text": [
      "[10/10][0/777]\tLoss_D: 0.2530\tLoss_G: 3.0069\tD(x): 0.8349\tD(G(z)): 0.0590 / 0.0658\n",
      "[10/10][100/777]\tLoss_D: 0.6142\tLoss_G: 4.1365\tD(x): 0.6077\tD(G(z)): 0.0166 / 0.0242\n",
      "[10/10][200/777]\tLoss_D: 0.3614\tLoss_G: 5.1528\tD(x): 0.9869\tD(G(z)): 0.2818 / 0.0084\n",
      "[10/10][300/777]\tLoss_D: 1.1074\tLoss_G: 1.6901\tD(x): 0.3932\tD(G(z)): 0.0321 / 0.2264\n",
      "[10/10][400/777]\tLoss_D: 0.8744\tLoss_G: 1.0436\tD(x): 0.5215\tD(G(z)): 0.1085 / 0.4121\n",
      "[10/10][500/777]\tLoss_D: 0.2368\tLoss_G: 3.0182\tD(x): 0.8429\tD(G(z)): 0.0492 / 0.0624\n",
      "[10/10][600/777]\tLoss_D: 0.5042\tLoss_G: 3.0619\tD(x): 0.7856\tD(G(z)): 0.1915 / 0.0703\n",
      "[10/10][700/777]\tLoss_D: 0.1640\tLoss_G: 2.0259\tD(x): 0.8994\tD(G(z)): 0.0505 / 0.1809\n",
      "\n",
      "\n"
     ]
    }
   ],
   "source": [
    "# Training Loop\n",
    "\n",
    "# Lists to keep track of progress\n",
    "img_list = []\n",
    "G_losses = []\n",
    "D_losses = []\n",
    "iters = 0\n",
    "\n",
    "print(\"Starting Training Loop...\")\n",
    "# For each epoch\n",
    "for epoch in tqdm(range(num_epochs)):\n",
    "  # For each batch in the dataloader\n",
    "  for i, data in tqdm(enumerate(dataloader, 0), total=len(dataloader)):\n",
    "\n",
    "    ############################\n",
    "    # (1) Update D network: maximize log(D(x)) + log(1 - D(G(z)))\n",
    "    ###########################\n",
    "    ## Train with all-real batch\n",
    "    netD.zero_grad()\n",
    "    # Format batch\n",
    "    real_cpu = data[0].to(device)\n",
    "    b_size = real_cpu.size(0)\n",
    "    img_noise = torch.randn(b_size, nc, image_size, image_size, device=device) * img_noise_mag\n",
    "    label = torch.full((b_size,), real_label, device=device)\n",
    "    # Forward pass real batch through D\n",
    "    output = netD(real_cpu + img_noise).view(-1)\n",
    "    # Calculate loss on all-real batch\n",
    "    errD_real = criterion(output, label)\n",
    "    # Calculate gradients for D in backward pass\n",
    "    errD_real.backward()\n",
    "    D_x = output.mean().item()\n",
    "\n",
    "    ## Train with all-fake batch\n",
    "    # Generate batch of latent vectors\n",
    "    noise = torch.randn(b_size, nz, 1, 1, device=device)\n",
    "    # Generate fake image batch with G\n",
    "    fake = netG(noise)\n",
    "    img_noise = torch.randn(b_size, nc, image_size, image_size, device=device) * img_noise_mag\n",
    "    label.fill_(fake_label)\n",
    "    # Classify all fake batch with D\n",
    "    output = netD(fake + img_noise).view(-1)\n",
    "    # Calculate D's loss on the all-fake batch\n",
    "    errD_fake = criterion(output, label)\n",
    "    # Calculate the gradients for this batch\n",
    "    errD_fake.backward()\n",
    "    D_G_z1 = output.mean().item()\n",
    "    # Add the gradients from the all-real and all-fake batches\n",
    "    errD = errD_real + errD_fake\n",
    "    # Update D\n",
    "    optimizerD.step()\n",
    "\n",
    "    ############################\n",
    "    # (2) Update G network: maximize log(D(G(z)))\n",
    "    # we do two steps here to balance the generator and discriminator\n",
    "    ###########################\n",
    "    #first step\n",
    "    netG.zero_grad()\n",
    "    label.fill_(real_label)  # fake labels are real for generator cost\n",
    "    # Since we just updated D, perform another forward pass of all-fake batch through D\n",
    "    output = netD(fake.detach() + img_noise).view(-1)\n",
    "    # Calculate G's loss based on this output\n",
    "    errG = criterion(output, label)\n",
    "    # Calculate gradients for G xxx\n",
    "    errG.backward()\n",
    "    D_G_z2 = output.mean().item()\n",
    "    # Update G\n",
    "    optimizerG.step()\n",
    "\n",
    "    # second step\n",
    "    netG.zero_grad()\n",
    "    label.fill_(real_label)  # fake labels are real for generator cost\n",
    "    # Generate batch of latent vectors\n",
    "    noise = torch.randn(b_size, nz, 1, 1, device=device)\n",
    "    # Generate fake image batch with G\n",
    "    fake = netG(noise)\n",
    "    img_noise = torch.randn(b_size, nc, image_size, image_size, device=device) * img_noise_mag\n",
    "    # Classify all fake batch with D\n",
    "    output = netD(fake + img_noise).view(-1)\n",
    "    # Calculate G's loss based on this output\n",
    "    errG = criterion(output, label)\n",
    "    # Calculate gradients for G\n",
    "    errG.backward()\n",
    "    D_G_z2 = output.mean().item()\n",
    "    # Update G\n",
    "    optimizerG.step()\n",
    "    \n",
    "    # third step\n",
    "    netG.zero_grad()\n",
    "    label.fill_(real_label)  # fake labels are real for generator cost\n",
    "    # Generate batch of latent vectors\n",
    "    noise = torch.randn(b_size, nz, 1, 1, device=device)\n",
    "    # Generate fake image batch with G\n",
    "    fake = netG(noise)\n",
    "    img_noise = torch.randn(b_size, nc, image_size, image_size, device=device) * img_noise_mag\n",
    "    # Classify all fake batch with D\n",
    "    output = netD(fake + img_noise).view(-1)\n",
    "    # Calculate G's loss based on this output\n",
    "    errG = criterion(output, label)\n",
    "    # Calculate gradients for G\n",
    "    errG.backward()\n",
    "    D_G_z2 = output.mean().item()\n",
    "    # Update G\n",
    "    optimizerG.step()\n",
    "\n",
    "    # Output training stats\n",
    "    if i % 100 == 0:\n",
    "      print('[%d/%d][%d/%d]\\tLoss_D: %.4f\\tLoss_G: %.4f\\tD(x): %.4f\\tD(G(z)): %.4f / %.4f'\n",
    "        % (epoch+1, num_epochs, i, len(dataloader),\n",
    "            errD.item(), errG.item(), D_x, D_G_z1, D_G_z2))\n",
    "\n",
    "    # Save Losses for plotting later\n",
    "    G_losses.append(errG.item())\n",
    "    D_losses.append(errD.item())\n",
    "\n",
    "    # Check how the generator is doing by saving G's output on fixed_noise\n",
    "    if (iters % 500 == 0) or ((epoch == num_epochs-1) and (i == len(dataloader)-1)):\n",
    "      with torch.no_grad():\n",
    "        fake = netG(fixed_noise).detach().cpu()\n",
    "      img_list.append(vutils.make_grid(fake, padding=2, normalize=True))\n",
    "\n",
    "    iters += 1"
   ]
  },
  {
   "cell_type": "code",
   "execution_count": 113,
   "metadata": {},
   "outputs": [],
   "source": [
    "output_ts = time.strftime(\"%Y%m%d-%H%M%S\")\n",
    "torch.save(netG.state_dict(), \"/storage/pytorch_nima_ps_v1_netg\" + output_ts)\n",
    "torch.save(netD.state_dict(), \"/storage/pytorch_nima_ps_v1_netd\" + output_ts)"
   ]
  },
  {
   "cell_type": "code",
   "execution_count": 105,
   "metadata": {},
   "outputs": [
    {
     "data": {
      "image/png": "[encoded data removed]",
      "text/plain": [
       "<Figure size 1500x700 with 1 Axes>"
      ]
     },
     "metadata": {
      "needs_background": "light"
     },
     "output_type": "display_data"
    }
   ],
   "source": [
    "plt.figure(figsize=(15,7), dpi=100)\n",
    "plt.title(\"Generator and Discriminator Loss During Training\")\n",
    "plt.plot(G_losses,label=\"G\")\n",
    "plt.plot(D_losses,label=\"D\")\n",
    "plt.xlabel(\"iterations\")\n",
    "plt.ylabel(\"Loss\")\n",
    "plt.yscale(\"log\")\n",
    "plt.legend()\n",
    "plt.show()"
   ]
  },
  {
   "cell_type": "code",
   "execution_count": null,
   "metadata": {},
   "outputs": [],
   "source": [
    "fig = plt.figure(figsize=(8,8), dpi=32)\n",
    "plt.axis(\"off\")\n",
    "ims = [[plt.imshow(np.transpose(i,(1,2,0)), animated=True)] for i in img_list]\n",
    "ani = animation.ArtistAnimation(fig, ims, interval=1000, repeat_delay=1000, blit=True)\n",
    "\n",
    "HTML(ani.to_jshtml())"
   ]
  },
  {
   "cell_type": "code",
   "execution_count": null,
   "metadata": {},
   "outputs": [],
   "source": [
    "# Grab a batch of real images from the dataloader\n",
    "real_batch = next(iter(dataloader))\n",
    "\n",
    "# Plot the real images\n",
    "plt.figure(figsize=(16,8), dpi=128)\n",
    "plt.subplot(1,2,1)\n",
    "plt.axis(\"off\")\n",
    "plt.title(\"Real Images\")\n",
    "plt.imshow(np.transpose(vutils.make_grid(real_batch[0].to(device)[:64], padding=5, normalize=True).cpu(),(1,2,0)))\n",
    "\n",
    "# Plot the fake images from the last epoch\n",
    "plt.subplot(1,2,2)\n",
    "plt.axis(\"off\")\n",
    "plt.title(\"Fake Images\")\n",
    "plt.imshow(np.transpose(img_list[-1],(1,2,0)))\n",
    "plt.show()"
   ]
  },
  {
   "cell_type": "code",
   "execution_count": null,
   "metadata": {},
   "outputs": [],
   "source": [
    "# Plot the fake images from the last epoch\n",
    "plt.figure(figsize=(8,8), dpi=128)\n",
    "plt.axis(\"off\")\n",
    "plt.imshow(np.transpose(img_list[-1],(1,2,0)))\n",
    "plt.show()"
   ]
  }
 ],
 "metadata": {
  "kernelspec": {
   "display_name": "Python 3",
   "language": "python",
   "name": "python3"
  },
  "language_info": {
   "codemirror_mode": {
    "name": "ipython",
    "version": 3
   },
   "file_extension": ".py",
   "mimetype": "text/x-python",
   "name": "python",
   "nbconvert_exporter": "python",
   "pygments_lexer": "ipython3",
   "version": "3.6.10"
  }
 },
 "nbformat": 4,
 "nbformat_minor": 2
}
