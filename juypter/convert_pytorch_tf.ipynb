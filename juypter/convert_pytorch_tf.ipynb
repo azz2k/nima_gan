{
 "cells": [
  {
   "cell_type": "code",
   "execution_count": 7,
   "metadata": {},
   "outputs": [],
   "source": [
    "import numpy as np\n",
    "from matplotlib import pyplot as plt\n",
    "import math\n",
    "\n",
    "import torch\n",
    "import torch.nn as nn"
   ]
  },
  {
   "cell_type": "code",
   "execution_count": 8,
   "metadata": {},
   "outputs": [],
   "source": [
    "# Number of channels in the training images. For color images this is 3\n",
    "nc = 3\n",
    "\n",
    "# Size of z latent vector (i.e. size of generator input)\n",
    "nz = 100\n",
    "\n",
    "# Size of feature maps in generator\n",
    "ngf = 64"
   ]
  },
  {
   "cell_type": "code",
   "execution_count": 9,
   "metadata": {},
   "outputs": [],
   "source": [
    "# Generator Code\n",
    "\n",
    "class Generator(nn.Module):\n",
    "  def __init__(self, ngpu):\n",
    "    super(Generator, self).__init__()\n",
    "    self.ngpu = ngpu\n",
    "    self.main = nn.Sequential(\n",
    "      nn.ConvTranspose2d(in_channels=nz, \n",
    "                         out_channels=ngf*16, \n",
    "                         kernel_size=3, \n",
    "                         stride=1, \n",
    "                         padding=0, \n",
    "                         bias=False),\n",
    "      nn.BatchNorm2d(num_features=ngf*16),\n",
    "      nn.ReLU(True),\n",
    "      nn.ConvTranspose2d(in_channels=ngf*16, \n",
    "                         out_channels=ngf*8, \n",
    "                         kernel_size=4, \n",
    "                         stride=2, \n",
    "                         padding=1, \n",
    "                         bias=False),\n",
    "      nn.BatchNorm2d(num_features=ngf*8),\n",
    "      nn.ReLU(True),\n",
    "      nn.ConvTranspose2d(in_channels=ngf*8, \n",
    "                         out_channels=ngf*4, \n",
    "                         kernel_size=4, \n",
    "                         stride=2, \n",
    "                         padding=1, \n",
    "                         bias=False),\n",
    "      nn.BatchNorm2d(num_features=ngf*4),\n",
    "      nn.ReLU(True),\n",
    "      nn.ConvTranspose2d(in_channels=ngf*4, \n",
    "                         out_channels=ngf*2, \n",
    "                         kernel_size=4, \n",
    "                         stride=2, \n",
    "                         padding=1, \n",
    "                         bias=False),\n",
    "      nn.BatchNorm2d(num_features=ngf*2),\n",
    "      nn.ReLU(True),\n",
    "      nn.ConvTranspose2d(in_channels=ngf*2, \n",
    "                         out_channels=ngf, \n",
    "                         kernel_size=4, \n",
    "                         stride=2, \n",
    "                         padding=1, \n",
    "                         bias=False),\n",
    "      nn.BatchNorm2d(num_features=ngf),\n",
    "      nn.ReLU(True),\n",
    "      nn.ConvTranspose2d(in_channels=ngf, \n",
    "                         out_channels=nc, \n",
    "                         kernel_size=4, \n",
    "                         stride=2, \n",
    "                         padding=1, \n",
    "                         bias=False),\n",
    "      nn.Tanh()\n",
    "    )\n",
    "  def forward(self, input):\n",
    "      return self.main(input)"
   ]
  },
  {
   "cell_type": "code",
   "execution_count": 10,
   "metadata": {},
   "outputs": [
    {
     "name": "stdout",
     "output_type": "stream",
     "text": [
      "Generator(\n",
      "  (main): Sequential(\n",
      "    (0): ConvTranspose2d(100, 1024, kernel_size=(3, 3), stride=(1, 1), bias=False)\n",
      "    (1): BatchNorm2d(1024, eps=1e-05, momentum=0.1, affine=True, track_running_stats=True)\n",
      "    (2): ReLU(inplace=True)\n",
      "    (3): ConvTranspose2d(1024, 512, kernel_size=(4, 4), stride=(2, 2), padding=(1, 1), bias=False)\n",
      "    (4): BatchNorm2d(512, eps=1e-05, momentum=0.1, affine=True, track_running_stats=True)\n",
      "    (5): ReLU(inplace=True)\n",
      "    (6): ConvTranspose2d(512, 256, kernel_size=(4, 4), stride=(2, 2), padding=(1, 1), bias=False)\n",
      "    (7): BatchNorm2d(256, eps=1e-05, momentum=0.1, affine=True, track_running_stats=True)\n",
      "    (8): ReLU(inplace=True)\n",
      "    (9): ConvTranspose2d(256, 128, kernel_size=(4, 4), stride=(2, 2), padding=(1, 1), bias=False)\n",
      "    (10): BatchNorm2d(128, eps=1e-05, momentum=0.1, affine=True, track_running_stats=True)\n",
      "    (11): ReLU(inplace=True)\n",
      "    (12): ConvTranspose2d(128, 64, kernel_size=(4, 4), stride=(2, 2), padding=(1, 1), bias=False)\n",
      "    (13): BatchNorm2d(64, eps=1e-05, momentum=0.1, affine=True, track_running_stats=True)\n",
      "    (14): ReLU(inplace=True)\n",
      "    (15): ConvTranspose2d(64, 3, kernel_size=(4, 4), stride=(2, 2), padding=(1, 1), bias=False)\n",
      "    (16): Tanh()\n",
      "  )\n",
      ")\n",
      "12069760\n"
     ]
    }
   ],
   "source": [
    "# config device\n",
    "device = torch.device(\"cpu\")\n",
    "\n",
    "# Create the generator\n",
    "netG = Generator(0).to(device)\n",
    "\n",
    "# output\n",
    "print(netG)\n",
    "print(sum(p.numel() for p in netG.parameters()))"
   ]
  },
  {
   "cell_type": "code",
   "execution_count": 11,
   "metadata": {},
   "outputs": [
    {
     "data": {
      "text/plain": [
       "<All keys matched successfully>"
      ]
     },
     "execution_count": 11,
     "metadata": {},
     "output_type": "execute_result"
    }
   ],
   "source": [
    "# load state dict\n",
    "\n",
    "netG.load_state_dict(torch.load(\"../model/pytorch_nima_ps_v2_netg20200324-202041\", map_location=device))"
   ]
  },
  {
   "cell_type": "code",
   "execution_count": null,
   "metadata": {},
   "outputs": [],
   "source": [
    "n_imgs = 64\n",
    "\n",
    "# random input vector\n",
    "noise = torch.randn(n_imgs, nz, 1, 1, device=device)\n",
    "# generate images\n",
    "img = netG(noise).detach().cpu()\n",
    "\n",
    "# plot images\n",
    "plt.figure(figsize=(math.ceil(math.sqrt(n_imgs)), math.ceil(math.sqrt(n_imgs))), dpi=128)\n",
    "for i in range(n_imgs):\n",
    "    plt.subplot(8, 8, i+1)\n",
    "    plt.axis(\"off\")\n",
    "    plt.imshow(np.transpose(img[i], (1,2,0))/2 + 0.5)\n",
    "plt.tight_layout()\n",
    "plt.show()"
   ]
  }
 ],
 "metadata": {
  "kernelspec": {
   "display_name": "Python 3",
   "language": "python",
   "name": "python3"
  },
  "language_info": {
   "codemirror_mode": {
    "name": "ipython",
    "version": 3
   },
   "file_extension": ".py",
   "mimetype": "text/x-python",
   "name": "python",
   "nbconvert_exporter": "python",
   "pygments_lexer": "ipython3",
   "version": "3.7.6"
  }
 },
 "nbformat": 4,
 "nbformat_minor": 4
}
