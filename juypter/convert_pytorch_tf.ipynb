{
 "cells": [
  {
   "cell_type": "code",
   "execution_count": 7,
   "metadata": {},
   "outputs": [],
   "source": [
    "import numpy as np\n",
    "from matplotlib import pyplot as plt\n",
    "import math\n",
    "import os\n",
    "\n",
    "import torch\n",
    "import torch.nn as nn"
   ]
  },
  {
   "cell_type": "code",
   "execution_count": 11,
   "metadata": {},
   "outputs": [],
   "source": [
    "# Number of channels in the training images. For color images this is 3\n",
    "nc = 3\n",
    "\n",
    "# Size of z latent vector (i.e. size of generator input)\n",
    "nz = 100\n",
    "\n",
    "# Size of feature maps in generator\n",
    "ngf = 64\n",
    "\n",
    "# model path\n",
    "model_path = \"../model/\"\n",
    "\n",
    "# model name\n",
    "model_name_pt = \"pytorch_nima_ps_v2_netg20200324-202041\""
   ]
  },
  {
   "cell_type": "code",
   "execution_count": 3,
   "metadata": {},
   "outputs": [],
   "source": [
    "# Generator Code\n",
    "\n",
    "class Generator(nn.Module):\n",
    "  def __init__(self, ngpu):\n",
    "    super(Generator, self).__init__()\n",
    "    self.ngpu = ngpu\n",
    "    self.main = nn.Sequential(\n",
    "      nn.ConvTranspose2d(in_channels=nz, \n",
    "                         out_channels=ngf*16, \n",
    "                         kernel_size=3, \n",
    "                         stride=1, \n",
    "                         padding=0, \n",
    "                         bias=False),\n",
    "      nn.BatchNorm2d(num_features=ngf*16),\n",
    "      nn.ReLU(True),\n",
    "      nn.ConvTranspose2d(in_channels=ngf*16, \n",
    "                         out_channels=ngf*8, \n",
    "                         kernel_size=4, \n",
    "                         stride=2, \n",
    "                         padding=1, \n",
    "                         bias=False),\n",
    "      nn.BatchNorm2d(num_features=ngf*8),\n",
    "      nn.ReLU(True),\n",
    "      nn.ConvTranspose2d(in_channels=ngf*8, \n",
    "                         out_channels=ngf*4, \n",
    "                         kernel_size=4, \n",
    "                         stride=2, \n",
    "                         padding=1, \n",
    "                         bias=False),\n",
    "      nn.BatchNorm2d(num_features=ngf*4),\n",
    "      nn.ReLU(True),\n",
    "      nn.ConvTranspose2d(in_channels=ngf*4, \n",
    "                         out_channels=ngf*2, \n",
    "                         kernel_size=4, \n",
    "                         stride=2, \n",
    "                         padding=1, \n",
    "                         bias=False),\n",
    "      nn.BatchNorm2d(num_features=ngf*2),\n",
    "      nn.ReLU(True),\n",
    "      nn.ConvTranspose2d(in_channels=ngf*2, \n",
    "                         out_channels=ngf, \n",
    "                         kernel_size=4, \n",
    "                         stride=2, \n",
    "                         padding=1, \n",
    "                         bias=False),\n",
    "      nn.BatchNorm2d(num_features=ngf),\n",
    "      nn.ReLU(True),\n",
    "      nn.ConvTranspose2d(in_channels=ngf, \n",
    "                         out_channels=nc, \n",
    "                         kernel_size=4, \n",
    "                         stride=2, \n",
    "                         padding=1, \n",
    "                         bias=False),\n",
    "      nn.Tanh()\n",
    "    )\n",
    "  def forward(self, input):\n",
    "      return self.main(input)"
   ]
  },
  {
   "cell_type": "code",
   "execution_count": 4,
   "metadata": {},
   "outputs": [
    {
     "name": "stdout",
     "output_type": "stream",
     "text": [
      "Generator(\n",
      "  (main): Sequential(\n",
      "    (0): ConvTranspose2d(100, 1024, kernel_size=(3, 3), stride=(1, 1), bias=False)\n",
      "    (1): BatchNorm2d(1024, eps=1e-05, momentum=0.1, affine=True, track_running_stats=True)\n",
      "    (2): ReLU(inplace=True)\n",
      "    (3): ConvTranspose2d(1024, 512, kernel_size=(4, 4), stride=(2, 2), padding=(1, 1), bias=False)\n",
      "    (4): BatchNorm2d(512, eps=1e-05, momentum=0.1, affine=True, track_running_stats=True)\n",
      "    (5): ReLU(inplace=True)\n",
      "    (6): ConvTranspose2d(512, 256, kernel_size=(4, 4), stride=(2, 2), padding=(1, 1), bias=False)\n",
      "    (7): BatchNorm2d(256, eps=1e-05, momentum=0.1, affine=True, track_running_stats=True)\n",
      "    (8): ReLU(inplace=True)\n",
      "    (9): ConvTranspose2d(256, 128, kernel_size=(4, 4), stride=(2, 2), padding=(1, 1), bias=False)\n",
      "    (10): BatchNorm2d(128, eps=1e-05, momentum=0.1, affine=True, track_running_stats=True)\n",
      "    (11): ReLU(inplace=True)\n",
      "    (12): ConvTranspose2d(128, 64, kernel_size=(4, 4), stride=(2, 2), padding=(1, 1), bias=False)\n",
      "    (13): BatchNorm2d(64, eps=1e-05, momentum=0.1, affine=True, track_running_stats=True)\n",
      "    (14): ReLU(inplace=True)\n",
      "    (15): ConvTranspose2d(64, 3, kernel_size=(4, 4), stride=(2, 2), padding=(1, 1), bias=False)\n",
      "    (16): Tanh()\n",
      "  )\n",
      ")\n",
      "12069760\n"
     ]
    }
   ],
   "source": [
    "# config device\n",
    "device = torch.device(\"cpu\")\n",
    "\n",
    "# Create the generator\n",
    "netG = Generator(0).to(device)\n",
    "\n",
    "# output\n",
    "print(netG)\n",
    "print(sum(p.numel() for p in netG.parameters()))"
   ]
  },
  {
   "cell_type": "code",
   "execution_count": 5,
   "metadata": {},
   "outputs": [
    {
     "data": {
      "text/plain": [
       "<All keys matched successfully>"
      ]
     },
     "execution_count": 5,
     "metadata": {},
     "output_type": "execute_result"
    }
   ],
   "source": [
    "# load state dict\n",
    "netG.load_state_dict(torch.load(os.path.join(model_path, model_name_pt), map_location=device))"
   ]
  },
  {
   "cell_type": "code",
   "execution_count": null,
   "metadata": {},
   "outputs": [],
   "source": [
    "n_imgs = 64\n",
    "\n",
    "# random input vector\n",
    "noise = torch.randn(n_imgs, nz, 1, 1, device=device)\n",
    "# generate images\n",
    "img = netG(noise).detach().cpu()\n",
    "\n",
    "# plot images\n",
    "plt.figure(figsize=(math.ceil(math.sqrt(n_imgs)), math.ceil(math.sqrt(n_imgs))), dpi=128)\n",
    "for i in range(n_imgs):\n",
    "    plt.subplot(8, 8, i+1)\n",
    "    plt.axis(\"off\")\n",
    "    plt.imshow(np.transpose(img[i], (1,2,0))/2 + 0.5)\n",
    "plt.tight_layout()\n",
    "plt.show()"
   ]
  },
  {
   "cell_type": "code",
   "execution_count": 13,
   "metadata": {},
   "outputs": [
    {
     "name": "stdout",
     "output_type": "stream",
     "text": [
      "graph(%0 : Float(64, 100, 1, 1),\n",
      "      %main.0.weight : Float(100, 1024, 3, 3),\n",
      "      %main.1.weight : Float(1024),\n",
      "      %main.1.bias : Float(1024),\n",
      "      %main.1.running_mean : Float(1024),\n",
      "      %main.1.running_var : Float(1024),\n",
      "      %main.1.num_batches_tracked : Long(),\n",
      "      %main.3.weight : Float(1024, 512, 4, 4),\n",
      "      %main.4.weight : Float(512),\n",
      "      %main.4.bias : Float(512),\n",
      "      %main.4.running_mean : Float(512),\n",
      "      %main.4.running_var : Float(512),\n",
      "      %main.4.num_batches_tracked : Long(),\n",
      "      %main.6.weight : Float(512, 256, 4, 4),\n",
      "      %main.7.weight : Float(256),\n",
      "      %main.7.bias : Float(256),\n",
      "      %main.7.running_mean : Float(256),\n",
      "      %main.7.running_var : Float(256),\n",
      "      %main.7.num_batches_tracked : Long(),\n",
      "      %main.9.weight : Float(256, 128, 4, 4),\n",
      "      %main.10.weight : Float(128),\n",
      "      %main.10.bias : Float(128),\n",
      "      %main.10.running_mean : Float(128),\n",
      "      %main.10.running_var : Float(128),\n",
      "      %main.10.num_batches_tracked : Long(),\n",
      "      %main.12.weight : Float(128, 64, 4, 4),\n",
      "      %main.13.weight : Float(64),\n",
      "      %main.13.bias : Float(64),\n",
      "      %main.13.running_mean : Float(64),\n",
      "      %main.13.running_var : Float(64),\n",
      "      %main.13.num_batches_tracked : Long(),\n",
      "      %main.15.weight : Float(64, 3, 4, 4)):\n",
      "  %32 : Float(64, 1024, 3, 3) = onnx::ConvTranspose[dilations=[1, 1], group=1, kernel_shape=[3, 3], pads=[0, 0, 0, 0], strides=[1, 1]](%0, %main.0.weight), scope: Generator/Sequential[main]/ConvTranspose2d[0] # C:\\Users\\Christian\\miniconda3\\lib\\site-packages\\torch\\nn\\modules\\conv.py:778:0\n",
      "  %33 : Float(64, 1024, 3, 3) = onnx::BatchNormalization[epsilon=1e-05, momentum=0.9](%32, %main.1.weight, %main.1.bias, %main.1.running_mean, %main.1.running_var), scope: Generator/Sequential[main]/BatchNorm2d[1] # C:\\Users\\Christian\\miniconda3\\lib\\site-packages\\torch\\nn\\functional.py:1670:0\n",
      "  %34 : Float(64, 1024, 3, 3) = onnx::Relu(%33), scope: Generator/Sequential[main]/ReLU[2] # C:\\Users\\Christian\\miniconda3\\lib\\site-packages\\torch\\nn\\functional.py:912:0\n",
      "  %35 : Float(64, 512, 6, 6) = onnx::ConvTranspose[dilations=[1, 1], group=1, kernel_shape=[4, 4], pads=[1, 1, 1, 1], strides=[2, 2]](%34, %main.3.weight), scope: Generator/Sequential[main]/ConvTranspose2d[3] # C:\\Users\\Christian\\miniconda3\\lib\\site-packages\\torch\\nn\\modules\\conv.py:778:0\n",
      "  %36 : Float(64, 512, 6, 6) = onnx::BatchNormalization[epsilon=1e-05, momentum=0.9](%35, %main.4.weight, %main.4.bias, %main.4.running_mean, %main.4.running_var), scope: Generator/Sequential[main]/BatchNorm2d[4] # C:\\Users\\Christian\\miniconda3\\lib\\site-packages\\torch\\nn\\functional.py:1670:0\n",
      "  %37 : Float(64, 512, 6, 6) = onnx::Relu(%36), scope: Generator/Sequential[main]/ReLU[5] # C:\\Users\\Christian\\miniconda3\\lib\\site-packages\\torch\\nn\\functional.py:912:0\n",
      "  %38 : Float(64, 256, 12, 12) = onnx::ConvTranspose[dilations=[1, 1], group=1, kernel_shape=[4, 4], pads=[1, 1, 1, 1], strides=[2, 2]](%37, %main.6.weight), scope: Generator/Sequential[main]/ConvTranspose2d[6] # C:\\Users\\Christian\\miniconda3\\lib\\site-packages\\torch\\nn\\modules\\conv.py:778:0\n",
      "  %39 : Float(64, 256, 12, 12) = onnx::BatchNormalization[epsilon=1e-05, momentum=0.9](%38, %main.7.weight, %main.7.bias, %main.7.running_mean, %main.7.running_var), scope: Generator/Sequential[main]/BatchNorm2d[7] # C:\\Users\\Christian\\miniconda3\\lib\\site-packages\\torch\\nn\\functional.py:1670:0\n",
      "  %40 : Float(64, 256, 12, 12) = onnx::Relu(%39), scope: Generator/Sequential[main]/ReLU[8] # C:\\Users\\Christian\\miniconda3\\lib\\site-packages\\torch\\nn\\functional.py:912:0\n",
      "  %41 : Float(64, 128, 24, 24) = onnx::ConvTranspose[dilations=[1, 1], group=1, kernel_shape=[4, 4], pads=[1, 1, 1, 1], strides=[2, 2]](%40, %main.9.weight), scope: Generator/Sequential[main]/ConvTranspose2d[9] # C:\\Users\\Christian\\miniconda3\\lib\\site-packages\\torch\\nn\\modules\\conv.py:778:0\n",
      "  %42 : Float(64, 128, 24, 24) = onnx::BatchNormalization[epsilon=1e-05, momentum=0.9](%41, %main.10.weight, %main.10.bias, %main.10.running_mean, %main.10.running_var), scope: Generator/Sequential[main]/BatchNorm2d[10] # C:\\Users\\Christian\\miniconda3\\lib\\site-packages\\torch\\nn\\functional.py:1670:0\n",
      "  %43 : Float(64, 128, 24, 24) = onnx::Relu(%42), scope: Generator/Sequential[main]/ReLU[11] # C:\\Users\\Christian\\miniconda3\\lib\\site-packages\\torch\\nn\\functional.py:912:0\n",
      "  %44 : Float(64, 64, 48, 48) = onnx::ConvTranspose[dilations=[1, 1], group=1, kernel_shape=[4, 4], pads=[1, 1, 1, 1], strides=[2, 2]](%43, %main.12.weight), scope: Generator/Sequential[main]/ConvTranspose2d[12] # C:\\Users\\Christian\\miniconda3\\lib\\site-packages\\torch\\nn\\modules\\conv.py:778:0\n",
      "  %45 : Float(64, 64, 48, 48) = onnx::BatchNormalization[epsilon=1e-05, momentum=0.9](%44, %main.13.weight, %main.13.bias, %main.13.running_mean, %main.13.running_var), scope: Generator/Sequential[main]/BatchNorm2d[13] # C:\\Users\\Christian\\miniconda3\\lib\\site-packages\\torch\\nn\\functional.py:1670:0\n",
      "  %46 : Float(64, 64, 48, 48) = onnx::Relu(%45), scope: Generator/Sequential[main]/ReLU[14] # C:\\Users\\Christian\\miniconda3\\lib\\site-packages\\torch\\nn\\functional.py:912:0\n",
      "  %47 : Float(64, 3, 96, 96) = onnx::ConvTranspose[dilations=[1, 1], group=1, kernel_shape=[4, 4], pads=[1, 1, 1, 1], strides=[2, 2]](%46, %main.15.weight), scope: Generator/Sequential[main]/ConvTranspose2d[15] # C:\\Users\\Christian\\miniconda3\\lib\\site-packages\\torch\\nn\\modules\\conv.py:778:0\n",
      "  %48 : Float(64, 3, 96, 96) = onnx::Tanh(%47), scope: Generator/Sequential[main]/Tanh[16] # C:\\Users\\Christian\\miniconda3\\lib\\site-packages\\torch\\nn\\modules\\activation.py:295:0\n",
      "  return (%48)\n",
      "\n"
     ]
    }
   ],
   "source": [
    "# now export to onnx\n",
    "torch.onnx.export(netG, noise, os.path.join(model_path, model_name_pt + \".onnx\"), verbose=True)"
   ]
  }
 ],
 "metadata": {
  "kernelspec": {
   "display_name": "Python 3",
   "language": "python",
   "name": "python3"
  },
  "language_info": {
   "codemirror_mode": {
    "name": "ipython",
    "version": 3
   },
   "file_extension": ".py",
   "mimetype": "text/x-python",
   "name": "python",
   "nbconvert_exporter": "python",
   "pygments_lexer": "ipython3",
   "version": "3.7.6"
  }
 },
 "nbformat": 4,
 "nbformat_minor": 4
}
