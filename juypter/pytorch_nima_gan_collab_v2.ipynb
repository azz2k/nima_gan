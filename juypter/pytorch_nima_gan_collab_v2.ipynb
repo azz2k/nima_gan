{
 "cells": [
  {
   "cell_type": "markdown",
   "metadata": {
    "colab_type": "text",
    "id": "zu6bB-cY7rCC"
   },
   "source": [
    "https://github.com/masterTW/Tensorflow_NIMA_Food_Photo_Aesthetic_Evaluation\n",
    "https://pytorch.org/tutorials/beginner/dcgan_faces_tutorial.html"
   ]
  },
  {
   "cell_type": "code",
   "execution_count": 0,
   "metadata": {
    "colab": {},
    "colab_type": "code",
    "id": "5ZrEi_Zq7dNF"
   },
   "outputs": [],
   "source": [
    "from google.colab import drive\n",
    "\n",
    "import os\n",
    "import io\n",
    "import tarfile\n",
    "import numpy as np\n",
    "import pandas as pd\n",
    "from tqdm.auto import tqdm\n",
    "import sys\n",
    "import argparse\n",
    "import os\n",
    "import random\n",
    "import shutil\n",
    "\n",
    "import matplotlib.pyplot as plt\n",
    "import matplotlib.animation as animation\n",
    "from IPython.display import HTML\n",
    "import seaborn as sns\n",
    "\n",
    "import torch\n",
    "import torch.nn as nn\n",
    "import torch.nn.parallel\n",
    "import torch.backends.cudnn as cudnn\n",
    "import torch.optim as optim\n",
    "import torch.utils.data\n",
    "import torchvision.datasets as dset\n",
    "import torchvision.transforms as transforms\n",
    "import torchvision.utils as vutils"
   ]
  },
  {
   "cell_type": "code",
   "execution_count": 6,
   "metadata": {
    "colab": {
     "base_uri": "https://localhost:8080/",
     "height": 51
    },
    "colab_type": "code",
    "executionInfo": {
     "elapsed": 1340,
     "status": "ok",
     "timestamp": 1584961912993,
     "user": {
      "displayName": "Christian Blum",
      "photoUrl": "",
      "userId": "13375732316735281152"
     },
     "user_tz": -60
    },
    "id": "0dBmQqjJfIYY",
    "outputId": "fbb342a5-bcfe-4183-d524-beedeca84af6"
   },
   "outputs": [
    {
     "name": "stdout",
     "output_type": "stream",
     "text": [
      "Random Seed:  999\n"
     ]
    },
    {
     "data": {
      "text/plain": [
       "<torch._C.Generator at 0x7f599a34e1f0>"
      ]
     },
     "execution_count": 6,
     "metadata": {
      "tags": []
     },
     "output_type": "execute_result"
    }
   ],
   "source": [
    "#%matplotlib inline\n",
    "\n",
    "# Set random seed for reproducibility\n",
    "manualSeed = 999\n",
    "#manualSeed = random.randint(1, 10000) # use if you want new results\n",
    "\n",
    "print(\"Random Seed: \", manualSeed)\n",
    "random.seed(manualSeed)\n",
    "torch.manual_seed(manualSeed)"
   ]
  },
  {
   "cell_type": "code",
   "execution_count": 7,
   "metadata": {
    "colab": {
     "base_uri": "https://localhost:8080/",
     "height": 34
    },
    "colab_type": "code",
    "executionInfo": {
     "elapsed": 1294,
     "status": "ok",
     "timestamp": 1584961912995,
     "user": {
      "displayName": "Christian Blum",
      "photoUrl": "",
      "userId": "13375732316735281152"
     },
     "user_tz": -60
    },
    "id": "JXyI_o-WFUFv",
    "outputId": "b0e5a18b-ee9a-4baf-df7b-c05fefd44b1c"
   },
   "outputs": [
    {
     "name": "stdout",
     "output_type": "stream",
     "text": [
      "True 1 Tesla K80\n"
     ]
    }
   ],
   "source": [
    "print(torch.cuda.is_available(), torch.cuda.device_count(), torch.cuda.get_device_name(0))"
   ]
  },
  {
   "cell_type": "code",
   "execution_count": 8,
   "metadata": {
    "colab": {
     "base_uri": "https://localhost:8080/",
     "height": 34
    },
    "colab_type": "code",
    "executionInfo": {
     "elapsed": 1254,
     "status": "ok",
     "timestamp": 1584961912997,
     "user": {
      "displayName": "Christian Blum",
      "photoUrl": "",
      "userId": "13375732316735281152"
     },
     "user_tz": -60
    },
    "id": "vcWmxNBIT9t7",
    "outputId": "906930a7-4333-4bc5-914d-c90c5e423167"
   },
   "outputs": [
    {
     "name": "stdout",
     "output_type": "stream",
     "text": [
      "Drive already mounted at /content/gdrive; to attempt to forcibly remount, call drive.mount(\"/content/gdrive\", force_remount=True).\n"
     ]
    }
   ],
   "source": [
    "drive.mount(\"/content/gdrive\")\n",
    "if not os.path.exists(\"small\"):\n",
    "  !cp \"/content/gdrive/My Drive/Data Science/small.tar\" .\n",
    "  !tar -xf small.tar\n",
    "  !mkdir data\n",
    "  !mkdir data/small_good"
   ]
  },
  {
   "cell_type": "code",
   "execution_count": 0,
   "metadata": {
    "colab": {},
    "colab_type": "code",
    "id": "7Mc0Za9kM9uA"
   },
   "outputs": [],
   "source": [
    "# Here we filter the well scored images from out dataset for use in our GAN\n",
    "if len(os.listdir(\"data/small_good/\")) < 100:\n",
    "  # load labels\n",
    "  all_labels = pd.read_csv(\"/content/gdrive/My Drive/Data Science/AVA.txt\",\n",
    "                            sep = \" \",\n",
    "                            names=[\"id\", \n",
    "                                  \"img_id\",\n",
    "                                  \"r_01\", \n",
    "                                  \"r_02\", \n",
    "                                  \"r_03\", \n",
    "                                  \"r_04\", \n",
    "                                  \"r_05\", \n",
    "                                  \"r_06\", \n",
    "                                  \"r_07\", \n",
    "                                  \"r_08\", \n",
    "                                  \"r_09\", \n",
    "                                  \"r_10\",\n",
    "                                  \"im_tag_1\",\n",
    "                                  \"im_tag_2\",\n",
    "                                  \"challenge_id\"])\n",
    "\n",
    "  # normalize ratings\n",
    "  all_labels[\"r_sum\"] = all_labels.iloc[:,2:12].sum(axis=1)\n",
    "  for i in range(1, 11):\n",
    "    col_name = \"r_\" + str(i).rjust(2, \"0\")\n",
    "    all_labels[col_name] = all_labels[col_name].astype(\"float\") / all_labels[\"r_sum\"]\n",
    "\n",
    "  # reduce labels to the stuff we need\n",
    "  reduced_labels = all_labels.drop([\"id\", \"im_tag_1\", \"im_tag_2\", \"challenge_id\", \"r_sum\"], axis = 1)\n",
    "\n",
    "  for index, row in reduced_labels.iterrows():\n",
    "    img_id = int(row[\"img_id\"])\n",
    "    img_name = str(img_id) + \".jpg\"\n",
    "    score = row[1:].to_numpy().dot(np.array([1,2,3,4,5,6,7,8,9,10]))\n",
    "    if score > 6:\n",
    "      try:\n",
    "        shutil.copyfile(os.path.join(\"small/\", img_name), os.path.join(\"data/small_good/\", img_name))\n",
    "      except:\n",
    "        print(img_name + \" does not exist\")"
   ]
  },
  {
   "cell_type": "code",
   "execution_count": 0,
   "metadata": {
    "colab": {},
    "colab_type": "code",
    "id": "h0b12DKodt55"
   },
   "outputs": [],
   "source": [
    "# Root directory for dataset\n",
    "dataroot = \"data/\"\n",
    "\n",
    "# Number of workers for dataloader\n",
    "workers = 2\n",
    "\n",
    "# Batch size during training\n",
    "batch_size = 64\n",
    "\n",
    "# Spatial size of training images. All images will be resized to this\n",
    "#   size using a transformer.\n",
    "image_size = 128\n",
    "\n",
    "# Number of channels in the training images. For color images this is 3\n",
    "nc = 3\n",
    "\n",
    "# Size of z latent vector (i.e. size of generator input)\n",
    "nz = 100\n",
    "\n",
    "# Size of feature maps in generator\n",
    "ngf = 64\n",
    "\n",
    "# Size of feature maps in discriminator\n",
    "ndf = 64\n",
    "\n",
    "# Number of training epochs\n",
    "num_epochs = 40\n",
    "\n",
    "# Learning rate for optimizers\n",
    "lr = 0.0002\n",
    "\n",
    "# Beta1 hyperparam for Adam optimizers\n",
    "beta1 = 0.5\n",
    "\n",
    "# Magnitude of noise to add to generator output and real images\n",
    "img_noise_mag = 0.01\n",
    "\n",
    "# Number of GPUs available. Use 0 for CPU mode.\n",
    "ngpu = 1"
   ]
  },
  {
   "cell_type": "code",
   "execution_count": null,
   "metadata": {
    "colab": {
     "base_uri": "https://localhost:8080/",
     "height": 859
    },
    "colab_type": "code",
    "executionInfo": {
     "elapsed": 5870,
     "status": "ok",
     "timestamp": 1584961917712,
     "user": {
      "displayName": "Christian Blum",
      "photoUrl": "",
      "userId": "13375732316735281152"
     },
     "user_tz": -60
    },
    "id": "oZOAdDzXhrZG",
    "outputId": "4f6da85d-1543-46bc-e0a5-136c2281ba1b"
   },
   "outputs": [],
   "source": [
    "# We can use an image folder dataset the way we have it setup.\n",
    "# Create the dataset\n",
    "dataset = dset.ImageFolder(root=dataroot,\n",
    "                           transform=transforms.Compose([\n",
    "                               transforms.Resize(image_size),\n",
    "                               transforms.CenterCrop(image_size),\n",
    "                               transforms.RandomHorizontalFlip(p=0.5),\n",
    "                               transforms.ToTensor(),\n",
    "                               transforms.Normalize((0.5, 0.5, 0.5), (0.5, 0.5, 0.5)),\n",
    "                           ]))\n",
    "# Create the dataloader\n",
    "dataloader = torch.utils.data.DataLoader(dataset, batch_size=batch_size,\n",
    "                                         shuffle=True, num_workers=workers)\n",
    "\n",
    "# Decide which device we want to run on\n",
    "device = torch.device(\"cuda:0\" if (torch.cuda.is_available() and ngpu > 0) else \"cpu\")\n",
    "\n",
    "# Plot some training images\n",
    "real_batch = next(iter(dataloader))\n",
    "plt.figure(figsize=(8,8), dpi=128)\n",
    "plt.axis(\"off\")\n",
    "plt.title(\"Training Images\")\n",
    "plt.imshow(np.transpose(vutils.make_grid(real_batch[0].to(device)[:64], padding=2, normalize=True).cpu(),(1,2,0)))"
   ]
  },
  {
   "cell_type": "code",
   "execution_count": 0,
   "metadata": {
    "colab": {},
    "colab_type": "code",
    "id": "gVK2kOh9ikSx"
   },
   "outputs": [],
   "source": [
    "# custom weights initialization called on netG and netD\n",
    "def weights_init(m):\n",
    "  classname = m.__class__.__name__\n",
    "  if classname.find('Conv') != -1:\n",
    "    nn.init.normal_(m.weight.data, 0.0, 0.02)\n",
    "  elif classname.find('BatchNorm') != -1:\n",
    "    nn.init.normal_(m.weight.data, 1.0, 0.02)\n",
    "    nn.init.constant_(m.bias.data, 0)"
   ]
  },
  {
   "cell_type": "code",
   "execution_count": 0,
   "metadata": {
    "colab": {},
    "colab_type": "code",
    "id": "ViJRY8tgixw7"
   },
   "outputs": [],
   "source": [
    "# Generator Code\n",
    "\n",
    "class Generator(nn.Module):\n",
    "  def __init__(self, ngpu):\n",
    "    super(Generator, self).__init__()\n",
    "    self.ngpu = ngpu\n",
    "    self.main = nn.Sequential(\n",
    "      # input is Z, going into a convolution\n",
    "      nn.ConvTranspose2d(in_channels=nz, \n",
    "                         out_channels=ngf*16, \n",
    "                         kernel_size=4, \n",
    "                         stride=1, \n",
    "                         padding=0, \n",
    "                         bias=False),\n",
    "      nn.BatchNorm2d(num_features=ngf*16),\n",
    "      nn.ReLU(True),\n",
    "      # state size. (ngf*16) x 4 x 4\n",
    "      nn.ConvTranspose2d(in_channels=ngf*16, \n",
    "                         out_channels=ngf*8, \n",
    "                         kernel_size=4, \n",
    "                         stride=2, \n",
    "                         padding=1, \n",
    "                         bias=False),\n",
    "      nn.BatchNorm2d(num_features=ngf*8),\n",
    "      nn.ReLU(True),\n",
    "      # state size. (ngf*8) x 8 x 8\n",
    "      nn.ConvTranspose2d(in_channels=ngf*8, \n",
    "                         out_channels=ngf*4, \n",
    "                         kernel_size=4, \n",
    "                         stride=2, \n",
    "                         padding=1, \n",
    "                         bias=False),\n",
    "      nn.BatchNorm2d(num_features=ngf*4),\n",
    "      nn.ReLU(True),\n",
    "      # state size. (ngf*4) x 16 x 16\n",
    "      nn.ConvTranspose2d(in_channels=ngf*4, \n",
    "                         out_channels=ngf*2, \n",
    "                         kernel_size=4, \n",
    "                         stride=2, \n",
    "                         padding=1, \n",
    "                         bias=False),\n",
    "      nn.BatchNorm2d(num_features=ngf*2),\n",
    "      nn.ReLU(True),\n",
    "      # state size. (ngf*2) x 32 x 32\n",
    "      nn.ConvTranspose2d(in_channels=ngf*2, \n",
    "                         out_channels=ngf, \n",
    "                         kernel_size=4, \n",
    "                         stride=2, \n",
    "                         padding=1, \n",
    "                         bias=False),\n",
    "      nn.BatchNorm2d(num_features=ngf),\n",
    "      nn.ReLU(True),\n",
    "      # state size. (ngf) x 64 x 46\n",
    "      nn.ConvTranspose2d(in_channels=ngf, \n",
    "                         out_channels=nc, \n",
    "                         kernel_size=4, \n",
    "                         stride=2, \n",
    "                         padding=1, \n",
    "                         bias=False),\n",
    "      nn.Tanh()\n",
    "      # state size. (nc) x 128 x 128\n",
    "    )\n",
    "  def forward(self, input):\n",
    "      return self.main(input)"
   ]
  },
  {
   "cell_type": "code",
   "execution_count": 14,
   "metadata": {
    "colab": {
     "base_uri": "https://localhost:8080/",
     "height": 391
    },
    "colab_type": "code",
    "executionInfo": {
     "elapsed": 5804,
     "status": "ok",
     "timestamp": 1584961917715,
     "user": {
      "displayName": "Christian Blum",
      "photoUrl": "",
      "userId": "13375732316735281152"
     },
     "user_tz": -60
    },
    "id": "-LPHuJTtjD9F",
    "outputId": "30d8df73-2470-420c-9e91-8f44faa7b0c2"
   },
   "outputs": [
    {
     "name": "stdout",
     "output_type": "stream",
     "text": [
      "Generator(\n",
      "  (main): Sequential(\n",
      "    (0): ConvTranspose2d(100, 1024, kernel_size=(4, 4), stride=(1, 1), bias=False)\n",
      "    (1): BatchNorm2d(1024, eps=1e-05, momentum=0.1, affine=True, track_running_stats=True)\n",
      "    (2): ReLU(inplace=True)\n",
      "    (3): ConvTranspose2d(1024, 512, kernel_size=(4, 4), stride=(2, 2), padding=(1, 1), bias=False)\n",
      "    (4): BatchNorm2d(512, eps=1e-05, momentum=0.1, affine=True, track_running_stats=True)\n",
      "    (5): ReLU(inplace=True)\n",
      "    (6): ConvTranspose2d(512, 256, kernel_size=(4, 4), stride=(2, 2), padding=(1, 1), bias=False)\n",
      "    (7): BatchNorm2d(256, eps=1e-05, momentum=0.1, affine=True, track_running_stats=True)\n",
      "    (8): ReLU(inplace=True)\n",
      "    (9): ConvTranspose2d(256, 128, kernel_size=(4, 4), stride=(2, 2), padding=(1, 1), bias=False)\n",
      "    (10): BatchNorm2d(128, eps=1e-05, momentum=0.1, affine=True, track_running_stats=True)\n",
      "    (11): ReLU(inplace=True)\n",
      "    (12): ConvTranspose2d(128, 64, kernel_size=(4, 4), stride=(2, 2), padding=(1, 1), bias=False)\n",
      "    (13): BatchNorm2d(64, eps=1e-05, momentum=0.1, affine=True, track_running_stats=True)\n",
      "    (14): ReLU(inplace=True)\n",
      "    (15): ConvTranspose2d(64, 3, kernel_size=(4, 4), stride=(2, 2), padding=(1, 1), bias=False)\n",
      "    (16): Tanh()\n",
      "  )\n",
      ")\n",
      "12786560\n"
     ]
    }
   ],
   "source": [
    "# Create the generator\n",
    "netG = Generator(ngpu).to(device)\n",
    "\n",
    "# Handle multi-gpu if desired\n",
    "if (device.type == 'cuda') and (ngpu > 1):\n",
    "  netG = nn.DataParallel(netG, list(range(ngpu)))\n",
    "\n",
    "# Apply the weights_init function to randomly initialize all weights\n",
    "#  to mean=0, stdev=0.2.\n",
    "#netG.apply(weights_init)\n",
    "\n",
    "# Print the model\n",
    "print(netG)\n",
    "print(sum(p.numel() for p in netG.parameters()))"
   ]
  },
  {
   "cell_type": "code",
   "execution_count": 0,
   "metadata": {
    "colab": {},
    "colab_type": "code",
    "id": "lwGCkvu9jEr5"
   },
   "outputs": [],
   "source": [
    "class Discriminator(nn.Module):\n",
    "  def __init__(self, ngpu):\n",
    "    super(Discriminator, self).__init__()\n",
    "    self.ngpu = ngpu\n",
    "    self.main = nn.Sequential(\n",
    "      # input is (nc) x 128 x 128\n",
    "      nn.Conv2d(in_channels=nc, \n",
    "                out_channels=ndf,\n",
    "                kernel_size=4, \n",
    "                stride=2, \n",
    "                padding=1, \n",
    "                bias=False),\n",
    "      nn.LeakyReLU(0.2, inplace=True),\n",
    "      # state size. (ndf) x 64 x 64\n",
    "      nn.Conv2d(in_channels=ndf, \n",
    "                out_channels=ndf*2,  \n",
    "                kernel_size=4, \n",
    "                stride=2, \n",
    "                padding=1, \n",
    "                bias=False),\n",
    "      nn.BatchNorm2d(num_features=ndf*2),\n",
    "      nn.LeakyReLU(0.2, inplace=True),\n",
    "      # state size. (ndf*2) x 32 x 32\n",
    "      nn.Conv2d(in_channels=ndf*2,\n",
    "                out_channels=ndf*4,  \n",
    "                kernel_size=4, \n",
    "                stride=2, \n",
    "                padding=1,\n",
    "                bias=False),\n",
    "      nn.BatchNorm2d(num_features=ndf*4),\n",
    "      nn.LeakyReLU(0.2, inplace=True),\n",
    "      # state size. (ndf*4) x 16 x 16\n",
    "      nn.Conv2d(in_channels=ndf*4, \n",
    "                out_channels=ndf*8, \n",
    "                kernel_size=4, \n",
    "                stride=2, \n",
    "                padding=1, \n",
    "                bias=False),\n",
    "      nn.BatchNorm2d(num_features=ndf*8),\n",
    "      nn.LeakyReLU(0.2, inplace=True),\n",
    "      # state size. (ndf*8) x 8 x 8\n",
    "      nn.Conv2d(in_channels=ndf*8, \n",
    "                out_channels=ndf*16,  \n",
    "                kernel_size=4, \n",
    "                stride=2, \n",
    "                padding=1, \n",
    "                bias=False),\n",
    "      nn.BatchNorm2d(num_features=ndf*16),\n",
    "      nn.LeakyReLU(0.2, inplace=True),\n",
    "      # state size. (ndf*16) x 4 x 4\n",
    "      nn.Conv2d(in_channels=ndf*16,\n",
    "                out_channels=1,  \n",
    "                kernel_size=4, \n",
    "                stride=1,\n",
    "                padding=0, \n",
    "                bias=False),\n",
    "      nn.Sigmoid()\n",
    "    )\n",
    "  def forward(self, input):\n",
    "    return self.main(input)"
   ]
  },
  {
   "cell_type": "code",
   "execution_count": 16,
   "metadata": {
    "colab": {
     "base_uri": "https://localhost:8080/",
     "height": 374
    },
    "colab_type": "code",
    "executionInfo": {
     "elapsed": 5767,
     "status": "ok",
     "timestamp": 1584961917717,
     "user": {
      "displayName": "Christian Blum",
      "photoUrl": "",
      "userId": "13375732316735281152"
     },
     "user_tz": -60
    },
    "id": "qzh5-jookMnG",
    "outputId": "c0020f25-6077-4fca-ce89-6ee047201f4c"
   },
   "outputs": [
    {
     "name": "stdout",
     "output_type": "stream",
     "text": [
      "Discriminator(\n",
      "  (main): Sequential(\n",
      "    (0): Conv2d(3, 64, kernel_size=(4, 4), stride=(2, 2), padding=(1, 1), bias=False)\n",
      "    (1): LeakyReLU(negative_slope=0.2, inplace=True)\n",
      "    (2): Conv2d(64, 128, kernel_size=(4, 4), stride=(2, 2), padding=(1, 1), bias=False)\n",
      "    (3): BatchNorm2d(128, eps=1e-05, momentum=0.1, affine=True, track_running_stats=True)\n",
      "    (4): LeakyReLU(negative_slope=0.2, inplace=True)\n",
      "    (5): Conv2d(128, 256, kernel_size=(4, 4), stride=(2, 2), padding=(1, 1), bias=False)\n",
      "    (6): BatchNorm2d(256, eps=1e-05, momentum=0.1, affine=True, track_running_stats=True)\n",
      "    (7): LeakyReLU(negative_slope=0.2, inplace=True)\n",
      "    (8): Conv2d(256, 512, kernel_size=(4, 4), stride=(2, 2), padding=(1, 1), bias=False)\n",
      "    (9): BatchNorm2d(512, eps=1e-05, momentum=0.1, affine=True, track_running_stats=True)\n",
      "    (10): LeakyReLU(negative_slope=0.2, inplace=True)\n",
      "    (11): Conv2d(512, 1024, kernel_size=(4, 4), stride=(2, 2), padding=(1, 1), bias=False)\n",
      "    (12): BatchNorm2d(1024, eps=1e-05, momentum=0.1, affine=True, track_running_stats=True)\n",
      "    (13): LeakyReLU(negative_slope=0.2, inplace=True)\n",
      "    (14): Conv2d(1024, 1, kernel_size=(4, 4), stride=(1, 1), bias=False)\n",
      "    (15): Sigmoid()\n",
      "  )\n",
      ")\n",
      "11164416\n"
     ]
    }
   ],
   "source": [
    "# Create the Discriminator\n",
    "netD = Discriminator(ngpu).to(device)\n",
    "\n",
    "# Handle multi-gpu if desired\n",
    "if (device.type == 'cuda') and (ngpu > 1):\n",
    "  netD = nn.DataParallel(netD, list(range(ngpu)))\n",
    "\n",
    "# Apply the weights_init function to randomly initialize all weights\n",
    "#  to mean=0, stdev=0.2.\n",
    "#netD.apply(weights_init)\n",
    "\n",
    "# Print the model\n",
    "print(netD)\n",
    "print(sum(p.numel() for p in netD.parameters()))"
   ]
  },
  {
   "cell_type": "code",
   "execution_count": 0,
   "metadata": {
    "colab": {},
    "colab_type": "code",
    "id": "I8KhRGhDkRt3"
   },
   "outputs": [],
   "source": [
    "# Initialize BCELoss function\n",
    "criterion = nn.BCELoss()\n",
    "\n",
    "# Create batch of latent vectors that we will use to visualize\n",
    "#  the progression of the generator\n",
    "fixed_noise = torch.randn(batch_size, nz, 1, 1, device=device)\n",
    "\n",
    "# Establish convention for real and fake labels during training\n",
    "real_label = 1\n",
    "fake_label = 0\n",
    "\n",
    "# Setup Adam optimizers for both G and D\n",
    "optimizerD = optim.Adam(netD.parameters(), lr=lr, betas=(beta1, 0.999))\n",
    "optimizerG = optim.Adam(netG.parameters(), lr=lr, betas=(beta1, 0.999))"
   ]
  },
  {
   "cell_type": "code",
   "execution_count": 0,
   "metadata": {
    "colab": {
     "base_uri": "https://localhost:8080/",
     "height": 300,
     "referenced_widgets": [
      "c10ee4a993bb4395841c8c9e75bec4ce",
      "cd6f3e0001a84def9a37b9871a08aa68",
      "9f6c34d77a82465ab781d01d297c8596",
      "62a05d666f3a46f2ac5e51f469499508",
      "0b98859efa364fe2ae058589db79c4f1",
      "c27befb643d847cc9f67278c9d3365ed",
      "463d9fb150a34fcb962cfd923108f6d2",
      "95c67c8913ff47798a59c5d08704f0dc",
      "2e0c5d5d4e5c4a20806ad7f25f462c27",
      "c0d57e7df96c458a9b99d81337fc477f",
      "7d394676d60a49ce8981cb2c7d77a584",
      "12fcf16cf75a4ea6ad5425c560660be3",
      "cb543f3404384ec8b03780dba04e6e25",
      "d11a257b15764546adccbc58280ef2fe",
      "bd05bc7729d24956bba47f8c9bbaffe8",
      "8c8a14ac5bb24500bdc8625e564ec1f4",
      "fbde7f626e6d40e7b06d29c802f3aff6",
      "335466baadc941b9808f5fbccb8d2d01",
      "12e82898662647269794ca42f003560c",
      "622c9a2e36aa463f9329b135eaeed637",
      "853c7eaa6f2748ef9efaaebbeb96df7d",
      "3d42d5deb0324f3283eb39c5cfdc870a",
      "6ca4a8ba6e9b4284a095fed8a69025bf",
      "8756187b875049feb911033e15ad0f59"
     ]
    },
    "colab_type": "code",
    "executionInfo": {
     "elapsed": 13611457,
     "status": "ok",
     "timestamp": 1579210546202,
     "user": {
      "displayName": "Christian Blum",
      "photoUrl": "",
      "userId": "13375732316735281152"
     },
     "user_tz": -60
    },
    "id": "S0OXP30mkVXD",
    "outputId": "76359028-9ff2-423a-a506-6b031458e2fd"
   },
   "outputs": [
    {
     "name": "stdout",
     "output_type": "stream",
     "text": [
      "Starting Training Loop...\n"
     ]
    },
    {
     "data": {
      "application/vnd.jupyter.widget-view+json": {
       "model_id": "c10ee4a993bb4395841c8c9e75bec4ce",
       "version_major": 2,
       "version_minor": 0
      },
      "text/plain": [
       "HBox(children=(IntProgress(value=0, max=40), HTML(value='')))"
      ]
     },
     "metadata": {
      "tags": []
     },
     "output_type": "display_data"
    },
    {
     "data": {
      "application/vnd.jupyter.widget-view+json": {
       "model_id": "2e0c5d5d4e5c4a20806ad7f25f462c27",
       "version_major": 2,
       "version_minor": 0
      },
      "text/plain": [
       "HBox(children=(IntProgress(value=0, max=777), HTML(value='')))"
      ]
     },
     "metadata": {
      "tags": []
     },
     "output_type": "display_data"
    },
    {
     "name": "stdout",
     "output_type": "stream",
     "text": [
      "[1/40][0/777]\tLoss_D: 1.3793\tLoss_G: 0.0504\tD(x): 0.4317\tD(G(z)): 0.3969 / 0.9511\n",
      "[1/40][100/777]\tLoss_D: 1.0343\tLoss_G: 1.3522\tD(x): 0.5554\tD(G(z)): 0.3247 / 0.2842\n",
      "[1/40][200/777]\tLoss_D: 1.6466\tLoss_G: 1.4386\tD(x): 0.4877\tD(G(z)): 0.5265 / 0.2795\n",
      "[1/40][300/777]\tLoss_D: 1.7436\tLoss_G: 1.1658\tD(x): 0.4189\tD(G(z)): 0.5493 / 0.3337\n",
      "[1/40][400/777]\tLoss_D: 1.3796\tLoss_G: 0.6927\tD(x): 0.5578\tD(G(z)): 0.5385 / 0.5142\n",
      "[1/40][500/777]\tLoss_D: 1.4883\tLoss_G: 0.6692\tD(x): 0.5137\tD(G(z)): 0.5504 / 0.5173\n",
      "[1/40][600/777]\tLoss_D: 1.5337\tLoss_G: 0.8145\tD(x): 0.4941\tD(G(z)): 0.5466 / 0.4520\n",
      "[1/40][700/777]\tLoss_D: 1.5076\tLoss_G: 0.6650\tD(x): 0.4665\tD(G(z)): 0.4943 / 0.5178\n",
      "\n"
     ]
    },
    {
     "data": {
      "application/vnd.jupyter.widget-view+json": {
       "model_id": "fbde7f626e6d40e7b06d29c802f3aff6",
       "version_major": 2,
       "version_minor": 0
      },
      "text/plain": [
       "HBox(children=(IntProgress(value=0, max=777), HTML(value='')))"
      ]
     },
     "metadata": {
      "tags": []
     },
     "output_type": "display_data"
    },
    {
     "name": "stdout",
     "output_type": "stream",
     "text": [
      "[2/40][0/777]\tLoss_D: 1.4650\tLoss_G: 0.8059\tD(x): 0.4833\tD(G(z)): 0.5034 / 0.4534\n"
     ]
    }
   ],
   "source": [
    "# Training Loop\n",
    "\n",
    "# Lists to keep track of progress\n",
    "img_list = []\n",
    "G_losses = []\n",
    "D_losses = []\n",
    "iters = 0\n",
    "\n",
    "print(\"Starting Training Loop...\")\n",
    "# For each epoch\n",
    "for epoch in tqdm(range(num_epochs)):\n",
    "  # For each batch in the dataloader\n",
    "  for i, data in tqdm(enumerate(dataloader, 0), total=len(dataloader)):\n",
    "\n",
    "    ############################\n",
    "    # (1) Update D network: maximize log(D(x)) + log(1 - D(G(z)))\n",
    "    ###########################\n",
    "    ## Train with all-real batch\n",
    "    netD.zero_grad()\n",
    "    # Format batch\n",
    "    real_cpu = data[0].to(device)\n",
    "    b_size = real_cpu.size(0)\n",
    "    img_noise = torch.randn(b_size, nc, image_size, image_size, device=device) * img_noise_mag\n",
    "    label = torch.full((b_size,), real_label, device=device)\n",
    "    # Forward pass real batch through D\n",
    "    output = netD(real_cpu + img_noise).view(-1)\n",
    "    # Calculate loss on all-real batch\n",
    "    errD_real = criterion(output, label)\n",
    "    # Calculate gradients for D in backward pass\n",
    "    errD_real.backward()\n",
    "    D_x = output.mean().item()\n",
    "\n",
    "    ## Train with all-fake batch\n",
    "    # Generate batch of latent vectors\n",
    "    noise = torch.randn(b_size, nz, 1, 1, device=device)\n",
    "    # Generate fake image batch with G\n",
    "    fake = netG(noise)\n",
    "    img_noise = torch.randn(b_size, nc, image_size, image_size, device=device) * img_noise_mag\n",
    "    label.fill_(fake_label)\n",
    "    # Classify all fake batch with D\n",
    "    output = netD(fake + img_noise).view(-1)\n",
    "    # Calculate D's loss on the all-fake batch\n",
    "    errD_fake = criterion(output, label)\n",
    "    # Calculate the gradients for this batch\n",
    "    errD_fake.backward()\n",
    "    D_G_z1 = output.mean().item()\n",
    "    # Add the gradients from the all-real and all-fake batches\n",
    "    errD = errD_real + errD_fake\n",
    "    # Update D\n",
    "    optimizerD.step()\n",
    "\n",
    "    ############################\n",
    "    # (2) Update G network: maximize log(D(G(z)))\n",
    "    # we do two steps here to balance the generator and discriminator\n",
    "    ###########################\n",
    "    #first step\n",
    "    netG.zero_grad()\n",
    "    label.fill_(real_label)  # fake labels are real for generator cost\n",
    "    # Since we just updated D, perform another forward pass of all-fake batch through D\n",
    "    output = netD(fake.detach() + img_noise).view(-1)\n",
    "    # Calculate G's loss based on this output\n",
    "    errG = criterion(output, label)\n",
    "    # Calculate gradients for G xxx\n",
    "    errG.backward()\n",
    "    D_G_z2 = output.mean().item()\n",
    "    # Update G\n",
    "    optimizerG.step()\n",
    "\n",
    "    # second step\n",
    "    netG.zero_grad()\n",
    "    label.fill_(real_label)  # fake labels are real for generator cost\n",
    "    # Generate batch of latent vectors\n",
    "    noise = torch.randn(b_size, nz, 1, 1, device=device)\n",
    "    # Generate fake image batch with G\n",
    "    fake = netG(noise)\n",
    "    img_noise = torch.randn(b_size, nc, image_size, image_size, device=device) * img_noise_mag\n",
    "    # Classify all fake batch with D\n",
    "    output = netD(fake + img_noise).view(-1)\n",
    "    # Calculate G's loss based on this output\n",
    "    errG = criterion(output, label)\n",
    "    # Calculate gradients for G\n",
    "    errG.backward()\n",
    "    D_G_z2 = output.mean().item()\n",
    "    # Update G\n",
    "    optimizerG.step()\n",
    "    \n",
    "    # third step\n",
    "    netG.zero_grad()\n",
    "    label.fill_(real_label)  # fake labels are real for generator cost\n",
    "    # Generate batch of latent vectors\n",
    "    noise = torch.randn(b_size, nz, 1, 1, device=device)\n",
    "    # Generate fake image batch with G\n",
    "    fake = netG(noise)\n",
    "    img_noise = torch.randn(b_size, nc, image_size, image_size, device=device) * img_noise_mag\n",
    "    # Classify all fake batch with D\n",
    "    output = netD(fake + img_noise).view(-1)\n",
    "    # Calculate G's loss based on this output\n",
    "    errG = criterion(output, label)\n",
    "    # Calculate gradients for G\n",
    "    errG.backward()\n",
    "    D_G_z2 = output.mean().item()\n",
    "    # Update G\n",
    "    optimizerG.step()\n",
    "\n",
    "    # Output training stats\n",
    "    if i % 100 == 0:\n",
    "      print('[%d/%d][%d/%d]\\tLoss_D: %.4f\\tLoss_G: %.4f\\tD(x): %.4f\\tD(G(z)): %.4f / %.4f'\n",
    "        % (epoch+1, num_epochs, i, len(dataloader),\n",
    "            errD.item(), errG.item(), D_x, D_G_z1, D_G_z2))\n",
    "\n",
    "    # Save Losses for plotting later\n",
    "    G_losses.append(errG.item())\n",
    "    D_losses.append(errD.item())\n",
    "\n",
    "    # Check how the generator is doing by saving G's output on fixed_noise\n",
    "    if (iters % 500 == 0) or ((epoch == num_epochs-1) and (i == len(dataloader)-1)):\n",
    "      with torch.no_grad():\n",
    "        fake = netG(fixed_noise).detach().cpu()\n",
    "      img_list.append(vutils.make_grid(fake, padding=2, normalize=True))\n",
    "\n",
    "    iters += 1"
   ]
  },
  {
   "cell_type": "code",
   "execution_count": 0,
   "metadata": {
    "colab": {
     "base_uri": "https://localhost:8080/",
     "height": 631
    },
    "colab_type": "code",
    "executionInfo": {
     "elapsed": 3277,
     "status": "ok",
     "timestamp": 1579210552861,
     "user": {
      "displayName": "Christian Blum",
      "photoUrl": "",
      "userId": "13375732316735281152"
     },
     "user_tz": -60
    },
    "id": "WuB01ixkkbYM",
    "outputId": "a5a221a3-7fd5-45e6-eedd-40c5263f50cd"
   },
   "outputs": [
    {
     "data": {
      "image/png": "[encoded data removed]",
      "text/plain": [
       "<Figure size 1500x700 with 1 Axes>"
      ]
     },
     "metadata": {
      "tags": []
     },
     "output_type": "display_data"
    }
   ],
   "source": [
    "plt.figure(figsize=(15,7), dpi=100)\n",
    "plt.title(\"Generator and Discriminator Loss During Training\")\n",
    "plt.plot(G_losses,label=\"G\")\n",
    "plt.plot(D_losses,label=\"D\")\n",
    "plt.xlabel(\"iterations\")\n",
    "plt.ylabel(\"Loss\")\n",
    "plt.yscale(\"log\")\n",
    "plt.legend()\n",
    "plt.show()"
   ]
  },
  {
   "cell_type": "code",
   "execution_count": null,
   "metadata": {
    "colab": {
     "base_uri": "https://localhost:8080/",
     "height": 558
    },
    "colab_type": "code",
    "executionInfo": {
     "elapsed": 42045,
     "status": "ok",
     "timestamp": 1579210606546,
     "user": {
      "displayName": "Christian Blum",
      "photoUrl": "",
      "userId": "13375732316735281152"
     },
     "user_tz": -60
    },
    "id": "iAjMhVsjkyE-",
    "outputId": "53450901-ab5b-4a57-fcd0-28b2f9b37114"
   },
   "outputs": [],
   "source": [
    "fig = plt.figure(figsize=(8,8), dpi=32)\n",
    "plt.axis(\"off\")\n",
    "ims = [[plt.imshow(np.transpose(i,(1,2,0)), animated=True)] for i in img_list]\n",
    "ani = animation.ArtistAnimation(fig, ims, interval=1000, repeat_delay=1000, blit=True)\n",
    "\n",
    "HTML(ani.to_jshtml())"
   ]
  },
  {
   "cell_type": "code",
   "execution_count": null,
   "metadata": {
    "colab": {
     "base_uri": "https://localhost:8080/",
     "height": 810
    },
    "colab_type": "code",
    "executionInfo": {
     "elapsed": 14070,
     "status": "ok",
     "timestamp": 1579211097413,
     "user": {
      "displayName": "Christian Blum",
      "photoUrl": "",
      "userId": "13375732316735281152"
     },
     "user_tz": -60
    },
    "id": "uCgQMv_am5Ao",
    "outputId": "baaedaeb-6956-4150-93ed-45a18b9e262b"
   },
   "outputs": [],
   "source": [
    "# Grab a batch of real images from the dataloader\n",
    "real_batch = next(iter(dataloader))\n",
    "\n",
    "# Plot the real images\n",
    "plt.figure(figsize=(16,8), dpi=128)\n",
    "plt.subplot(1,2,1)\n",
    "plt.axis(\"off\")\n",
    "plt.title(\"Real Images\")\n",
    "plt.imshow(np.transpose(vutils.make_grid(real_batch[0].to(device)[:64], padding=5, normalize=True).cpu(),(1,2,0)))\n",
    "\n",
    "# Plot the fake images from the last epoch\n",
    "plt.subplot(1,2,2)\n",
    "plt.axis(\"off\")\n",
    "plt.title(\"Fake Images\")\n",
    "plt.imshow(np.transpose(img_list[-1],(1,2,0)))\n",
    "plt.show()"
   ]
  },
  {
   "cell_type": "code",
   "execution_count": null,
   "metadata": {
    "colab": {
     "base_uri": "https://localhost:8080/",
     "height": 815
    },
    "colab_type": "code",
    "executionInfo": {
     "elapsed": 8452,
     "status": "ok",
     "timestamp": 1579211085063,
     "user": {
      "displayName": "Christian Blum",
      "photoUrl": "",
      "userId": "13375732316735281152"
     },
     "user_tz": -60
    },
    "id": "pv_VEALthl9s",
    "outputId": "08132ef9-2ede-4d38-dc76-711864c55c85"
   },
   "outputs": [],
   "source": [
    "# Plot the fake images from the last epoch\n",
    "plt.figure(figsize=(8,8), dpi=128)\n",
    "plt.axis(\"off\")\n",
    "plt.imshow(np.transpose(img_list[-1],(1,2,0)))\n",
    "plt.show()"
   ]
  }
 ],
 "metadata": {
  "accelerator": "GPU",
  "colab": {
   "collapsed_sections": [],
   "machine_shape": "hm",
   "name": "Copy of pytorch_nima_gan_v2.ipynb",
   "provenance": [
    {
     "file_id": "1TmiC9uMQko-dY94nACawBEnvA6wj0Z90",
     "timestamp": 1584973000390
    },
    {
     "file_id": "1DipgIkt_cWESWQDeIo3L1eZaKvI8C7yt",
     "timestamp": 1579028061469
    },
    {
     "file_id": "16sRkrFoL5HlIUTcin7gskRHVZf-DpyrI",
     "timestamp": 1578944945886
    },
    {
     "file_id": "1Bk4XYlVn17jkLqWF1mnR15fJfwOqz6B7",
     "timestamp": 1576007457536
    }
   ]
  },
  "kernelspec": {
   "display_name": "Python 3",
   "language": "python",
   "name": "python3"
  },
  "language_info": {
   "codemirror_mode": {
    "name": "ipython",
    "version": 3
   },
   "file_extension": ".py",
   "mimetype": "text/x-python",
   "name": "python",
   "nbconvert_exporter": "python",
   "pygments_lexer": "ipython3",
   "version": "3.6.10"
  },
  "widgets": {
   "application/vnd.jupyter.widget-state+json": {
    "0b98859efa364fe2ae058589db79c4f1": {
     "model_module": "@jupyter-widgets/controls",
     "model_name": "ProgressStyleModel",
     "state": {
      "_model_module": "@jupyter-widgets/controls",
      "_model_module_version": "1.5.0",
      "_model_name": "ProgressStyleModel",
      "_view_count": null,
      "_view_module": "@jupyter-widgets/base",
      "_view_module_version": "1.2.0",
      "_view_name": "StyleView",
      "bar_color": null,
      "description_width": "initial"
     }
    },
    "12e82898662647269794ca42f003560c": {
     "model_module": "@jupyter-widgets/controls",
     "model_name": "IntProgressModel",
     "state": {
      "_dom_classes": [],
      "_model_module": "@jupyter-widgets/controls",
      "_model_module_version": "1.5.0",
      "_model_name": "IntProgressModel",
      "_view_count": null,
      "_view_module": "@jupyter-widgets/controls",
      "_view_module_version": "1.5.0",
      "_view_name": "ProgressView",
      "bar_style": "",
      "description": " 10%",
      "description_tooltip": null,
      "layout": "IPY_MODEL_3d42d5deb0324f3283eb39c5cfdc870a",
      "max": 777,
      "min": 0,
      "orientation": "horizontal",
      "style": "IPY_MODEL_853c7eaa6f2748ef9efaaebbeb96df7d",
      "value": 77
     }
    },
    "12fcf16cf75a4ea6ad5425c560660be3": {
     "model_module": "@jupyter-widgets/controls",
     "model_name": "HTMLModel",
     "state": {
      "_dom_classes": [],
      "_model_module": "@jupyter-widgets/controls",
      "_model_module_version": "1.5.0",
      "_model_name": "HTMLModel",
      "_view_count": null,
      "_view_module": "@jupyter-widgets/controls",
      "_view_module_version": "1.5.0",
      "_view_name": "HTMLView",
      "description": "",
      "description_tooltip": null,
      "layout": "IPY_MODEL_8c8a14ac5bb24500bdc8625e564ec1f4",
      "placeholder": "​",
      "style": "IPY_MODEL_bd05bc7729d24956bba47f8c9bbaffe8",
      "value": " 777/777 [27:18&lt;00:00,  2.11s/it]"
     }
    },
    "2e0c5d5d4e5c4a20806ad7f25f462c27": {
     "model_module": "@jupyter-widgets/controls",
     "model_name": "HBoxModel",
     "state": {
      "_dom_classes": [],
      "_model_module": "@jupyter-widgets/controls",
      "_model_module_version": "1.5.0",
      "_model_name": "HBoxModel",
      "_view_count": null,
      "_view_module": "@jupyter-widgets/controls",
      "_view_module_version": "1.5.0",
      "_view_name": "HBoxView",
      "box_style": "",
      "children": [
       "IPY_MODEL_7d394676d60a49ce8981cb2c7d77a584",
       "IPY_MODEL_12fcf16cf75a4ea6ad5425c560660be3"
      ],
      "layout": "IPY_MODEL_c0d57e7df96c458a9b99d81337fc477f"
     }
    },
    "335466baadc941b9808f5fbccb8d2d01": {
     "model_module": "@jupyter-widgets/base",
     "model_name": "LayoutModel",
     "state": {
      "_model_module": "@jupyter-widgets/base",
      "_model_module_version": "1.2.0",
      "_model_name": "LayoutModel",
      "_view_count": null,
      "_view_module": "@jupyter-widgets/base",
      "_view_module_version": "1.2.0",
      "_view_name": "LayoutView",
      "align_content": null,
      "align_items": null,
      "align_self": null,
      "border": null,
      "bottom": null,
      "display": null,
      "flex": null,
      "flex_flow": null,
      "grid_area": null,
      "grid_auto_columns": null,
      "grid_auto_flow": null,
      "grid_auto_rows": null,
      "grid_column": null,
      "grid_gap": null,
      "grid_row": null,
      "grid_template_areas": null,
      "grid_template_columns": null,
      "grid_template_rows": null,
      "height": null,
      "justify_content": null,
      "justify_items": null,
      "left": null,
      "margin": null,
      "max_height": null,
      "max_width": null,
      "min_height": null,
      "min_width": null,
      "object_fit": null,
      "object_position": null,
      "order": null,
      "overflow": null,
      "overflow_x": null,
      "overflow_y": null,
      "padding": null,
      "right": null,
      "top": null,
      "visibility": null,
      "width": null
     }
    },
    "3d42d5deb0324f3283eb39c5cfdc870a": {
     "model_module": "@jupyter-widgets/base",
     "model_name": "LayoutModel",
     "state": {
      "_model_module": "@jupyter-widgets/base",
      "_model_module_version": "1.2.0",
      "_model_name": "LayoutModel",
      "_view_count": null,
      "_view_module": "@jupyter-widgets/base",
      "_view_module_version": "1.2.0",
      "_view_name": "LayoutView",
      "align_content": null,
      "align_items": null,
      "align_self": null,
      "border": null,
      "bottom": null,
      "display": null,
      "flex": null,
      "flex_flow": null,
      "grid_area": null,
      "grid_auto_columns": null,
      "grid_auto_flow": null,
      "grid_auto_rows": null,
      "grid_column": null,
      "grid_gap": null,
      "grid_row": null,
      "grid_template_areas": null,
      "grid_template_columns": null,
      "grid_template_rows": null,
      "height": null,
      "justify_content": null,
      "justify_items": null,
      "left": null,
      "margin": null,
      "max_height": null,
      "max_width": null,
      "min_height": null,
      "min_width": null,
      "object_fit": null,
      "object_position": null,
      "order": null,
      "overflow": null,
      "overflow_x": null,
      "overflow_y": null,
      "padding": null,
      "right": null,
      "top": null,
      "visibility": null,
      "width": null
     }
    },
    "463d9fb150a34fcb962cfd923108f6d2": {
     "model_module": "@jupyter-widgets/controls",
     "model_name": "DescriptionStyleModel",
     "state": {
      "_model_module": "@jupyter-widgets/controls",
      "_model_module_version": "1.5.0",
      "_model_name": "DescriptionStyleModel",
      "_view_count": null,
      "_view_module": "@jupyter-widgets/base",
      "_view_module_version": "1.2.0",
      "_view_name": "StyleView",
      "description_width": ""
     }
    },
    "622c9a2e36aa463f9329b135eaeed637": {
     "model_module": "@jupyter-widgets/controls",
     "model_name": "HTMLModel",
     "state": {
      "_dom_classes": [],
      "_model_module": "@jupyter-widgets/controls",
      "_model_module_version": "1.5.0",
      "_model_name": "HTMLModel",
      "_view_count": null,
      "_view_module": "@jupyter-widgets/controls",
      "_view_module_version": "1.5.0",
      "_view_name": "HTMLView",
      "description": "",
      "description_tooltip": null,
      "layout": "IPY_MODEL_8756187b875049feb911033e15ad0f59",
      "placeholder": "​",
      "style": "IPY_MODEL_6ca4a8ba6e9b4284a095fed8a69025bf",
      "value": " 77/777 [02:42&lt;24:33,  2.11s/it]"
     }
    },
    "62a05d666f3a46f2ac5e51f469499508": {
     "model_module": "@jupyter-widgets/controls",
     "model_name": "HTMLModel",
     "state": {
      "_dom_classes": [],
      "_model_module": "@jupyter-widgets/controls",
      "_model_module_version": "1.5.0",
      "_model_name": "HTMLModel",
      "_view_count": null,
      "_view_module": "@jupyter-widgets/controls",
      "_view_module_version": "1.5.0",
      "_view_name": "HTMLView",
      "description": "",
      "description_tooltip": null,
      "layout": "IPY_MODEL_95c67c8913ff47798a59c5d08704f0dc",
      "placeholder": "​",
      "style": "IPY_MODEL_463d9fb150a34fcb962cfd923108f6d2",
      "value": " 1/40 [27:18&lt;17:44:49, 1638.18s/it]"
     }
    },
    "6ca4a8ba6e9b4284a095fed8a69025bf": {
     "model_module": "@jupyter-widgets/controls",
     "model_name": "DescriptionStyleModel",
     "state": {
      "_model_module": "@jupyter-widgets/controls",
      "_model_module_version": "1.5.0",
      "_model_name": "DescriptionStyleModel",
      "_view_count": null,
      "_view_module": "@jupyter-widgets/base",
      "_view_module_version": "1.2.0",
      "_view_name": "StyleView",
      "description_width": ""
     }
    },
    "7d394676d60a49ce8981cb2c7d77a584": {
     "model_module": "@jupyter-widgets/controls",
     "model_name": "IntProgressModel",
     "state": {
      "_dom_classes": [],
      "_model_module": "@jupyter-widgets/controls",
      "_model_module_version": "1.5.0",
      "_model_name": "IntProgressModel",
      "_view_count": null,
      "_view_module": "@jupyter-widgets/controls",
      "_view_module_version": "1.5.0",
      "_view_name": "ProgressView",
      "bar_style": "success",
      "description": "100%",
      "description_tooltip": null,
      "layout": "IPY_MODEL_d11a257b15764546adccbc58280ef2fe",
      "max": 777,
      "min": 0,
      "orientation": "horizontal",
      "style": "IPY_MODEL_cb543f3404384ec8b03780dba04e6e25",
      "value": 777
     }
    },
    "853c7eaa6f2748ef9efaaebbeb96df7d": {
     "model_module": "@jupyter-widgets/controls",
     "model_name": "ProgressStyleModel",
     "state": {
      "_model_module": "@jupyter-widgets/controls",
      "_model_module_version": "1.5.0",
      "_model_name": "ProgressStyleModel",
      "_view_count": null,
      "_view_module": "@jupyter-widgets/base",
      "_view_module_version": "1.2.0",
      "_view_name": "StyleView",
      "bar_color": null,
      "description_width": "initial"
     }
    },
    "8756187b875049feb911033e15ad0f59": {
     "model_module": "@jupyter-widgets/base",
     "model_name": "LayoutModel",
     "state": {
      "_model_module": "@jupyter-widgets/base",
      "_model_module_version": "1.2.0",
      "_model_name": "LayoutModel",
      "_view_count": null,
      "_view_module": "@jupyter-widgets/base",
      "_view_module_version": "1.2.0",
      "_view_name": "LayoutView",
      "align_content": null,
      "align_items": null,
      "align_self": null,
      "border": null,
      "bottom": null,
      "display": null,
      "flex": null,
      "flex_flow": null,
      "grid_area": null,
      "grid_auto_columns": null,
      "grid_auto_flow": null,
      "grid_auto_rows": null,
      "grid_column": null,
      "grid_gap": null,
      "grid_row": null,
      "grid_template_areas": null,
      "grid_template_columns": null,
      "grid_template_rows": null,
      "height": null,
      "justify_content": null,
      "justify_items": null,
      "left": null,
      "margin": null,
      "max_height": null,
      "max_width": null,
      "min_height": null,
      "min_width": null,
      "object_fit": null,
      "object_position": null,
      "order": null,
      "overflow": null,
      "overflow_x": null,
      "overflow_y": null,
      "padding": null,
      "right": null,
      "top": null,
      "visibility": null,
      "width": null
     }
    },
    "8c8a14ac5bb24500bdc8625e564ec1f4": {
     "model_module": "@jupyter-widgets/base",
     "model_name": "LayoutModel",
     "state": {
      "_model_module": "@jupyter-widgets/base",
      "_model_module_version": "1.2.0",
      "_model_name": "LayoutModel",
      "_view_count": null,
      "_view_module": "@jupyter-widgets/base",
      "_view_module_version": "1.2.0",
      "_view_name": "LayoutView",
      "align_content": null,
      "align_items": null,
      "align_self": null,
      "border": null,
      "bottom": null,
      "display": null,
      "flex": null,
      "flex_flow": null,
      "grid_area": null,
      "grid_auto_columns": null,
      "grid_auto_flow": null,
      "grid_auto_rows": null,
      "grid_column": null,
      "grid_gap": null,
      "grid_row": null,
      "grid_template_areas": null,
      "grid_template_columns": null,
      "grid_template_rows": null,
      "height": null,
      "justify_content": null,
      "justify_items": null,
      "left": null,
      "margin": null,
      "max_height": null,
      "max_width": null,
      "min_height": null,
      "min_width": null,
      "object_fit": null,
      "object_position": null,
      "order": null,
      "overflow": null,
      "overflow_x": null,
      "overflow_y": null,
      "padding": null,
      "right": null,
      "top": null,
      "visibility": null,
      "width": null
     }
    },
    "95c67c8913ff47798a59c5d08704f0dc": {
     "model_module": "@jupyter-widgets/base",
     "model_name": "LayoutModel",
     "state": {
      "_model_module": "@jupyter-widgets/base",
      "_model_module_version": "1.2.0",
      "_model_name": "LayoutModel",
      "_view_count": null,
      "_view_module": "@jupyter-widgets/base",
      "_view_module_version": "1.2.0",
      "_view_name": "LayoutView",
      "align_content": null,
      "align_items": null,
      "align_self": null,
      "border": null,
      "bottom": null,
      "display": null,
      "flex": null,
      "flex_flow": null,
      "grid_area": null,
      "grid_auto_columns": null,
      "grid_auto_flow": null,
      "grid_auto_rows": null,
      "grid_column": null,
      "grid_gap": null,
      "grid_row": null,
      "grid_template_areas": null,
      "grid_template_columns": null,
      "grid_template_rows": null,
      "height": null,
      "justify_content": null,
      "justify_items": null,
      "left": null,
      "margin": null,
      "max_height": null,
      "max_width": null,
      "min_height": null,
      "min_width": null,
      "object_fit": null,
      "object_position": null,
      "order": null,
      "overflow": null,
      "overflow_x": null,
      "overflow_y": null,
      "padding": null,
      "right": null,
      "top": null,
      "visibility": null,
      "width": null
     }
    },
    "9f6c34d77a82465ab781d01d297c8596": {
     "model_module": "@jupyter-widgets/controls",
     "model_name": "IntProgressModel",
     "state": {
      "_dom_classes": [],
      "_model_module": "@jupyter-widgets/controls",
      "_model_module_version": "1.5.0",
      "_model_name": "IntProgressModel",
      "_view_count": null,
      "_view_module": "@jupyter-widgets/controls",
      "_view_module_version": "1.5.0",
      "_view_name": "ProgressView",
      "bar_style": "",
      "description": "  2%",
      "description_tooltip": null,
      "layout": "IPY_MODEL_c27befb643d847cc9f67278c9d3365ed",
      "max": 40,
      "min": 0,
      "orientation": "horizontal",
      "style": "IPY_MODEL_0b98859efa364fe2ae058589db79c4f1",
      "value": 1
     }
    },
    "bd05bc7729d24956bba47f8c9bbaffe8": {
     "model_module": "@jupyter-widgets/controls",
     "model_name": "DescriptionStyleModel",
     "state": {
      "_model_module": "@jupyter-widgets/controls",
      "_model_module_version": "1.5.0",
      "_model_name": "DescriptionStyleModel",
      "_view_count": null,
      "_view_module": "@jupyter-widgets/base",
      "_view_module_version": "1.2.0",
      "_view_name": "StyleView",
      "description_width": ""
     }
    },
    "c0d57e7df96c458a9b99d81337fc477f": {
     "model_module": "@jupyter-widgets/base",
     "model_name": "LayoutModel",
     "state": {
      "_model_module": "@jupyter-widgets/base",
      "_model_module_version": "1.2.0",
      "_model_name": "LayoutModel",
      "_view_count": null,
      "_view_module": "@jupyter-widgets/base",
      "_view_module_version": "1.2.0",
      "_view_name": "LayoutView",
      "align_content": null,
      "align_items": null,
      "align_self": null,
      "border": null,
      "bottom": null,
      "display": null,
      "flex": null,
      "flex_flow": null,
      "grid_area": null,
      "grid_auto_columns": null,
      "grid_auto_flow": null,
      "grid_auto_rows": null,
      "grid_column": null,
      "grid_gap": null,
      "grid_row": null,
      "grid_template_areas": null,
      "grid_template_columns": null,
      "grid_template_rows": null,
      "height": null,
      "justify_content": null,
      "justify_items": null,
      "left": null,
      "margin": null,
      "max_height": null,
      "max_width": null,
      "min_height": null,
      "min_width": null,
      "object_fit": null,
      "object_position": null,
      "order": null,
      "overflow": null,
      "overflow_x": null,
      "overflow_y": null,
      "padding": null,
      "right": null,
      "top": null,
      "visibility": null,
      "width": null
     }
    },
    "c10ee4a993bb4395841c8c9e75bec4ce": {
     "model_module": "@jupyter-widgets/controls",
     "model_name": "HBoxModel",
     "state": {
      "_dom_classes": [],
      "_model_module": "@jupyter-widgets/controls",
      "_model_module_version": "1.5.0",
      "_model_name": "HBoxModel",
      "_view_count": null,
      "_view_module": "@jupyter-widgets/controls",
      "_view_module_version": "1.5.0",
      "_view_name": "HBoxView",
      "box_style": "",
      "children": [
       "IPY_MODEL_9f6c34d77a82465ab781d01d297c8596",
       "IPY_MODEL_62a05d666f3a46f2ac5e51f469499508"
      ],
      "layout": "IPY_MODEL_cd6f3e0001a84def9a37b9871a08aa68"
     }
    },
    "c27befb643d847cc9f67278c9d3365ed": {
     "model_module": "@jupyter-widgets/base",
     "model_name": "LayoutModel",
     "state": {
      "_model_module": "@jupyter-widgets/base",
      "_model_module_version": "1.2.0",
      "_model_name": "LayoutModel",
      "_view_count": null,
      "_view_module": "@jupyter-widgets/base",
      "_view_module_version": "1.2.0",
      "_view_name": "LayoutView",
      "align_content": null,
      "align_items": null,
      "align_self": null,
      "border": null,
      "bottom": null,
      "display": null,
      "flex": null,
      "flex_flow": null,
      "grid_area": null,
      "grid_auto_columns": null,
      "grid_auto_flow": null,
      "grid_auto_rows": null,
      "grid_column": null,
      "grid_gap": null,
      "grid_row": null,
      "grid_template_areas": null,
      "grid_template_columns": null,
      "grid_template_rows": null,
      "height": null,
      "justify_content": null,
      "justify_items": null,
      "left": null,
      "margin": null,
      "max_height": null,
      "max_width": null,
      "min_height": null,
      "min_width": null,
      "object_fit": null,
      "object_position": null,
      "order": null,
      "overflow": null,
      "overflow_x": null,
      "overflow_y": null,
      "padding": null,
      "right": null,
      "top": null,
      "visibility": null,
      "width": null
     }
    },
    "cb543f3404384ec8b03780dba04e6e25": {
     "model_module": "@jupyter-widgets/controls",
     "model_name": "ProgressStyleModel",
     "state": {
      "_model_module": "@jupyter-widgets/controls",
      "_model_module_version": "1.5.0",
      "_model_name": "ProgressStyleModel",
      "_view_count": null,
      "_view_module": "@jupyter-widgets/base",
      "_view_module_version": "1.2.0",
      "_view_name": "StyleView",
      "bar_color": null,
      "description_width": "initial"
     }
    },
    "cd6f3e0001a84def9a37b9871a08aa68": {
     "model_module": "@jupyter-widgets/base",
     "model_name": "LayoutModel",
     "state": {
      "_model_module": "@jupyter-widgets/base",
      "_model_module_version": "1.2.0",
      "_model_name": "LayoutModel",
      "_view_count": null,
      "_view_module": "@jupyter-widgets/base",
      "_view_module_version": "1.2.0",
      "_view_name": "LayoutView",
      "align_content": null,
      "align_items": null,
      "align_self": null,
      "border": null,
      "bottom": null,
      "display": null,
      "flex": null,
      "flex_flow": null,
      "grid_area": null,
      "grid_auto_columns": null,
      "grid_auto_flow": null,
      "grid_auto_rows": null,
      "grid_column": null,
      "grid_gap": null,
      "grid_row": null,
      "grid_template_areas": null,
      "grid_template_columns": null,
      "grid_template_rows": null,
      "height": null,
      "justify_content": null,
      "justify_items": null,
      "left": null,
      "margin": null,
      "max_height": null,
      "max_width": null,
      "min_height": null,
      "min_width": null,
      "object_fit": null,
      "object_position": null,
      "order": null,
      "overflow": null,
      "overflow_x": null,
      "overflow_y": null,
      "padding": null,
      "right": null,
      "top": null,
      "visibility": null,
      "width": null
     }
    },
    "d11a257b15764546adccbc58280ef2fe": {
     "model_module": "@jupyter-widgets/base",
     "model_name": "LayoutModel",
     "state": {
      "_model_module": "@jupyter-widgets/base",
      "_model_module_version": "1.2.0",
      "_model_name": "LayoutModel",
      "_view_count": null,
      "_view_module": "@jupyter-widgets/base",
      "_view_module_version": "1.2.0",
      "_view_name": "LayoutView",
      "align_content": null,
      "align_items": null,
      "align_self": null,
      "border": null,
      "bottom": null,
      "display": null,
      "flex": null,
      "flex_flow": null,
      "grid_area": null,
      "grid_auto_columns": null,
      "grid_auto_flow": null,
      "grid_auto_rows": null,
      "grid_column": null,
      "grid_gap": null,
      "grid_row": null,
      "grid_template_areas": null,
      "grid_template_columns": null,
      "grid_template_rows": null,
      "height": null,
      "justify_content": null,
      "justify_items": null,
      "left": null,
      "margin": null,
      "max_height": null,
      "max_width": null,
      "min_height": null,
      "min_width": null,
      "object_fit": null,
      "object_position": null,
      "order": null,
      "overflow": null,
      "overflow_x": null,
      "overflow_y": null,
      "padding": null,
      "right": null,
      "top": null,
      "visibility": null,
      "width": null
     }
    },
    "fbde7f626e6d40e7b06d29c802f3aff6": {
     "model_module": "@jupyter-widgets/controls",
     "model_name": "HBoxModel",
     "state": {
      "_dom_classes": [],
      "_model_module": "@jupyter-widgets/controls",
      "_model_module_version": "1.5.0",
      "_model_name": "HBoxModel",
      "_view_count": null,
      "_view_module": "@jupyter-widgets/controls",
      "_view_module_version": "1.5.0",
      "_view_name": "HBoxView",
      "box_style": "",
      "children": [
       "IPY_MODEL_12e82898662647269794ca42f003560c",
       "IPY_MODEL_622c9a2e36aa463f9329b135eaeed637"
      ],
      "layout": "IPY_MODEL_335466baadc941b9808f5fbccb8d2d01"
     }
    }
   }
  }
 },
 "nbformat": 4,
 "nbformat_minor": 1
}
