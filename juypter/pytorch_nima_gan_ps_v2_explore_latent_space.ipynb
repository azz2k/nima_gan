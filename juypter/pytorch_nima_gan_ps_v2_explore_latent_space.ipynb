{
 "cells": [
  {
   "cell_type": "code",
   "execution_count": 1,
   "metadata": {},
   "outputs": [
    {
     "name": "stdout",
     "output_type": "stream",
     "text": [
      "Mon Apr 13 16:30:26 2020       \r\n",
      "+-----------------------------------------------------------------------------+\r\n",
      "| NVIDIA-SMI 418.67       Driver Version: 418.67       CUDA Version: 10.1     |\r\n",
      "|-------------------------------+----------------------+----------------------+\r\n",
      "| GPU  Name        Persistence-M| Bus-Id        Disp.A | Volatile Uncorr. ECC |\r\n",
      "| Fan  Temp  Perf  Pwr:Usage/Cap|         Memory-Usage | GPU-Util  Compute M. |\r\n",
      "|===============================+======================+======================|\r\n",
      "|   0  Quadro P6000        On   | 00000000:00:05.0 Off |                  Off |\r\n",
      "| 26%   36C    P0    66W / 250W |      1MiB / 24449MiB |      0%      Default |\r\n",
      "+-------------------------------+----------------------+----------------------+\r\n",
      "                                                                               \r\n",
      "+-----------------------------------------------------------------------------+\r\n",
      "| Processes:                                                       GPU Memory |\r\n",
      "|  GPU       PID   Type   Process name                             Usage      |\r\n",
      "|=============================================================================|\r\n",
      "|  No running processes found                                                 |\r\n",
      "+-----------------------------------------------------------------------------+\r\n"
     ]
    }
   ],
   "source": [
    "!nvidia-smi"
   ]
  },
  {
   "cell_type": "code",
   "execution_count": 2,
   "metadata": {},
   "outputs": [],
   "source": [
    "import numpy as np\n",
    "import math\n",
    "import os\n",
    "from tqdm.auto import tqdm\n",
    "\n",
    "from matplotlib import pyplot as plt\n",
    "import matplotlib.animation as animation\n",
    "from IPython.display import HTML\n",
    "\n",
    "import statsmodels.api as sm\n",
    "\n",
    "import torch\n",
    "import torch.nn as nn\n",
    "import torchvision.transforms as transforms\n",
    "import torchvision.utils as vutils"
   ]
  },
  {
   "cell_type": "code",
   "execution_count": 3,
   "metadata": {},
   "outputs": [
    {
     "name": "stdout",
     "output_type": "stream",
     "text": [
      "True 1 Quadro P6000\n"
     ]
    }
   ],
   "source": [
    "print(torch.cuda.is_available(), torch.cuda.device_count(), torch.cuda.get_device_name(0))"
   ]
  },
  {
   "cell_type": "code",
   "execution_count": 4,
   "metadata": {},
   "outputs": [],
   "source": [
    "# Number of channels in the training images. For color images this is 3\n",
    "nc = 3\n",
    "\n",
    "# Size of z latent vector (i.e. size of generator input)\n",
    "nz = 100\n",
    "\n",
    "# Size of feature maps in generator\n",
    "ngf = 64\n",
    "\n",
    "# model path\n",
    "model_path = \"/storage/\"\n",
    "\n",
    "# model name\n",
    "model_name_pt = \"pytorch_nima_ps_v2_netg20200324-202041\"\n",
    "\n",
    "# config device\n",
    "device = torch.device(\"cuda:0\") # torch.device(\"cpu\")"
   ]
  },
  {
   "cell_type": "code",
   "execution_count": 5,
   "metadata": {},
   "outputs": [],
   "source": [
    "# Generator Code\n",
    "\n",
    "class Generator(nn.Module):\n",
    "  def __init__(self, ngpu):\n",
    "    super(Generator, self).__init__()\n",
    "    self.ngpu = ngpu\n",
    "    self.main = nn.Sequential(\n",
    "      nn.ConvTranspose2d(in_channels=nz, \n",
    "                         out_channels=ngf*16, \n",
    "                         kernel_size=3, \n",
    "                         stride=1, \n",
    "                         padding=0, \n",
    "                         bias=False),\n",
    "      nn.BatchNorm2d(num_features=ngf*16),\n",
    "      nn.ReLU(True),\n",
    "      nn.ConvTranspose2d(in_channels=ngf*16, \n",
    "                         out_channels=ngf*8, \n",
    "                         kernel_size=4, \n",
    "                         stride=2, \n",
    "                         padding=1, \n",
    "                         bias=False),\n",
    "      nn.BatchNorm2d(num_features=ngf*8),\n",
    "      nn.ReLU(True),\n",
    "      nn.ConvTranspose2d(in_channels=ngf*8, \n",
    "                         out_channels=ngf*4, \n",
    "                         kernel_size=4, \n",
    "                         stride=2, \n",
    "                         padding=1, \n",
    "                         bias=False),\n",
    "      nn.BatchNorm2d(num_features=ngf*4),\n",
    "      nn.ReLU(True),\n",
    "      nn.ConvTranspose2d(in_channels=ngf*4, \n",
    "                         out_channels=ngf*2, \n",
    "                         kernel_size=4, \n",
    "                         stride=2, \n",
    "                         padding=1, \n",
    "                         bias=False),\n",
    "      nn.BatchNorm2d(num_features=ngf*2),\n",
    "      nn.ReLU(True),\n",
    "      nn.ConvTranspose2d(in_channels=ngf*2, \n",
    "                         out_channels=ngf, \n",
    "                         kernel_size=4, \n",
    "                         stride=2, \n",
    "                         padding=1, \n",
    "                         bias=False),\n",
    "      nn.BatchNorm2d(num_features=ngf),\n",
    "      nn.ReLU(True),\n",
    "      nn.ConvTranspose2d(in_channels=ngf, \n",
    "                         out_channels=nc, \n",
    "                         kernel_size=4, \n",
    "                         stride=2, \n",
    "                         padding=1, \n",
    "                         bias=False),\n",
    "      nn.Tanh()\n",
    "    )\n",
    "  def forward(self, input):\n",
    "      return self.main(input)"
   ]
  },
  {
   "cell_type": "code",
   "execution_count": 6,
   "metadata": {},
   "outputs": [
    {
     "name": "stdout",
     "output_type": "stream",
     "text": [
      "Generator(\n",
      "  (main): Sequential(\n",
      "    (0): ConvTranspose2d(100, 1024, kernel_size=(3, 3), stride=(1, 1), bias=False)\n",
      "    (1): BatchNorm2d(1024, eps=1e-05, momentum=0.1, affine=True, track_running_stats=True)\n",
      "    (2): ReLU(inplace=True)\n",
      "    (3): ConvTranspose2d(1024, 512, kernel_size=(4, 4), stride=(2, 2), padding=(1, 1), bias=False)\n",
      "    (4): BatchNorm2d(512, eps=1e-05, momentum=0.1, affine=True, track_running_stats=True)\n",
      "    (5): ReLU(inplace=True)\n",
      "    (6): ConvTranspose2d(512, 256, kernel_size=(4, 4), stride=(2, 2), padding=(1, 1), bias=False)\n",
      "    (7): BatchNorm2d(256, eps=1e-05, momentum=0.1, affine=True, track_running_stats=True)\n",
      "    (8): ReLU(inplace=True)\n",
      "    (9): ConvTranspose2d(256, 128, kernel_size=(4, 4), stride=(2, 2), padding=(1, 1), bias=False)\n",
      "    (10): BatchNorm2d(128, eps=1e-05, momentum=0.1, affine=True, track_running_stats=True)\n",
      "    (11): ReLU(inplace=True)\n",
      "    (12): ConvTranspose2d(128, 64, kernel_size=(4, 4), stride=(2, 2), padding=(1, 1), bias=False)\n",
      "    (13): BatchNorm2d(64, eps=1e-05, momentum=0.1, affine=True, track_running_stats=True)\n",
      "    (14): ReLU(inplace=True)\n",
      "    (15): ConvTranspose2d(64, 3, kernel_size=(4, 4), stride=(2, 2), padding=(1, 1), bias=False)\n",
      "    (16): Tanh()\n",
      "  )\n",
      ")\n",
      "12069760\n"
     ]
    }
   ],
   "source": [
    "# Create the generator\n",
    "netG = Generator(0).to(device)\n",
    "\n",
    "# output\n",
    "print(netG)\n",
    "print(sum(p.numel() for p in netG.parameters()))"
   ]
  },
  {
   "cell_type": "code",
   "execution_count": 7,
   "metadata": {},
   "outputs": [
    {
     "data": {
      "text/plain": [
       "<All keys matched successfully>"
      ]
     },
     "execution_count": 7,
     "metadata": {},
     "output_type": "execute_result"
    }
   ],
   "source": [
    "# load state dict\n",
    "netG.load_state_dict(torch.load(os.path.join(model_path, model_name_pt), map_location=device))"
   ]
  },
  {
   "cell_type": "markdown",
   "metadata": {},
   "source": [
    "# Example images"
   ]
  },
  {
   "cell_type": "code",
   "execution_count": null,
   "metadata": {},
   "outputs": [],
   "source": [
    "n_imgs = 64\n",
    "\n",
    "# random input vector\n",
    "noise = torch.randn(n_imgs, nz, 1, 1, device=device)\n",
    "# generate images\n",
    "img = netG(noise).detach().cpu()\n",
    "\n",
    "# plot images\n",
    "plt.figure(figsize=(math.ceil(math.sqrt(n_imgs)), math.ceil(math.sqrt(n_imgs))), dpi=128)\n",
    "for i in range(n_imgs):\n",
    "    plt.subplot(8, 8, i+1)\n",
    "    plt.axis(\"off\")\n",
    "    plt.imshow(np.transpose(img[i], (1,2,0))/2 + 0.5)\n",
    "plt.tight_layout()\n",
    "plt.show()"
   ]
  },
  {
   "cell_type": "markdown",
   "metadata": {},
   "source": [
    "# Explore latent space around a point"
   ]
  },
  {
   "cell_type": "code",
   "execution_count": null,
   "metadata": {},
   "outputs": [],
   "source": [
    "n_imgs = 64\n",
    "\n",
    "# generate center\n",
    "latent_center = torch.randn((n_imgs, nz, 1, 1), device=device)\n",
    "\n",
    "# generate image\n",
    "img_center = netG(latent_center).detach().cpu()"
   ]
  },
  {
   "cell_type": "code",
   "execution_count": null,
   "metadata": {},
   "outputs": [],
   "source": [
    "# jitter the latent center with noise and generate image\n",
    "imgs_jitter = []\n",
    "for p in np.linspace(0, 1, 50):\n",
    "    # generate noise\n",
    "    noise = torch.randn(n_imgs, nz, 1, 1, device=device)\n",
    "    # jitter\n",
    "    imgs_jitter.append(netG(0.8*latent_center + 0.2 * noise).detach().cpu())\n",
    "\n",
    "imgs_jitter = [vutils.make_grid(i, nrow = math.ceil(math.sqrt(n_imgs)), padding=2, normalize=True) for i in imgs_jitter]\n",
    "    \n",
    "# prepare animation\n",
    "fig = plt.figure(figsize=(math.ceil(math.sqrt(n_imgs)), math.ceil(math.sqrt(n_imgs))), dpi=96)\n",
    "plt.axis(\"off\")\n",
    "ims = [[plt.imshow(np.transpose(i,(1,2,0)), animated=True)] for i in imgs_jitter]\n",
    "ani = animation.ArtistAnimation(fig, ims, interval=100, repeat_delay=1000, blit=True)\n",
    "\n",
    "# display animation\n",
    "HTML(ani.to_jshtml())"
   ]
  },
  {
   "cell_type": "code",
   "execution_count": null,
   "metadata": {},
   "outputs": [],
   "source": [
    "# jitter the latent center with noise and generate image\n",
    "imgs_jitter = {}\n",
    "for p in tqdm(np.linspace(0, 1, 500)):\n",
    "    # generate noise\n",
    "    noise = torch.randn(n_imgs, nz, 1, 1, device=device)\n",
    "    # jitter\n",
    "    imgs_jitter[p] =  (noise, netG((1-p)*latent_center + p * noise).detach().cpu())"
   ]
  },
  {
   "cell_type": "code",
   "execution_count": null,
   "metadata": {},
   "outputs": [],
   "source": [
    "dxs = []\n",
    "dis = []\n",
    "for p, (noise, img_jitter) in imgs_jitter.items():\n",
    "    dx = (latent_center - (1-p)*latent_center - p*noise).abs().mean((1,2,3))\n",
    "    di = (img_center - img_jitter).abs().mean((1,2,3))\n",
    "    dxs.extend(dx.detach().cpu())\n",
    "    dis.extend(di.detach().cpu())\n",
    "\n",
    "lowess = sm.nonparametric.lowess(dis, dxs, frac=0.1)\n",
    "    \n",
    "plt.figure(figsize=(8,8), dpi=100)\n",
    "plt.plot(dxs, dis, \",\")\n",
    "plt.plot(lowess[:, 0], lowess[:, 1], \"-\")\n",
    "plt.gca().set_aspect(\"equal\")\n",
    "plt.show()"
   ]
  },
  {
   "cell_type": "markdown",
   "metadata": {},
   "source": [
    "# Explore latent space around points systematically"
   ]
  },
  {
   "cell_type": "code",
   "execution_count": 21,
   "metadata": {},
   "outputs": [
    {
     "data": {
      "application/vnd.jupyter.widget-view+json": {
       "model_id": "b43445224fe84ef3bdfd110ca254ef49",
       "version_major": 2,
       "version_minor": 0
      },
      "text/plain": [
       "HBox(children=(FloatProgress(value=0.0, max=20.0), HTML(value='')))"
      ]
     },
     "metadata": {},
     "output_type": "display_data"
    },
    {
     "name": "stdout",
     "output_type": "stream",
     "text": [
      "\n"
     ]
    },
    {
     "data": {
      "image/png": "[encoded data removed]",
      "text/plain": [
       "<Figure size 800x800 with 1 Axes>"
      ]
     },
     "metadata": {
      "needs_background": "light"
     },
     "output_type": "display_data"
    }
   ],
   "source": [
    "n_imgs = 128 #512\n",
    "\n",
    "fig = plt.figure(figsize=(8,8), dpi=100)\n",
    "for k in tqdm(range(20)):\n",
    "    # generate center\n",
    "    latent_center = torch.randn((n_imgs, nz, 1, 1), device=device)\n",
    "\n",
    "    # generate image\n",
    "    img_center = netG(latent_center)\n",
    "\n",
    "    # jitter the latent center with noise and generate image\n",
    "    dxs = []\n",
    "    dis = []\n",
    "    for p in np.linspace(0, 1, 200):\n",
    "        # generate noise\n",
    "        noise = torch.randn(n_imgs, nz, 1, 1, device=device)\n",
    "        \n",
    "        # jitter\n",
    "        img_jitter =  netG((1-p)*latent_center + p * noise)\n",
    "        \n",
    "        # distances\n",
    "        dx = (latent_center - (1-p)*latent_center - p*noise).abs().mean((1,2,3)).detach().cpu()\n",
    "        di = (img_center - img_jitter).abs().mean((1,2,3)).detach().cpu()\n",
    "        \n",
    "        # cleanup\n",
    "        del(noise)\n",
    "        del(img_jitter)\n",
    "        \n",
    "        # save data\n",
    "        dxs.extend(dx)\n",
    "        dis.extend(di)\n",
    "    \n",
    "    # cleanup\n",
    "    del(img_center)\n",
    "\n",
    "    # add smooth fit\n",
    "    lowess = sm.nonparametric.lowess(dis, dxs, frac=0.05)\n",
    "    \n",
    "    # plot\n",
    "    plt.plot(lowess[:, 0], lowess[:, 1])\n",
    "\n",
    "plt.gca().set_aspect(\"equal\")\n",
    "plt.show()"
   ]
  },
  {
   "cell_type": "markdown",
   "metadata": {},
   "source": [
    "# Traverse between two points in latent space"
   ]
  },
  {
   "cell_type": "code",
   "execution_count": null,
   "metadata": {},
   "outputs": [],
   "source": [
    "n_imgs = 64\n",
    "\n",
    "# generate center\n",
    "latent_center = torch.randn((n_imgs, nz, 1, 1), device=device)\n",
    "\n",
    "# generate image\n",
    "img_center = netG(latent_center).detach().cpu()"
   ]
  },
  {
   "cell_type": "code",
   "execution_count": null,
   "metadata": {},
   "outputs": [],
   "source": [
    "# generate noise vector\n",
    "noise = torch.randn(n_imgs, nz, 1, 1, device=device)\n",
    "\n",
    "# interpolate between the latent center and noise and generate image\n",
    "imgs_jitter = []\n",
    "for p in np.linspace(0, 1, 50):\n",
    "    imgs_jitter.append(netG((1-p)*latent_center + p * noise).detach().cpu())\n",
    "\n",
    "imgs_jitter = [vutils.make_grid(i, nrow = math.ceil(math.sqrt(n_imgs)), padding=2, normalize=True) for i in imgs_jitter]\n",
    "    \n",
    "# prepare animation\n",
    "fig = plt.figure(figsize=(math.ceil(math.sqrt(n_imgs)), math.ceil(math.sqrt(n_imgs))), dpi=48)\n",
    "plt.axis(\"off\")\n",
    "ims = [[plt.imshow(np.transpose(i,(1,2,0)), animated=True)] for i in imgs_jitter]\n",
    "ani = animation.ArtistAnimation(fig, ims, interval=100, repeat_delay=1000, blit=True)\n",
    "\n",
    "# display animation\n",
    "HTML(ani.to_jshtml())"
   ]
  }
 ],
 "metadata": {
  "kernelspec": {
   "display_name": "Python 3",
   "language": "python",
   "name": "python3"
  },
  "language_info": {
   "codemirror_mode": {
    "name": "ipython",
    "version": 3
   },
   "file_extension": ".py",
   "mimetype": "text/x-python",
   "name": "python",
   "nbconvert_exporter": "python",
   "pygments_lexer": "ipython3",
   "version": "3.6.8"
  }
 },
 "nbformat": 4,
 "nbformat_minor": 2
}
